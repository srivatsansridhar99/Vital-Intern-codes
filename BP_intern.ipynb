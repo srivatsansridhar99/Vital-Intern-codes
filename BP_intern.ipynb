{
  "cells": [
    {
      "cell_type": "code",
      "execution_count": null,
      "metadata": {
        "colab": {
          "base_uri": "https://localhost:8080/"
        },
        "id": "d0FxvDYFKcV0",
        "outputId": "14eb2e80-4fa9-4a50-d8dd-73d58485c9ae"
      },
      "outputs": [
        {
          "output_type": "stream",
          "name": "stdout",
          "text": [
            "Mounted at /content/gdrive\n"
          ]
        }
      ],
      "source": [
        "from google.colab import drive\n",
        "drive.mount('/content/gdrive', force_remount=True)"
      ]
    },
    {
      "cell_type": "code",
      "execution_count": null,
      "metadata": {
        "colab": {
          "base_uri": "https://localhost:8080/"
        },
        "id": "RBJO3tiIK8qT",
        "outputId": "608c94a4-f370-4a50-a6be-30322f74e38d"
      },
      "outputs": [
        {
          "output_type": "stream",
          "name": "stdout",
          "text": [
            "/content/gdrive/MyDrive/Intern bp\n"
          ]
        }
      ],
      "source": [
        "%cd gdrive/MyDrive/Intern bp"
      ]
    },
    {
      "cell_type": "code",
      "execution_count": null,
      "metadata": {
        "id": "BYQKzN97V9H1"
      },
      "outputs": [],
      "source": [
        "import matplotlib.pyplot as plt "
      ]
    },
    {
      "cell_type": "code",
      "execution_count": null,
      "metadata": {
        "id": "ElGev1H5Ln7o"
      },
      "outputs": [],
      "source": [
        "import pandas as pd \n",
        "x = pd.read_csv('processed_x.csv')\n",
        "y = pd.read_csv('processed_y.csv')\n",
        "y_unscaled = pd.read_csv('bp_values_videos_removed.csv')"
      ]
    },
    {
      "cell_type": "markdown",
      "metadata": {
        "id": "ZSbuLDhEvK-Z"
      },
      "source": [
        "Scale the y values"
      ]
    },
    {
      "cell_type": "code",
      "execution_count": null,
      "metadata": {
        "id": "ob9XPFbCukwn"
      },
      "outputs": [],
      "source": [
        "from sklearn.preprocessing import MinMaxScaler"
      ]
    },
    {
      "cell_type": "code",
      "execution_count": null,
      "metadata": {
        "colab": {
          "base_uri": "https://localhost:8080/"
        },
        "id": "D5HORk3ruvH2",
        "outputId": "dc2def49-64c5-4d09-910b-d4c5dcaaa6f2"
      },
      "outputs": [
        {
          "output_type": "stream",
          "name": "stdout",
          "text": [
            "[[0.2826087  0.29787234]\n",
            " [0.2826087  0.29787234]\n",
            " [0.2826087  0.29787234]\n",
            " [0.2826087  0.29787234]\n",
            " [0.2826087  0.29787234]\n",
            " [0.2826087  0.29787234]\n",
            " [0.2826087  0.29787234]\n",
            " [0.2826087  0.29787234]\n",
            " [0.2826087  0.29787234]\n",
            " [0.2826087  0.29787234]\n",
            " [0.2826087  0.29787234]\n",
            " [0.93478261 0.72340426]\n",
            " [0.93478261 0.72340426]\n",
            " [0.93478261 0.72340426]\n",
            " [0.93478261 0.72340426]\n",
            " [0.93478261 0.72340426]\n",
            " [0.93478261 0.72340426]\n",
            " [0.93478261 0.72340426]\n",
            " [0.93478261 0.72340426]\n",
            " [0.93478261 0.72340426]\n",
            " [0.93478261 0.72340426]\n",
            " [0.93478261 0.72340426]\n",
            " [1.         0.72340426]\n",
            " [1.         0.72340426]\n",
            " [1.         0.72340426]\n",
            " [1.         0.72340426]\n",
            " [1.         0.72340426]\n",
            " [1.         0.72340426]\n",
            " [1.         0.72340426]\n",
            " [1.         0.72340426]\n",
            " [1.         0.72340426]\n",
            " [1.         0.72340426]\n",
            " [1.         0.72340426]\n",
            " [0.02173913 0.36170213]\n",
            " [0.02173913 0.36170213]\n",
            " [0.02173913 0.36170213]\n",
            " [0.02173913 0.36170213]\n",
            " [0.02173913 0.36170213]\n",
            " [0.02173913 0.36170213]\n",
            " [0.02173913 0.36170213]\n",
            " [0.02173913 0.36170213]\n",
            " [0.02173913 0.36170213]\n",
            " [0.02173913 0.36170213]\n",
            " [0.02173913 0.36170213]\n",
            " [0.17391304 0.08510638]\n",
            " [0.17391304 0.08510638]\n",
            " [0.17391304 0.08510638]\n",
            " [0.17391304 0.08510638]\n",
            " [0.17391304 0.08510638]\n",
            " [0.17391304 0.08510638]\n",
            " [0.17391304 0.08510638]\n",
            " [0.17391304 0.08510638]\n",
            " [0.17391304 0.08510638]\n",
            " [0.17391304 0.08510638]\n",
            " [0.17391304 0.08510638]\n",
            " [0.19565217 0.19148936]\n",
            " [0.19565217 0.19148936]\n",
            " [0.19565217 0.19148936]\n",
            " [0.19565217 0.19148936]\n",
            " [0.19565217 0.19148936]\n",
            " [0.19565217 0.19148936]\n",
            " [0.19565217 0.19148936]\n",
            " [0.19565217 0.19148936]\n",
            " [0.19565217 0.19148936]\n",
            " [0.19565217 0.19148936]\n",
            " [0.19565217 0.19148936]\n",
            " [0.34782609 0.23404255]\n",
            " [0.34782609 0.23404255]\n",
            " [0.34782609 0.23404255]\n",
            " [0.34782609 0.23404255]\n",
            " [0.34782609 0.23404255]\n",
            " [0.34782609 0.23404255]\n",
            " [0.34782609 0.23404255]\n",
            " [0.34782609 0.23404255]\n",
            " [0.34782609 0.23404255]\n",
            " [0.34782609 0.23404255]\n",
            " [0.34782609 0.23404255]\n",
            " [0.80434783 1.        ]\n",
            " [0.80434783 1.        ]\n",
            " [0.80434783 1.        ]\n",
            " [0.80434783 1.        ]\n",
            " [0.80434783 1.        ]\n",
            " [0.80434783 1.        ]\n",
            " [0.80434783 1.        ]\n",
            " [0.80434783 1.        ]\n",
            " [0.80434783 1.        ]\n",
            " [0.80434783 1.        ]\n",
            " [0.80434783 1.        ]\n",
            " [0.60869565 0.38297872]\n",
            " [0.60869565 0.38297872]\n",
            " [0.60869565 0.38297872]\n",
            " [0.60869565 0.38297872]\n",
            " [0.60869565 0.38297872]\n",
            " [0.60869565 0.38297872]\n",
            " [0.60869565 0.38297872]\n",
            " [0.60869565 0.38297872]\n",
            " [0.60869565 0.38297872]\n",
            " [0.60869565 0.38297872]\n",
            " [0.60869565 0.38297872]\n",
            " [0.80434783 1.        ]\n",
            " [0.80434783 1.        ]\n",
            " [0.80434783 1.        ]\n",
            " [0.80434783 1.        ]\n",
            " [0.80434783 1.        ]\n",
            " [0.80434783 1.        ]\n",
            " [0.80434783 1.        ]\n",
            " [0.80434783 1.        ]\n",
            " [0.80434783 1.        ]\n",
            " [0.80434783 1.        ]\n",
            " [0.80434783 1.        ]\n",
            " [0.         0.34042553]\n",
            " [0.         0.34042553]\n",
            " [0.         0.34042553]\n",
            " [0.         0.34042553]\n",
            " [0.         0.34042553]\n",
            " [0.         0.34042553]\n",
            " [0.         0.34042553]\n",
            " [0.         0.34042553]\n",
            " [0.         0.34042553]\n",
            " [0.         0.34042553]\n",
            " [0.         0.34042553]\n",
            " [0.80434783 0.65957447]\n",
            " [0.80434783 0.65957447]\n",
            " [0.80434783 0.65957447]\n",
            " [0.80434783 0.65957447]\n",
            " [0.80434783 0.65957447]\n",
            " [0.80434783 0.65957447]\n",
            " [0.80434783 0.65957447]\n",
            " [0.80434783 0.65957447]\n",
            " [0.80434783 0.65957447]\n",
            " [0.80434783 0.65957447]\n",
            " [0.80434783 0.65957447]\n",
            " [0.67391304 0.19148936]\n",
            " [0.67391304 0.19148936]\n",
            " [0.67391304 0.19148936]\n",
            " [0.67391304 0.19148936]\n",
            " [0.67391304 0.19148936]\n",
            " [0.67391304 0.19148936]\n",
            " [0.67391304 0.19148936]\n",
            " [0.67391304 0.19148936]\n",
            " [0.67391304 0.19148936]\n",
            " [0.67391304 0.19148936]\n",
            " [0.67391304 0.19148936]\n",
            " [0.04347826 0.        ]\n",
            " [0.04347826 0.        ]\n",
            " [0.04347826 0.        ]\n",
            " [0.04347826 0.        ]\n",
            " [0.04347826 0.        ]\n",
            " [0.04347826 0.        ]\n",
            " [0.04347826 0.        ]\n",
            " [0.04347826 0.        ]\n",
            " [0.04347826 0.        ]\n",
            " [0.04347826 0.        ]\n",
            " [0.04347826 0.        ]\n",
            " [0.93478261 0.5106383 ]\n",
            " [0.93478261 0.5106383 ]\n",
            " [0.93478261 0.5106383 ]\n",
            " [0.93478261 0.5106383 ]\n",
            " [0.93478261 0.5106383 ]\n",
            " [0.93478261 0.5106383 ]\n",
            " [0.93478261 0.5106383 ]\n",
            " [0.93478261 0.5106383 ]\n",
            " [0.93478261 0.5106383 ]\n",
            " [0.93478261 0.5106383 ]\n",
            " [0.93478261 0.5106383 ]\n",
            " [0.06521739 0.17021277]\n",
            " [0.06521739 0.17021277]\n",
            " [0.06521739 0.17021277]\n",
            " [0.06521739 0.17021277]\n",
            " [0.06521739 0.17021277]\n",
            " [0.06521739 0.17021277]\n",
            " [0.06521739 0.17021277]\n",
            " [0.06521739 0.17021277]\n",
            " [0.06521739 0.17021277]\n",
            " [0.06521739 0.17021277]\n",
            " [0.06521739 0.17021277]\n",
            " [0.69565217 0.12765957]\n",
            " [0.69565217 0.12765957]\n",
            " [0.69565217 0.12765957]\n",
            " [0.69565217 0.12765957]\n",
            " [0.69565217 0.12765957]\n",
            " [0.69565217 0.12765957]\n",
            " [0.69565217 0.12765957]\n",
            " [0.69565217 0.12765957]\n",
            " [0.69565217 0.12765957]\n",
            " [0.69565217 0.12765957]\n",
            " [0.69565217 0.12765957]]\n"
          ]
        }
      ],
      "source": [
        "scaler = MinMaxScaler()\n",
        "y_scaled = scaler.fit_transform(y_unscaled)\n",
        "print(y_scaled)"
      ]
    },
    {
      "cell_type": "markdown",
      "metadata": {
        "id": "cYQ7ZDOZH9W6"
      },
      "source": [
        "Format the input data to a shape which can be accepted by the model"
      ]
    },
    {
      "cell_type": "code",
      "execution_count": null,
      "metadata": {
        "colab": {
          "base_uri": "https://localhost:8080/"
        },
        "id": "k36CS96WPWbk",
        "outputId": "bd3a413f-85e8-40e1-f214-31090f507676"
      },
      "outputs": [
        {
          "output_type": "stream",
          "name": "stdout",
          "text": [
            "(187, 6, 1)\n",
            "(187, 2)\n"
          ]
        }
      ],
      "source": [
        "import numpy as np \n",
        "x = np.array(x).reshape((187, 6, 1))\n",
        "print(x.shape)\n",
        "print(y.shape)"
      ]
    },
    {
      "cell_type": "markdown",
      "metadata": {
        "id": "nz-lvH3wQEvV"
      },
      "source": [
        "Get train, test and validation split\n"
      ]
    },
    {
      "cell_type": "code",
      "execution_count": null,
      "metadata": {
        "id": "IjcGW7o8QEej"
      },
      "outputs": [],
      "source": [
        "from sklearn.model_selection import train_test_split\n",
        "x_train_cv, x_test, y_train_cv, y_test = train_test_split(x, y, test_size=0.20, random_state=50)\n",
        "x_train, x_cv, y_train, y_cv = train_test_split(x_train_cv, y_train_cv, test_size=0.25, random_state=25)"
      ]
    },
    {
      "cell_type": "code",
      "execution_count": null,
      "metadata": {
        "colab": {
          "base_uri": "https://localhost:8080/"
        },
        "id": "O7NZtp3ZRGQ6",
        "outputId": "ae5f4cd0-0482-438c-fef9-df78dc8dd7d2"
      },
      "outputs": [
        {
          "output_type": "stream",
          "name": "stdout",
          "text": [
            "(111, 6, 1) (38, 6, 1) (38, 6, 1)\n"
          ]
        }
      ],
      "source": [
        "# x_train = np.array(x_train).reshape((111, ))\n",
        "# x_test = np.array(x_test).reshape((38, 1, 6))\n",
        "# x_cv = np.array(x_cv).reshape((38, 1, 6))\n",
        "print(x_train.shape, x_test.shape, x_cv.shape)"
      ]
    },
    {
      "cell_type": "code",
      "execution_count": null,
      "metadata": {
        "colab": {
          "base_uri": "https://localhost:8080/"
        },
        "id": "7r0hvzwDQX-M",
        "outputId": "4d557860-4a3d-4256-9616-8cb39ce25b6f"
      },
      "outputs": [
        {
          "output_type": "stream",
          "name": "stdout",
          "text": [
            "(111, 2) (38, 2) (38, 2)\n"
          ]
        }
      ],
      "source": [
        "print(y_train.shape, y_test.shape, y_cv.shape)"
      ]
    },
    {
      "cell_type": "markdown",
      "metadata": {
        "id": "9s5qiUCkSglA"
      },
      "source": [
        "Defining parameters for model"
      ]
    },
    {
      "cell_type": "code",
      "execution_count": null,
      "metadata": {
        "id": "F0QZRpIjSRmf"
      },
      "outputs": [],
      "source": [
        "epochs = 100\n",
        "batch_size = 1"
      ]
    },
    {
      "cell_type": "markdown",
      "metadata": {
        "id": "sxRNhW8a9WJe"
      },
      "source": [
        "Model design import statements"
      ]
    },
    {
      "cell_type": "code",
      "execution_count": null,
      "metadata": {
        "id": "Z1FO2y2i9V4j"
      },
      "outputs": [],
      "source": [
        "import tensorflow\n",
        "from tensorflow.keras.layers import InputLayer, GRU, BatchNormalization, Conv1D, MaxPooling1D, Bidirectional, Dense, Flatten, PReLU, LSTM, ReLU, LeakyReLU\n",
        "from tensorflow.keras.models import Sequential\n",
        "from tensorflow.keras.optimizers import Adam\n",
        "import keras "
      ]
    },
    {
      "cell_type": "markdown",
      "metadata": {
        "id": "qpKavfL7-8uf"
      },
      "source": [
        "Model design "
      ]
    },
    {
      "cell_type": "code",
      "execution_count": null,
      "metadata": {
        "colab": {
          "base_uri": "https://localhost:8080/"
        },
        "id": "8fj6TUWx--sI",
        "outputId": "1b86ae20-4232-456c-d1da-b39d73c215cb"
      },
      "outputs": [
        {
          "output_type": "stream",
          "name": "stdout",
          "text": [
            "Model: \"sequential\"\n",
            "_________________________________________________________________\n",
            " Layer (type)                Output Shape              Param #   \n",
            "=================================================================\n",
            " conv1d (Conv1D)             (None, 6, 30)             120       \n",
            "                                                                 \n",
            " leaky_re_lu (LeakyReLU)     (None, 6, 30)             0         \n",
            "                                                                 \n",
            " max_pooling1d (MaxPooling1D  (None, 6, 30)            0         \n",
            " )                                                               \n",
            "                                                                 \n",
            " batch_normalization (BatchN  (None, 6, 30)            120       \n",
            " ormalization)                                                   \n",
            "                                                                 \n",
            " conv1d_1 (Conv1D)           (None, 6, 30)             2730      \n",
            "                                                                 \n",
            " re_lu_2 (ReLU)              (None, 6, 30)             0         \n",
            "                                                                 \n",
            " max_pooling1d_1 (MaxPooling  (None, 3, 30)            0         \n",
            " 1D)                                                             \n",
            "                                                                 \n",
            " batch_normalization_1 (Batc  (None, 3, 30)            120       \n",
            " hNormalization)                                                 \n",
            "                                                                 \n",
            " bidirectional (Bidirectiona  (None, 3, 60)            11160     \n",
            " l)                                                              \n",
            "                                                                 \n",
            " batch_normalization_2 (Batc  (None, 3, 60)            240       \n",
            " hNormalization)                                                 \n",
            "                                                                 \n",
            " bidirectional_1 (Bidirectio  (None, 120)              43920     \n",
            " nal)                                                            \n",
            "                                                                 \n",
            " dense (Dense)               (None, 30)                3630      \n",
            "                                                                 \n",
            " batch_normalization_3 (Batc  (None, 30)               120       \n",
            " hNormalization)                                                 \n",
            "                                                                 \n",
            " dense_1 (Dense)             (None, 2)                 62        \n",
            "                                                                 \n",
            "=================================================================\n",
            "Total params: 62,222\n",
            "Trainable params: 61,922\n",
            "Non-trainable params: 300\n",
            "_________________________________________________________________\n"
          ]
        }
      ],
      "source": [
        "lrcn_model = Sequential()\n",
        "# first convolutional block\n",
        "lrcn_model.add(InputLayer(input_shape=(6, 1)))\n",
        "lrcn_model.add(Conv1D(filters=30, kernel_size=3, padding='causal', activation='ReLU'))\n",
        "lrcn_model.add(LeakyReLU())\n",
        "lrcn_model.add(MaxPooling1D(pool_size=1))\n",
        "lrcn_model.add(BatchNormalization())\n",
        "# second convolutional block\n",
        "lrcn_model.add(Conv1D(filters=30, kernel_size=3, padding='causal', activation='ReLU'))\n",
        "lrcn_model.add(ReLU())\n",
        "lrcn_model.add(MaxPooling1D(pool_size=2))\n",
        "lrcn_model.add(BatchNormalization())\n",
        "# first GRU block \n",
        "lrcn_model.add(Bidirectional(GRU(30, activation='sigmoid', return_sequences=True, dropout=0.3)))\n",
        "lrcn_model.add(BatchNormalization())\n",
        "# second GRU block\n",
        "lrcn_model.add(Bidirectional(GRU(60, activation='sigmoid', return_sequences=False, dropout=0.3)))\n",
        "lrcn_model.add(Dense(30, activation='tanh'))\n",
        "lrcn_model.add(BatchNormalization())\n",
        "# output dense layer \n",
        "lrcn_model.add(Dense(2, activation='linear'))\n",
        "lrcn_model.summary()"
      ]
    },
    {
      "cell_type": "code",
      "execution_count": null,
      "metadata": {
        "id": "Gpwbe8bEHIfd"
      },
      "outputs": [],
      "source": [
        "lrcn_model.compile(optimizer='Adam', loss=tensorflow.keras.losses.MeanSquaredError(), metrics=[tensorflow.keras.metrics.RootMeanSquaredError(), tensorflow.keras.metrics.MeanAbsoluteError()])"
      ]
    },
    {
      "cell_type": "code",
      "execution_count": null,
      "metadata": {
        "colab": {
          "base_uri": "https://localhost:8080/"
        },
        "id": "l43J5hcDHhDR",
        "outputId": "53afe875-29d0-4af1-e330-ae66a886ce6f"
      },
      "outputs": [
        {
          "output_type": "stream",
          "name": "stdout",
          "text": [
            "Epoch 1/100\n",
            "111/111 [==============================] - 1s 6ms/step - loss: 0.1069 - root_mean_squared_error: 0.3269 - mean_absolute_error: 0.2902 - val_loss: 53.0437 - val_root_mean_squared_error: 7.2831 - val_mean_absolute_error: 5.7606\n",
            "Epoch 2/100\n",
            "111/111 [==============================] - 1s 8ms/step - loss: 0.1079 - root_mean_squared_error: 0.3284 - mean_absolute_error: 0.2884 - val_loss: 54.0061 - val_root_mean_squared_error: 7.3489 - val_mean_absolute_error: 5.7993\n",
            "Epoch 3/100\n",
            "111/111 [==============================] - 1s 13ms/step - loss: 0.1069 - root_mean_squared_error: 0.3269 - mean_absolute_error: 0.2901 - val_loss: 51.3090 - val_root_mean_squared_error: 7.1630 - val_mean_absolute_error: 5.6676\n",
            "Epoch 4/100\n",
            "111/111 [==============================] - 1s 12ms/step - loss: 0.1064 - root_mean_squared_error: 0.3261 - mean_absolute_error: 0.2896 - val_loss: 51.6896 - val_root_mean_squared_error: 7.1895 - val_mean_absolute_error: 5.6831\n",
            "Epoch 5/100\n",
            "111/111 [==============================] - 2s 14ms/step - loss: 0.1069 - root_mean_squared_error: 0.3270 - mean_absolute_error: 0.2892 - val_loss: 51.5498 - val_root_mean_squared_error: 7.1798 - val_mean_absolute_error: 5.6497\n",
            "Epoch 6/100\n",
            "111/111 [==============================] - 1s 13ms/step - loss: 0.1075 - root_mean_squared_error: 0.3279 - mean_absolute_error: 0.2896 - val_loss: 49.4729 - val_root_mean_squared_error: 7.0337 - val_mean_absolute_error: 5.4798\n",
            "Epoch 7/100\n",
            "111/111 [==============================] - 1s 13ms/step - loss: 0.1052 - root_mean_squared_error: 0.3244 - mean_absolute_error: 0.2811 - val_loss: 53.6237 - val_root_mean_squared_error: 7.3228 - val_mean_absolute_error: 5.7737\n",
            "Epoch 8/100\n",
            "111/111 [==============================] - 1s 12ms/step - loss: 0.1084 - root_mean_squared_error: 0.3293 - mean_absolute_error: 0.2921 - val_loss: 53.8401 - val_root_mean_squared_error: 7.3376 - val_mean_absolute_error: 5.7845\n",
            "Epoch 9/100\n",
            "111/111 [==============================] - 2s 14ms/step - loss: 0.1063 - root_mean_squared_error: 0.3261 - mean_absolute_error: 0.2909 - val_loss: 51.8644 - val_root_mean_squared_error: 7.2017 - val_mean_absolute_error: 5.7200\n",
            "Epoch 10/100\n",
            "111/111 [==============================] - 2s 15ms/step - loss: 0.1065 - root_mean_squared_error: 0.3264 - mean_absolute_error: 0.2873 - val_loss: 53.7079 - val_root_mean_squared_error: 7.3286 - val_mean_absolute_error: 5.8152\n",
            "Epoch 11/100\n",
            "111/111 [==============================] - 1s 13ms/step - loss: 0.1055 - root_mean_squared_error: 0.3248 - mean_absolute_error: 0.2888 - val_loss: 50.8083 - val_root_mean_squared_error: 7.1280 - val_mean_absolute_error: 5.6848\n",
            "Epoch 12/100\n",
            "111/111 [==============================] - 2s 15ms/step - loss: 0.1062 - root_mean_squared_error: 0.3259 - mean_absolute_error: 0.2832 - val_loss: 51.6722 - val_root_mean_squared_error: 7.1883 - val_mean_absolute_error: 5.7344\n",
            "Epoch 13/100\n",
            "111/111 [==============================] - 1s 12ms/step - loss: 0.1073 - root_mean_squared_error: 0.3275 - mean_absolute_error: 0.2931 - val_loss: 49.3174 - val_root_mean_squared_error: 7.0226 - val_mean_absolute_error: 5.5908\n",
            "Epoch 14/100\n",
            "111/111 [==============================] - 1s 8ms/step - loss: 0.1070 - root_mean_squared_error: 0.3272 - mean_absolute_error: 0.2874 - val_loss: 49.6406 - val_root_mean_squared_error: 7.0456 - val_mean_absolute_error: 5.5483\n",
            "Epoch 15/100\n",
            "111/111 [==============================] - 1s 6ms/step - loss: 0.1077 - root_mean_squared_error: 0.3283 - mean_absolute_error: 0.2921 - val_loss: 48.9088 - val_root_mean_squared_error: 6.9935 - val_mean_absolute_error: 5.5111\n",
            "Epoch 16/100\n",
            "111/111 [==============================] - 1s 6ms/step - loss: 0.1067 - root_mean_squared_error: 0.3266 - mean_absolute_error: 0.2882 - val_loss: 50.8504 - val_root_mean_squared_error: 7.1309 - val_mean_absolute_error: 5.6515\n",
            "Epoch 17/100\n",
            "111/111 [==============================] - 1s 7ms/step - loss: 0.1066 - root_mean_squared_error: 0.3266 - mean_absolute_error: 0.2911 - val_loss: 47.9726 - val_root_mean_squared_error: 6.9262 - val_mean_absolute_error: 5.4907\n",
            "Epoch 18/100\n",
            "111/111 [==============================] - 1s 7ms/step - loss: 0.1062 - root_mean_squared_error: 0.3260 - mean_absolute_error: 0.2872 - val_loss: 51.0138 - val_root_mean_squared_error: 7.1424 - val_mean_absolute_error: 5.5966\n",
            "Epoch 19/100\n",
            "111/111 [==============================] - 1s 6ms/step - loss: 0.1064 - root_mean_squared_error: 0.3262 - mean_absolute_error: 0.2897 - val_loss: 47.3899 - val_root_mean_squared_error: 6.8840 - val_mean_absolute_error: 5.4543\n",
            "Epoch 20/100\n",
            "111/111 [==============================] - 1s 7ms/step - loss: 0.1054 - root_mean_squared_error: 0.3246 - mean_absolute_error: 0.2836 - val_loss: 49.9155 - val_root_mean_squared_error: 7.0651 - val_mean_absolute_error: 5.5353\n",
            "Epoch 21/100\n",
            "111/111 [==============================] - 1s 7ms/step - loss: 0.1073 - root_mean_squared_error: 0.3276 - mean_absolute_error: 0.2907 - val_loss: 46.7729 - val_root_mean_squared_error: 6.8391 - val_mean_absolute_error: 5.2947\n",
            "Epoch 22/100\n",
            "111/111 [==============================] - 1s 7ms/step - loss: 0.1069 - root_mean_squared_error: 0.3270 - mean_absolute_error: 0.2919 - val_loss: 47.4570 - val_root_mean_squared_error: 6.8889 - val_mean_absolute_error: 5.4516\n",
            "Epoch 23/100\n",
            "111/111 [==============================] - 1s 7ms/step - loss: 0.1068 - root_mean_squared_error: 0.3268 - mean_absolute_error: 0.2875 - val_loss: 52.1286 - val_root_mean_squared_error: 7.2200 - val_mean_absolute_error: 5.6292\n",
            "Epoch 24/100\n",
            "111/111 [==============================] - 1s 6ms/step - loss: 0.1066 - root_mean_squared_error: 0.3265 - mean_absolute_error: 0.2880 - val_loss: 49.0059 - val_root_mean_squared_error: 7.0004 - val_mean_absolute_error: 5.4773\n",
            "Epoch 25/100\n",
            "111/111 [==============================] - 1s 7ms/step - loss: 0.1051 - root_mean_squared_error: 0.3242 - mean_absolute_error: 0.2899 - val_loss: 49.7190 - val_root_mean_squared_error: 7.0512 - val_mean_absolute_error: 5.5689\n",
            "Epoch 26/100\n",
            "111/111 [==============================] - 1s 6ms/step - loss: 0.1068 - root_mean_squared_error: 0.3268 - mean_absolute_error: 0.2847 - val_loss: 48.9756 - val_root_mean_squared_error: 6.9983 - val_mean_absolute_error: 5.5195\n",
            "Epoch 27/100\n",
            "111/111 [==============================] - 1s 6ms/step - loss: 0.1065 - root_mean_squared_error: 0.3263 - mean_absolute_error: 0.2899 - val_loss: 49.8041 - val_root_mean_squared_error: 7.0572 - val_mean_absolute_error: 5.5825\n",
            "Epoch 28/100\n",
            "111/111 [==============================] - 1s 6ms/step - loss: 0.1071 - root_mean_squared_error: 0.3273 - mean_absolute_error: 0.2878 - val_loss: 47.7812 - val_root_mean_squared_error: 6.9124 - val_mean_absolute_error: 5.4710\n",
            "Epoch 29/100\n",
            "111/111 [==============================] - 1s 7ms/step - loss: 0.1076 - root_mean_squared_error: 0.3280 - mean_absolute_error: 0.2902 - val_loss: 48.2558 - val_root_mean_squared_error: 6.9466 - val_mean_absolute_error: 5.4493\n",
            "Epoch 30/100\n",
            "111/111 [==============================] - 1s 6ms/step - loss: 0.1088 - root_mean_squared_error: 0.3299 - mean_absolute_error: 0.2931 - val_loss: 47.9350 - val_root_mean_squared_error: 6.9235 - val_mean_absolute_error: 5.3788\n",
            "Epoch 31/100\n",
            "111/111 [==============================] - 1s 6ms/step - loss: 0.1063 - root_mean_squared_error: 0.3260 - mean_absolute_error: 0.2890 - val_loss: 45.6811 - val_root_mean_squared_error: 6.7588 - val_mean_absolute_error: 5.2521\n",
            "Epoch 32/100\n",
            "111/111 [==============================] - 1s 7ms/step - loss: 0.1073 - root_mean_squared_error: 0.3276 - mean_absolute_error: 0.2877 - val_loss: 44.8530 - val_root_mean_squared_error: 6.6972 - val_mean_absolute_error: 5.2316\n",
            "Epoch 33/100\n",
            "111/111 [==============================] - 1s 7ms/step - loss: 0.1074 - root_mean_squared_error: 0.3277 - mean_absolute_error: 0.2903 - val_loss: 42.8960 - val_root_mean_squared_error: 6.5495 - val_mean_absolute_error: 5.1873\n",
            "Epoch 34/100\n",
            "111/111 [==============================] - 1s 7ms/step - loss: 0.1066 - root_mean_squared_error: 0.3264 - mean_absolute_error: 0.2887 - val_loss: 46.0655 - val_root_mean_squared_error: 6.7872 - val_mean_absolute_error: 5.3474\n",
            "Epoch 35/100\n",
            "111/111 [==============================] - 1s 6ms/step - loss: 0.1064 - root_mean_squared_error: 0.3261 - mean_absolute_error: 0.2881 - val_loss: 45.7521 - val_root_mean_squared_error: 6.7640 - val_mean_absolute_error: 5.3431\n",
            "Epoch 36/100\n",
            "111/111 [==============================] - 1s 7ms/step - loss: 0.1069 - root_mean_squared_error: 0.3270 - mean_absolute_error: 0.2913 - val_loss: 46.0580 - val_root_mean_squared_error: 6.7866 - val_mean_absolute_error: 5.3683\n",
            "Epoch 37/100\n",
            "111/111 [==============================] - 1s 7ms/step - loss: 0.1061 - root_mean_squared_error: 0.3257 - mean_absolute_error: 0.2894 - val_loss: 44.4058 - val_root_mean_squared_error: 6.6638 - val_mean_absolute_error: 5.2189\n",
            "Epoch 38/100\n",
            "111/111 [==============================] - 1s 6ms/step - loss: 0.1075 - root_mean_squared_error: 0.3279 - mean_absolute_error: 0.2902 - val_loss: 45.3649 - val_root_mean_squared_error: 6.7354 - val_mean_absolute_error: 5.3665\n",
            "Epoch 39/100\n",
            "111/111 [==============================] - 1s 6ms/step - loss: 0.1049 - root_mean_squared_error: 0.3239 - mean_absolute_error: 0.2780 - val_loss: 50.2098 - val_root_mean_squared_error: 7.0859 - val_mean_absolute_error: 5.6732\n",
            "Epoch 40/100\n",
            "111/111 [==============================] - 1s 6ms/step - loss: 0.1077 - root_mean_squared_error: 0.3281 - mean_absolute_error: 0.2924 - val_loss: 47.8424 - val_root_mean_squared_error: 6.9168 - val_mean_absolute_error: 5.4357\n",
            "Epoch 41/100\n",
            "111/111 [==============================] - 1s 6ms/step - loss: 0.1062 - root_mean_squared_error: 0.3258 - mean_absolute_error: 0.2891 - val_loss: 44.1545 - val_root_mean_squared_error: 6.6449 - val_mean_absolute_error: 5.2514\n",
            "Epoch 42/100\n",
            "111/111 [==============================] - 1s 6ms/step - loss: 0.1067 - root_mean_squared_error: 0.3266 - mean_absolute_error: 0.2868 - val_loss: 43.3949 - val_root_mean_squared_error: 6.5875 - val_mean_absolute_error: 5.1411\n",
            "Epoch 43/100\n",
            "111/111 [==============================] - 1s 6ms/step - loss: 0.1065 - root_mean_squared_error: 0.3264 - mean_absolute_error: 0.2909 - val_loss: 45.8596 - val_root_mean_squared_error: 6.7720 - val_mean_absolute_error: 5.2980\n",
            "Epoch 44/100\n",
            "111/111 [==============================] - 1s 7ms/step - loss: 0.1081 - root_mean_squared_error: 0.3288 - mean_absolute_error: 0.2914 - val_loss: 43.3528 - val_root_mean_squared_error: 6.5843 - val_mean_absolute_error: 5.1468\n",
            "Epoch 45/100\n",
            "111/111 [==============================] - 1s 11ms/step - loss: 0.1073 - root_mean_squared_error: 0.3276 - mean_absolute_error: 0.2888 - val_loss: 46.4047 - val_root_mean_squared_error: 6.8121 - val_mean_absolute_error: 5.3008\n",
            "Epoch 46/100\n",
            "111/111 [==============================] - 1s 6ms/step - loss: 0.1072 - root_mean_squared_error: 0.3273 - mean_absolute_error: 0.2873 - val_loss: 45.3284 - val_root_mean_squared_error: 6.7326 - val_mean_absolute_error: 5.2997\n",
            "Epoch 47/100\n",
            "111/111 [==============================] - 1s 6ms/step - loss: 0.1072 - root_mean_squared_error: 0.3275 - mean_absolute_error: 0.2894 - val_loss: 43.8277 - val_root_mean_squared_error: 6.6203 - val_mean_absolute_error: 5.2273\n",
            "Epoch 48/100\n",
            "111/111 [==============================] - 1s 6ms/step - loss: 0.1065 - root_mean_squared_error: 0.3263 - mean_absolute_error: 0.2900 - val_loss: 43.4934 - val_root_mean_squared_error: 6.5950 - val_mean_absolute_error: 5.2069\n",
            "Epoch 49/100\n",
            "111/111 [==============================] - 1s 7ms/step - loss: 0.1068 - root_mean_squared_error: 0.3268 - mean_absolute_error: 0.2886 - val_loss: 45.7558 - val_root_mean_squared_error: 6.7643 - val_mean_absolute_error: 5.3636\n",
            "Epoch 50/100\n",
            "111/111 [==============================] - 1s 6ms/step - loss: 0.1067 - root_mean_squared_error: 0.3267 - mean_absolute_error: 0.2913 - val_loss: 45.0424 - val_root_mean_squared_error: 6.7114 - val_mean_absolute_error: 5.3051\n",
            "Epoch 51/100\n",
            "111/111 [==============================] - 1s 6ms/step - loss: 0.1070 - root_mean_squared_error: 0.3271 - mean_absolute_error: 0.2885 - val_loss: 44.5485 - val_root_mean_squared_error: 6.6745 - val_mean_absolute_error: 5.2148\n",
            "Epoch 52/100\n",
            "111/111 [==============================] - 1s 7ms/step - loss: 0.1067 - root_mean_squared_error: 0.3266 - mean_absolute_error: 0.2880 - val_loss: 44.9929 - val_root_mean_squared_error: 6.7077 - val_mean_absolute_error: 5.2850\n",
            "Epoch 53/100\n",
            "111/111 [==============================] - 1s 6ms/step - loss: 0.1079 - root_mean_squared_error: 0.3285 - mean_absolute_error: 0.2912 - val_loss: 46.0339 - val_root_mean_squared_error: 6.7848 - val_mean_absolute_error: 5.3399\n",
            "Epoch 54/100\n",
            "111/111 [==============================] - 1s 7ms/step - loss: 0.1083 - root_mean_squared_error: 0.3291 - mean_absolute_error: 0.2904 - val_loss: 41.9585 - val_root_mean_squared_error: 6.4775 - val_mean_absolute_error: 5.0993\n",
            "Epoch 55/100\n",
            "111/111 [==============================] - 1s 7ms/step - loss: 0.1072 - root_mean_squared_error: 0.3274 - mean_absolute_error: 0.2886 - val_loss: 43.1887 - val_root_mean_squared_error: 6.5718 - val_mean_absolute_error: 5.1711\n",
            "Epoch 56/100\n",
            "111/111 [==============================] - 1s 7ms/step - loss: 0.1080 - root_mean_squared_error: 0.3286 - mean_absolute_error: 0.2898 - val_loss: 42.4767 - val_root_mean_squared_error: 6.5174 - val_mean_absolute_error: 5.1777\n",
            "Epoch 57/100\n",
            "111/111 [==============================] - 1s 7ms/step - loss: 0.1063 - root_mean_squared_error: 0.3261 - mean_absolute_error: 0.2890 - val_loss: 41.4240 - val_root_mean_squared_error: 6.4361 - val_mean_absolute_error: 5.0593\n",
            "Epoch 58/100\n",
            "111/111 [==============================] - 1s 7ms/step - loss: 0.1067 - root_mean_squared_error: 0.3267 - mean_absolute_error: 0.2885 - val_loss: 43.0560 - val_root_mean_squared_error: 6.5617 - val_mean_absolute_error: 5.0730\n",
            "Epoch 59/100\n",
            "111/111 [==============================] - 1s 6ms/step - loss: 0.1066 - root_mean_squared_error: 0.3265 - mean_absolute_error: 0.2868 - val_loss: 41.2538 - val_root_mean_squared_error: 6.4229 - val_mean_absolute_error: 5.0524\n",
            "Epoch 60/100\n",
            "111/111 [==============================] - 1s 7ms/step - loss: 0.1071 - root_mean_squared_error: 0.3273 - mean_absolute_error: 0.2905 - val_loss: 40.6775 - val_root_mean_squared_error: 6.3779 - val_mean_absolute_error: 5.0274\n",
            "Epoch 61/100\n",
            "111/111 [==============================] - 1s 7ms/step - loss: 0.1068 - root_mean_squared_error: 0.3268 - mean_absolute_error: 0.2923 - val_loss: 41.5479 - val_root_mean_squared_error: 6.4458 - val_mean_absolute_error: 4.9992\n",
            "Epoch 62/100\n",
            "111/111 [==============================] - 1s 6ms/step - loss: 0.1071 - root_mean_squared_error: 0.3272 - mean_absolute_error: 0.2872 - val_loss: 41.8356 - val_root_mean_squared_error: 6.4680 - val_mean_absolute_error: 5.1348\n",
            "Epoch 63/100\n",
            "111/111 [==============================] - 1s 6ms/step - loss: 0.1066 - root_mean_squared_error: 0.3265 - mean_absolute_error: 0.2885 - val_loss: 41.2601 - val_root_mean_squared_error: 6.4234 - val_mean_absolute_error: 5.0525\n",
            "Epoch 64/100\n",
            "111/111 [==============================] - 1s 6ms/step - loss: 0.1059 - root_mean_squared_error: 0.3255 - mean_absolute_error: 0.2857 - val_loss: 42.5035 - val_root_mean_squared_error: 6.5195 - val_mean_absolute_error: 5.1550\n",
            "Epoch 65/100\n",
            "111/111 [==============================] - 1s 6ms/step - loss: 0.1071 - root_mean_squared_error: 0.3272 - mean_absolute_error: 0.2911 - val_loss: 40.9638 - val_root_mean_squared_error: 6.4003 - val_mean_absolute_error: 5.1005\n",
            "Epoch 66/100\n",
            "111/111 [==============================] - 1s 6ms/step - loss: 0.1073 - root_mean_squared_error: 0.3275 - mean_absolute_error: 0.2861 - val_loss: 39.6274 - val_root_mean_squared_error: 6.2950 - val_mean_absolute_error: 4.9141\n",
            "Epoch 67/100\n",
            "111/111 [==============================] - 1s 6ms/step - loss: 0.1070 - root_mean_squared_error: 0.3271 - mean_absolute_error: 0.2917 - val_loss: 41.3587 - val_root_mean_squared_error: 6.4311 - val_mean_absolute_error: 5.0363\n",
            "Epoch 68/100\n",
            "111/111 [==============================] - 1s 6ms/step - loss: 0.1070 - root_mean_squared_error: 0.3272 - mean_absolute_error: 0.2918 - val_loss: 39.8736 - val_root_mean_squared_error: 6.3146 - val_mean_absolute_error: 5.0060\n",
            "Epoch 69/100\n",
            "111/111 [==============================] - 1s 6ms/step - loss: 0.1073 - root_mean_squared_error: 0.3275 - mean_absolute_error: 0.2852 - val_loss: 40.2841 - val_root_mean_squared_error: 6.3470 - val_mean_absolute_error: 4.9986\n",
            "Epoch 70/100\n",
            "111/111 [==============================] - 1s 7ms/step - loss: 0.1069 - root_mean_squared_error: 0.3270 - mean_absolute_error: 0.2897 - val_loss: 40.6665 - val_root_mean_squared_error: 6.3770 - val_mean_absolute_error: 5.0144\n",
            "Epoch 71/100\n",
            "111/111 [==============================] - 1s 7ms/step - loss: 0.1055 - root_mean_squared_error: 0.3249 - mean_absolute_error: 0.2909 - val_loss: 36.8870 - val_root_mean_squared_error: 6.0735 - val_mean_absolute_error: 4.6954\n",
            "Epoch 72/100\n",
            "111/111 [==============================] - 1s 7ms/step - loss: 0.1077 - root_mean_squared_error: 0.3282 - mean_absolute_error: 0.2868 - val_loss: 39.3042 - val_root_mean_squared_error: 6.2693 - val_mean_absolute_error: 4.9170\n",
            "Epoch 73/100\n",
            "111/111 [==============================] - 1s 6ms/step - loss: 0.1069 - root_mean_squared_error: 0.3270 - mean_absolute_error: 0.2880 - val_loss: 40.3610 - val_root_mean_squared_error: 6.3530 - val_mean_absolute_error: 4.9087\n",
            "Epoch 74/100\n",
            "111/111 [==============================] - 1s 6ms/step - loss: 0.1073 - root_mean_squared_error: 0.3276 - mean_absolute_error: 0.2925 - val_loss: 41.2534 - val_root_mean_squared_error: 6.4229 - val_mean_absolute_error: 4.9322\n",
            "Epoch 75/100\n",
            "111/111 [==============================] - 1s 7ms/step - loss: 0.1075 - root_mean_squared_error: 0.3279 - mean_absolute_error: 0.2904 - val_loss: 38.8042 - val_root_mean_squared_error: 6.2293 - val_mean_absolute_error: 4.8393\n",
            "Epoch 76/100\n",
            "111/111 [==============================] - 1s 7ms/step - loss: 0.1066 - root_mean_squared_error: 0.3265 - mean_absolute_error: 0.2894 - val_loss: 38.1058 - val_root_mean_squared_error: 6.1730 - val_mean_absolute_error: 4.8142\n",
            "Epoch 77/100\n",
            "111/111 [==============================] - 1s 7ms/step - loss: 0.1071 - root_mean_squared_error: 0.3273 - mean_absolute_error: 0.2913 - val_loss: 38.6173 - val_root_mean_squared_error: 6.2143 - val_mean_absolute_error: 4.8336\n",
            "Epoch 78/100\n",
            "111/111 [==============================] - 1s 7ms/step - loss: 0.1067 - root_mean_squared_error: 0.3267 - mean_absolute_error: 0.2885 - val_loss: 38.3770 - val_root_mean_squared_error: 6.1949 - val_mean_absolute_error: 4.8071\n",
            "Epoch 79/100\n",
            "111/111 [==============================] - 1s 7ms/step - loss: 0.1064 - root_mean_squared_error: 0.3262 - mean_absolute_error: 0.2882 - val_loss: 40.0002 - val_root_mean_squared_error: 6.3246 - val_mean_absolute_error: 5.0017\n",
            "Epoch 80/100\n",
            "111/111 [==============================] - 1s 6ms/step - loss: 0.1085 - root_mean_squared_error: 0.3294 - mean_absolute_error: 0.2910 - val_loss: 37.2848 - val_root_mean_squared_error: 6.1061 - val_mean_absolute_error: 4.7804\n",
            "Epoch 81/100\n",
            "111/111 [==============================] - 1s 6ms/step - loss: 0.1073 - root_mean_squared_error: 0.3276 - mean_absolute_error: 0.2903 - val_loss: 39.1412 - val_root_mean_squared_error: 6.2563 - val_mean_absolute_error: 4.8657\n",
            "Epoch 82/100\n",
            "111/111 [==============================] - 1s 7ms/step - loss: 0.1065 - root_mean_squared_error: 0.3263 - mean_absolute_error: 0.2880 - val_loss: 41.3604 - val_root_mean_squared_error: 6.4312 - val_mean_absolute_error: 5.0130\n",
            "Epoch 83/100\n",
            "111/111 [==============================] - 1s 7ms/step - loss: 0.1065 - root_mean_squared_error: 0.3263 - mean_absolute_error: 0.2932 - val_loss: 37.5830 - val_root_mean_squared_error: 6.1305 - val_mean_absolute_error: 4.7846\n",
            "Epoch 84/100\n",
            "111/111 [==============================] - 1s 6ms/step - loss: 0.1080 - root_mean_squared_error: 0.3287 - mean_absolute_error: 0.2903 - val_loss: 37.1198 - val_root_mean_squared_error: 6.0926 - val_mean_absolute_error: 4.8167\n",
            "Epoch 85/100\n",
            "111/111 [==============================] - 1s 6ms/step - loss: 0.1070 - root_mean_squared_error: 0.3271 - mean_absolute_error: 0.2892 - val_loss: 36.1074 - val_root_mean_squared_error: 6.0089 - val_mean_absolute_error: 4.6935\n",
            "Epoch 86/100\n",
            "111/111 [==============================] - 1s 7ms/step - loss: 0.1065 - root_mean_squared_error: 0.3263 - mean_absolute_error: 0.2902 - val_loss: 34.9743 - val_root_mean_squared_error: 5.9139 - val_mean_absolute_error: 4.5758\n",
            "Epoch 87/100\n",
            "111/111 [==============================] - 1s 7ms/step - loss: 0.1062 - root_mean_squared_error: 0.3259 - mean_absolute_error: 0.2838 - val_loss: 37.1790 - val_root_mean_squared_error: 6.0975 - val_mean_absolute_error: 4.7561\n",
            "Epoch 88/100\n",
            "111/111 [==============================] - 1s 7ms/step - loss: 0.1067 - root_mean_squared_error: 0.3267 - mean_absolute_error: 0.2902 - val_loss: 35.6415 - val_root_mean_squared_error: 5.9700 - val_mean_absolute_error: 4.6443\n",
            "Epoch 89/100\n",
            "111/111 [==============================] - 1s 6ms/step - loss: 0.1063 - root_mean_squared_error: 0.3261 - mean_absolute_error: 0.2887 - val_loss: 35.4156 - val_root_mean_squared_error: 5.9511 - val_mean_absolute_error: 4.6810\n",
            "Epoch 90/100\n",
            "111/111 [==============================] - 1s 6ms/step - loss: 0.1068 - root_mean_squared_error: 0.3267 - mean_absolute_error: 0.2917 - val_loss: 35.8426 - val_root_mean_squared_error: 5.9869 - val_mean_absolute_error: 4.6016\n",
            "Epoch 91/100\n",
            "111/111 [==============================] - 1s 6ms/step - loss: 0.1062 - root_mean_squared_error: 0.3259 - mean_absolute_error: 0.2866 - val_loss: 35.2263 - val_root_mean_squared_error: 5.9352 - val_mean_absolute_error: 4.5804\n",
            "Epoch 92/100\n",
            "111/111 [==============================] - 1s 6ms/step - loss: 0.1091 - root_mean_squared_error: 0.3302 - mean_absolute_error: 0.2933 - val_loss: 35.9005 - val_root_mean_squared_error: 5.9917 - val_mean_absolute_error: 4.6649\n",
            "Epoch 93/100\n",
            "111/111 [==============================] - 1s 6ms/step - loss: 0.1076 - root_mean_squared_error: 0.3280 - mean_absolute_error: 0.2889 - val_loss: 36.2014 - val_root_mean_squared_error: 6.0168 - val_mean_absolute_error: 4.7854\n",
            "Epoch 94/100\n",
            "111/111 [==============================] - 1s 7ms/step - loss: 0.1061 - root_mean_squared_error: 0.3258 - mean_absolute_error: 0.2918 - val_loss: 36.0713 - val_root_mean_squared_error: 6.0059 - val_mean_absolute_error: 4.7054\n",
            "Epoch 95/100\n",
            "111/111 [==============================] - 1s 6ms/step - loss: 0.1071 - root_mean_squared_error: 0.3273 - mean_absolute_error: 0.2910 - val_loss: 31.7838 - val_root_mean_squared_error: 5.6377 - val_mean_absolute_error: 4.4103\n",
            "Epoch 96/100\n",
            "111/111 [==============================] - 1s 7ms/step - loss: 0.1067 - root_mean_squared_error: 0.3267 - mean_absolute_error: 0.2845 - val_loss: 34.4143 - val_root_mean_squared_error: 5.8664 - val_mean_absolute_error: 4.5964\n",
            "Epoch 97/100\n",
            "111/111 [==============================] - 1s 6ms/step - loss: 0.1076 - root_mean_squared_error: 0.3280 - mean_absolute_error: 0.2927 - val_loss: 35.2121 - val_root_mean_squared_error: 5.9340 - val_mean_absolute_error: 4.6323\n",
            "Epoch 98/100\n",
            "111/111 [==============================] - 1s 6ms/step - loss: 0.1079 - root_mean_squared_error: 0.3284 - mean_absolute_error: 0.2907 - val_loss: 34.1023 - val_root_mean_squared_error: 5.8397 - val_mean_absolute_error: 4.6100\n",
            "Epoch 99/100\n",
            "111/111 [==============================] - 1s 6ms/step - loss: 0.1071 - root_mean_squared_error: 0.3272 - mean_absolute_error: 0.2908 - val_loss: 34.6721 - val_root_mean_squared_error: 5.8883 - val_mean_absolute_error: 4.6197\n",
            "Epoch 100/100\n",
            "111/111 [==============================] - 1s 6ms/step - loss: 0.1071 - root_mean_squared_error: 0.3273 - mean_absolute_error: 0.2895 - val_loss: 33.8146 - val_root_mean_squared_error: 5.8150 - val_mean_absolute_error: 4.5814\n"
          ]
        }
      ],
      "source": [
        "details = lrcn_model.fit(x_train, y_train, batch_size=batch_size, epochs=epochs, validation_data=(x_cv, y_cv))"
      ]
    },
    {
      "cell_type": "code",
      "execution_count": null,
      "metadata": {
        "colab": {
          "base_uri": "https://localhost:8080/"
        },
        "id": "4ABdrrtLha2p",
        "outputId": "3496aecf-c791-460a-9e0f-71c91a70348b"
      },
      "outputs": [
        {
          "name": "stderr",
          "output_type": "stream",
          "text": [
            "WARNING:absl:Found untraced functions such as re_lu_3_layer_call_fn, re_lu_3_layer_call_and_return_conditional_losses, re_lu_4_layer_call_fn, re_lu_4_layer_call_and_return_conditional_losses while saving (showing 4 of 4). These functions will not be directly callable after loading.\n"
          ]
        },
        {
          "name": "stdout",
          "output_type": "stream",
          "text": [
            "INFO:tensorflow:Assets written to: /content/gdrive/MyDrive/Intern bp/models/assets\n"
          ]
        },
        {
          "name": "stderr",
          "output_type": "stream",
          "text": [
            "INFO:tensorflow:Assets written to: /content/gdrive/MyDrive/Intern bp/models/assets\n",
            "WARNING:absl:<keras.layers.recurrent.GRUCell object at 0x7f91b03dfc90> has the same name 'GRUCell' as a built-in Keras object. Consider renaming <class 'keras.layers.recurrent.GRUCell'> to avoid naming conflicts when loading with `tf.keras.models.load_model`. If renaming is not possible, pass the object in the `custom_objects` parameter of the load function.\n",
            "WARNING:absl:<keras.layers.recurrent.GRUCell object at 0x7f91b03e3690> has the same name 'GRUCell' as a built-in Keras object. Consider renaming <class 'keras.layers.recurrent.GRUCell'> to avoid naming conflicts when loading with `tf.keras.models.load_model`. If renaming is not possible, pass the object in the `custom_objects` parameter of the load function.\n",
            "WARNING:absl:<keras.layers.recurrent.GRUCell object at 0x7f91b030d390> has the same name 'GRUCell' as a built-in Keras object. Consider renaming <class 'keras.layers.recurrent.GRUCell'> to avoid naming conflicts when loading with `tf.keras.models.load_model`. If renaming is not possible, pass the object in the `custom_objects` parameter of the load function.\n",
            "WARNING:absl:<keras.layers.recurrent.GRUCell object at 0x7f91b030dd50> has the same name 'GRUCell' as a built-in Keras object. Consider renaming <class 'keras.layers.recurrent.GRUCell'> to avoid naming conflicts when loading with `tf.keras.models.load_model`. If renaming is not possible, pass the object in the `custom_objects` parameter of the load function.\n"
          ]
        }
      ],
      "source": [
        "path = '/content/gdrive/MyDrive/Intern bp/models'\n",
        "lrcn_model.save(path)"
      ]
    },
    {
      "cell_type": "code",
      "execution_count": null,
      "metadata": {
        "colab": {
          "base_uri": "https://localhost:8080/",
          "height": 265
        },
        "id": "ZRXCARTiVv78",
        "outputId": "4a80637b-d3b8-4f67-c6f6-e17ab947cb2e"
      },
      "outputs": [
        {
          "data": {
            "image/png": "[encoded data removed]",
            "text/plain": [
              "<Figure size 432x288 with 1 Axes>"
            ]
          },
          "metadata": {},
          "output_type": "display_data"
        }
      ],
      "source": [
        "plt.plot(details.history['val_loss'])\n",
        "plt.show()"
      ]
    },
    {
      "cell_type": "code",
      "execution_count": null,
      "metadata": {
        "colab": {
          "base_uri": "https://localhost:8080/"
        },
        "id": "pcsoIBY1rHHk",
        "outputId": "3eaaf452-cb8f-41d7-b5f0-f531f10f7b60"
      },
      "outputs": [
        {
          "name": "stdout",
          "output_type": "stream",
          "text": [
            "38/38 [==============================] - 0s 3ms/step - loss: 0.1152 - root_mean_squared_error: 0.3394\n"
          ]
        }
      ],
      "source": [
        "loss, rmse_error_test = lrcn_model.evaluate(x_test, y_test, batch_size=1)"
      ]
    },
    {
      "cell_type": "code",
      "execution_count": null,
      "metadata": {
        "id": "graJfRK8smHE"
      },
      "outputs": [],
      "source": [
        "path = '/content/gdrive/MyDrive/Intern bp/models'\n",
        "lrcn_model_1 = keras.models.load_model(path)"
      ]
    },
    {
      "cell_type": "code",
      "execution_count": null,
      "metadata": {
        "colab": {
          "base_uri": "https://localhost:8080/"
        },
        "id": "JEfqQrtVwJ_n",
        "outputId": "4a02d375-e428-4014-ab3f-c26d1a635e2f"
      },
      "outputs": [
        {
          "name": "stdout",
          "output_type": "stream",
          "text": [
            "Model: \"sequential_1\"\n",
            "_________________________________________________________________\n",
            " Layer (type)                Output Shape              Param #   \n",
            "=================================================================\n",
            " conv1d_2 (Conv1D)           (None, 6, 30)             120       \n",
            "                                                                 \n",
            " leaky_re_lu_1 (LeakyReLU)   (None, 6, 30)             0         \n",
            "                                                                 \n",
            " max_pooling1d_2 (MaxPooling  (None, 6, 30)            0         \n",
            " 1D)                                                             \n",
            "                                                                 \n",
            " batch_normalization_4 (Batc  (None, 6, 30)            120       \n",
            " hNormalization)                                                 \n",
            "                                                                 \n",
            " conv1d_3 (Conv1D)           (None, 6, 30)             2730      \n",
            "                                                                 \n",
            " re_lu_5 (ReLU)              (None, 6, 30)             0         \n",
            "                                                                 \n",
            " max_pooling1d_3 (MaxPooling  (None, 3, 30)            0         \n",
            " 1D)                                                             \n",
            "                                                                 \n",
            " batch_normalization_5 (Batc  (None, 3, 30)            120       \n",
            " hNormalization)                                                 \n",
            "                                                                 \n",
            " bidirectional_2 (Bidirectio  (None, 3, 60)            11160     \n",
            " nal)                                                            \n",
            "                                                                 \n",
            " batch_normalization_6 (Batc  (None, 3, 60)            240       \n",
            " hNormalization)                                                 \n",
            "                                                                 \n",
            " bidirectional_3 (Bidirectio  (None, 120)              43920     \n",
            " nal)                                                            \n",
            "                                                                 \n",
            " dense_2 (Dense)             (None, 30)                3630      \n",
            "                                                                 \n",
            " batch_normalization_7 (Batc  (None, 30)               120       \n",
            " hNormalization)                                                 \n",
            "                                                                 \n",
            " dense_3 (Dense)             (None, 2)                 62        \n",
            "                                                                 \n",
            "=================================================================\n",
            "Total params: 62,222\n",
            "Trainable params: 61,922\n",
            "Non-trainable params: 300\n",
            "_________________________________________________________________\n"
          ]
        }
      ],
      "source": [
        "lrcn_model_1.summary()"
      ]
    },
    {
      "cell_type": "code",
      "execution_count": null,
      "metadata": {
        "colab": {
          "base_uri": "https://localhost:8080/"
        },
        "id": "QF2TSooxtNAZ",
        "outputId": "136c5b33-2968-4975-d819-97995af9bd28"
      },
      "outputs": [
        {
          "name": "stdout",
          "output_type": "stream",
          "text": [
            "38/38 [==============================] - 1s 3ms/step - loss: 0.1152 - root_mean_squared_error: 0.3394\n"
          ]
        },
        {
          "data": {
            "text/plain": [
              "[0.11516119539737701, 0.33935409784317017]"
            ]
          },
          "execution_count": 23,
          "metadata": {},
          "output_type": "execute_result"
        }
      ],
      "source": [
        "lrcn_model_1.evaluate(x_test, y_test, batch_size=1)"
      ]
    },
    {
      "cell_type": "code",
      "execution_count": null,
      "metadata": {
        "colab": {
          "base_uri": "https://localhost:8080/"
        },
        "id": "vsVEEd330B-C",
        "outputId": "b8189aa2-2b3e-4c66-c8fc-ed723f5a76d1"
      },
      "outputs": [
        {
          "data": {
            "text/plain": [
              "(1, 6)"
            ]
          },
          "execution_count": 104,
          "metadata": {},
          "output_type": "execute_result"
        }
      ],
      "source": [
        "np.array(x_test)[0].reshape(1, -1).shape"
      ]
    },
    {
      "cell_type": "code",
      "execution_count": null,
      "metadata": {
        "colab": {
          "base_uri": "https://localhost:8080/"
        },
        "id": "AOc-D24TFI6Q",
        "outputId": "e94b3eb1-c2dc-4b00-a77a-956d466f3144"
      },
      "outputs": [
        {
          "name": "stdout",
          "output_type": "stream",
          "text": [
            "prediction [0.48655346 0.38175482]\n",
            "actual [0.93478261 0.72340426]\n"
          ]
        }
      ],
      "source": [
        "prediction = lrcn_model_1.predict(np.array(x_test))[0]\n",
        "print(\"prediction\", prediction)\n",
        "print('actual', np.array(y_test)[0])"
      ]
    },
    {
      "cell_type": "code",
      "execution_count": null,
      "metadata": {
        "colab": {
          "base_uri": "https://localhost:8080/"
        },
        "id": "kxpllW9WDTvU",
        "outputId": "840e5aba-bb5b-4808-aa44-5062d7386e5b"
      },
      "outputs": [
        {
          "data": {
            "text/plain": [
              "((1, 2), (1, 2))"
            ]
          },
          "execution_count": 113,
          "metadata": {},
          "output_type": "execute_result"
        }
      ],
      "source": [
        "np.array(y_test)[2].reshape(1, -1).shape, prediction.reshape(1, -1).shape"
      ]
    },
    {
      "cell_type": "code",
      "execution_count": null,
      "metadata": {
        "id": "dKzE5qYjR3YR"
      },
      "outputs": [],
      "source": [
        "from sklearn.metrics import classification_report"
      ]
    },
    {
      "cell_type": "code",
      "execution_count": null,
      "metadata": {
        "colab": {
          "background_save": true
        },
        "id": "M0Oln7xJR946",
        "outputId": "fbfb7b33-a753-4269-a963-9d42eb2f9f66"
      },
      "outputs": [
        {
          "ename": "NameError",
          "evalue": "ignored",
          "output_type": "error",
          "traceback": [
            "\u001b[0;31m---------------------------------------------------------------------------\u001b[0m",
            "\u001b[0;31mNameError\u001b[0m                                 Traceback (most recent call last)",
            "\u001b[0;32m<ipython-input-25-ef225bafac17>\u001b[0m in \u001b[0;36m<module>\u001b[0;34m()\u001b[0m\n\u001b[0;32m----> 1\u001b[0;31m \u001b[0mclassification_report\u001b[0m\u001b[0;34m(\u001b[0m\u001b[0my_test\u001b[0m\u001b[0;34m,\u001b[0m \u001b[0mprediction\u001b[0m\u001b[0;34m)\u001b[0m\u001b[0;34m\u001b[0m\u001b[0;34m\u001b[0m\u001b[0m\n\u001b[0m",
            "\u001b[0;31mNameError\u001b[0m: name 'prediction' is not defined"
          ]
        }
      ],
      "source": [
        "classification"
      ]
    },
    {
      "cell_type": "markdown",
      "metadata": {
        "id": "Qsgu4T08vVKT"
      },
      "source": [
        "Inverse the scaling to get actual prediction and true values "
      ]
    },
    {
      "cell_type": "code",
      "execution_count": null,
      "metadata": {
        "colab": {
          "base_uri": "https://localhost:8080/"
        },
        "id": "RXYs8U8KvUvi",
        "outputId": "95d50cc7-fd90-4f1c-daa2-8ed0ffae7959"
      },
      "outputs": [
        {
          "name": "stdout",
          "output_type": "stream",
          "text": [
            "[[119.38146   73.942474]] [[140.00000001  89.99999999]]\n"
          ]
        }
      ],
      "source": [
        "prediction_unscaled = scaler.inverse_transform(prediction.reshape(1, -1))\n",
        "actual_unscaled = scaler.inverse_transform(np.array(y_test)[0].reshape(1, -1))\n",
        "print(prediction_unscaled, actual_unscaled)"
      ]
    }
  ],
  "metadata": {
    "colab": {
      "name": "BP intern.ipynb",
      "provenance": []
    },
    "kernelspec": {
      "display_name": "Python 3",
      "name": "python3"
    },
    "language_info": {
      "name": "python"
    }
  },
  "nbformat": 4,
  "nbformat_minor": 0
}
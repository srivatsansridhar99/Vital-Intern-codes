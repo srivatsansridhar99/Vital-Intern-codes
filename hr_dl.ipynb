{
  "nbformat": 4,
  "nbformat_minor": 0,
  "metadata": {
    "colab": {
      "name": "hr_dl.ipynb",
      "provenance": []
    },
    "kernelspec": {
      "name": "python3",
      "display_name": "Python 3"
    },
    "language_info": {
      "name": "python"
    },
    "accelerator": "GPU",
    "widgets": {
      "application/vnd.jupyter.widget-state+json": {
        "bae4647af5984adbb82f599ee12d4a64": {
          "model_module": "@jupyter-widgets/controls",
          "model_name": "HBoxModel",
          "model_module_version": "1.5.0",
          "state": {
            "_dom_classes": [],
            "_model_module": "@jupyter-widgets/controls",
            "_model_module_version": "1.5.0",
            "_model_name": "HBoxModel",
            "_view_count": null,
            "_view_module": "@jupyter-widgets/controls",
            "_view_module_version": "1.5.0",
            "_view_name": "HBoxView",
            "box_style": "",
            "children": [
              "IPY_MODEL_80ad3718a22c4e1fb21468c370160a81",
              "IPY_MODEL_1bd1e36c2bbc409a96bfd1d8fbc65f1e",
              "IPY_MODEL_dba3a288eecd4ea59c66effcfbf4c4c0"
            ],
            "layout": "IPY_MODEL_5b36b533184145588e3d8373dc6d2115"
          }
        },
        "80ad3718a22c4e1fb21468c370160a81": {
          "model_module": "@jupyter-widgets/controls",
          "model_name": "HTMLModel",
          "model_module_version": "1.5.0",
          "state": {
            "_dom_classes": [],
            "_model_module": "@jupyter-widgets/controls",
            "_model_module_version": "1.5.0",
            "_model_name": "HTMLModel",
            "_view_count": null,
            "_view_module": "@jupyter-widgets/controls",
            "_view_module_version": "1.5.0",
            "_view_name": "HTMLView",
            "description": "",
            "description_tooltip": null,
            "layout": "IPY_MODEL_8ab1830f2db04dd4bddced92e61230cb",
            "placeholder": "​",
            "style": "IPY_MODEL_f92ecf5996e24524b773d42a359d7b23",
            "value": "100%"
          }
        },
        "1bd1e36c2bbc409a96bfd1d8fbc65f1e": {
          "model_module": "@jupyter-widgets/controls",
          "model_name": "FloatProgressModel",
          "model_module_version": "1.5.0",
          "state": {
            "_dom_classes": [],
            "_model_module": "@jupyter-widgets/controls",
            "_model_module_version": "1.5.0",
            "_model_name": "FloatProgressModel",
            "_view_count": null,
            "_view_module": "@jupyter-widgets/controls",
            "_view_module_version": "1.5.0",
            "_view_name": "ProgressView",
            "bar_style": "success",
            "description": "",
            "description_tooltip": null,
            "layout": "IPY_MODEL_4e74b2ca4ccf4923b4d7ef2a443d6506",
            "max": 11,
            "min": 0,
            "orientation": "horizontal",
            "style": "IPY_MODEL_bf6456cfe1ae4282a106d35b8c9080fa",
            "value": 11
          }
        },
        "dba3a288eecd4ea59c66effcfbf4c4c0": {
          "model_module": "@jupyter-widgets/controls",
          "model_name": "HTMLModel",
          "model_module_version": "1.5.0",
          "state": {
            "_dom_classes": [],
            "_model_module": "@jupyter-widgets/controls",
            "_model_module_version": "1.5.0",
            "_model_name": "HTMLModel",
            "_view_count": null,
            "_view_module": "@jupyter-widgets/controls",
            "_view_module_version": "1.5.0",
            "_view_name": "HTMLView",
            "description": "",
            "description_tooltip": null,
            "layout": "IPY_MODEL_4558f0786daf4cf3b6cfeab867070613",
            "placeholder": "​",
            "style": "IPY_MODEL_8e88bf168c5f440ea846ee6ea0ba7e11",
            "value": " 11/11 [00:02&lt;00:00,  5.41it/s]"
          }
        },
        "5b36b533184145588e3d8373dc6d2115": {
          "model_module": "@jupyter-widgets/base",
          "model_name": "LayoutModel",
          "model_module_version": "1.2.0",
          "state": {
            "_model_module": "@jupyter-widgets/base",
            "_model_module_version": "1.2.0",
            "_model_name": "LayoutModel",
            "_view_count": null,
            "_view_module": "@jupyter-widgets/base",
            "_view_module_version": "1.2.0",
            "_view_name": "LayoutView",
            "align_content": null,
            "align_items": null,
            "align_self": null,
            "border": null,
            "bottom": null,
            "display": null,
            "flex": null,
            "flex_flow": null,
            "grid_area": null,
            "grid_auto_columns": null,
            "grid_auto_flow": null,
            "grid_auto_rows": null,
            "grid_column": null,
            "grid_gap": null,
            "grid_row": null,
            "grid_template_areas": null,
            "grid_template_columns": null,
            "grid_template_rows": null,
            "height": null,
            "justify_content": null,
            "justify_items": null,
            "left": null,
            "margin": null,
            "max_height": null,
            "max_width": null,
            "min_height": null,
            "min_width": null,
            "object_fit": null,
            "object_position": null,
            "order": null,
            "overflow": null,
            "overflow_x": null,
            "overflow_y": null,
            "padding": null,
            "right": null,
            "top": null,
            "visibility": null,
            "width": null
          }
        },
        "8ab1830f2db04dd4bddced92e61230cb": {
          "model_module": "@jupyter-widgets/base",
          "model_name": "LayoutModel",
          "model_module_version": "1.2.0",
          "state": {
            "_model_module": "@jupyter-widgets/base",
            "_model_module_version": "1.2.0",
            "_model_name": "LayoutModel",
            "_view_count": null,
            "_view_module": "@jupyter-widgets/base",
            "_view_module_version": "1.2.0",
            "_view_name": "LayoutView",
            "align_content": null,
            "align_items": null,
            "align_self": null,
            "border": null,
            "bottom": null,
            "display": null,
            "flex": null,
            "flex_flow": null,
            "grid_area": null,
            "grid_auto_columns": null,
            "grid_auto_flow": null,
            "grid_auto_rows": null,
            "grid_column": null,
            "grid_gap": null,
            "grid_row": null,
            "grid_template_areas": null,
            "grid_template_columns": null,
            "grid_template_rows": null,
            "height": null,
            "justify_content": null,
            "justify_items": null,
            "left": null,
            "margin": null,
            "max_height": null,
            "max_width": null,
            "min_height": null,
            "min_width": null,
            "object_fit": null,
            "object_position": null,
            "order": null,
            "overflow": null,
            "overflow_x": null,
            "overflow_y": null,
            "padding": null,
            "right": null,
            "top": null,
            "visibility": null,
            "width": null
          }
        },
        "f92ecf5996e24524b773d42a359d7b23": {
          "model_module": "@jupyter-widgets/controls",
          "model_name": "DescriptionStyleModel",
          "model_module_version": "1.5.0",
          "state": {
            "_model_module": "@jupyter-widgets/controls",
            "_model_module_version": "1.5.0",
            "_model_name": "DescriptionStyleModel",
            "_view_count": null,
            "_view_module": "@jupyter-widgets/base",
            "_view_module_version": "1.2.0",
            "_view_name": "StyleView",
            "description_width": ""
          }
        },
        "4e74b2ca4ccf4923b4d7ef2a443d6506": {
          "model_module": "@jupyter-widgets/base",
          "model_name": "LayoutModel",
          "model_module_version": "1.2.0",
          "state": {
            "_model_module": "@jupyter-widgets/base",
            "_model_module_version": "1.2.0",
            "_model_name": "LayoutModel",
            "_view_count": null,
            "_view_module": "@jupyter-widgets/base",
            "_view_module_version": "1.2.0",
            "_view_name": "LayoutView",
            "align_content": null,
            "align_items": null,
            "align_self": null,
            "border": null,
            "bottom": null,
            "display": null,
            "flex": null,
            "flex_flow": null,
            "grid_area": null,
            "grid_auto_columns": null,
            "grid_auto_flow": null,
            "grid_auto_rows": null,
            "grid_column": null,
            "grid_gap": null,
            "grid_row": null,
            "grid_template_areas": null,
            "grid_template_columns": null,
            "grid_template_rows": null,
            "height": null,
            "justify_content": null,
            "justify_items": null,
            "left": null,
            "margin": null,
            "max_height": null,
            "max_width": null,
            "min_height": null,
            "min_width": null,
            "object_fit": null,
            "object_position": null,
            "order": null,
            "overflow": null,
            "overflow_x": null,
            "overflow_y": null,
            "padding": null,
            "right": null,
            "top": null,
            "visibility": null,
            "width": null
          }
        },
        "bf6456cfe1ae4282a106d35b8c9080fa": {
          "model_module": "@jupyter-widgets/controls",
          "model_name": "ProgressStyleModel",
          "model_module_version": "1.5.0",
          "state": {
            "_model_module": "@jupyter-widgets/controls",
            "_model_module_version": "1.5.0",
            "_model_name": "ProgressStyleModel",
            "_view_count": null,
            "_view_module": "@jupyter-widgets/base",
            "_view_module_version": "1.2.0",
            "_view_name": "StyleView",
            "bar_color": null,
            "description_width": ""
          }
        },
        "4558f0786daf4cf3b6cfeab867070613": {
          "model_module": "@jupyter-widgets/base",
          "model_name": "LayoutModel",
          "model_module_version": "1.2.0",
          "state": {
            "_model_module": "@jupyter-widgets/base",
            "_model_module_version": "1.2.0",
            "_model_name": "LayoutModel",
            "_view_count": null,
            "_view_module": "@jupyter-widgets/base",
            "_view_module_version": "1.2.0",
            "_view_name": "LayoutView",
            "align_content": null,
            "align_items": null,
            "align_self": null,
            "border": null,
            "bottom": null,
            "display": null,
            "flex": null,
            "flex_flow": null,
            "grid_area": null,
            "grid_auto_columns": null,
            "grid_auto_flow": null,
            "grid_auto_rows": null,
            "grid_column": null,
            "grid_gap": null,
            "grid_row": null,
            "grid_template_areas": null,
            "grid_template_columns": null,
            "grid_template_rows": null,
            "height": null,
            "justify_content": null,
            "justify_items": null,
            "left": null,
            "margin": null,
            "max_height": null,
            "max_width": null,
            "min_height": null,
            "min_width": null,
            "object_fit": null,
            "object_position": null,
            "order": null,
            "overflow": null,
            "overflow_x": null,
            "overflow_y": null,
            "padding": null,
            "right": null,
            "top": null,
            "visibility": null,
            "width": null
          }
        },
        "8e88bf168c5f440ea846ee6ea0ba7e11": {
          "model_module": "@jupyter-widgets/controls",
          "model_name": "DescriptionStyleModel",
          "model_module_version": "1.5.0",
          "state": {
            "_model_module": "@jupyter-widgets/controls",
            "_model_module_version": "1.5.0",
            "_model_name": "DescriptionStyleModel",
            "_view_count": null,
            "_view_module": "@jupyter-widgets/base",
            "_view_module_version": "1.2.0",
            "_view_name": "StyleView",
            "description_width": ""
          }
        },
        "020164cf6be0429f84a462d0dea8e8fe": {
          "model_module": "@jupyter-widgets/controls",
          "model_name": "HBoxModel",
          "model_module_version": "1.5.0",
          "state": {
            "_dom_classes": [],
            "_model_module": "@jupyter-widgets/controls",
            "_model_module_version": "1.5.0",
            "_model_name": "HBoxModel",
            "_view_count": null,
            "_view_module": "@jupyter-widgets/controls",
            "_view_module_version": "1.5.0",
            "_view_name": "HBoxView",
            "box_style": "",
            "children": [
              "IPY_MODEL_f8b245f9b7d6435ba0e6f81a4c230244",
              "IPY_MODEL_aeb15175c1f648fa992cd157fcd74f57",
              "IPY_MODEL_c8b14a98d0f54368bbf06824de0ef4d5"
            ],
            "layout": "IPY_MODEL_c615fa03ae084fcf93959a64fb5f0c29"
          }
        },
        "f8b245f9b7d6435ba0e6f81a4c230244": {
          "model_module": "@jupyter-widgets/controls",
          "model_name": "HTMLModel",
          "model_module_version": "1.5.0",
          "state": {
            "_dom_classes": [],
            "_model_module": "@jupyter-widgets/controls",
            "_model_module_version": "1.5.0",
            "_model_name": "HTMLModel",
            "_view_count": null,
            "_view_module": "@jupyter-widgets/controls",
            "_view_module_version": "1.5.0",
            "_view_name": "HTMLView",
            "description": "",
            "description_tooltip": null,
            "layout": "IPY_MODEL_2d634235581a469696a9598985783ed8",
            "placeholder": "​",
            "style": "IPY_MODEL_70099281dcb84feeb50380a71972f46d",
            "value": "100%"
          }
        },
        "aeb15175c1f648fa992cd157fcd74f57": {
          "model_module": "@jupyter-widgets/controls",
          "model_name": "FloatProgressModel",
          "model_module_version": "1.5.0",
          "state": {
            "_dom_classes": [],
            "_model_module": "@jupyter-widgets/controls",
            "_model_module_version": "1.5.0",
            "_model_name": "FloatProgressModel",
            "_view_count": null,
            "_view_module": "@jupyter-widgets/controls",
            "_view_module_version": "1.5.0",
            "_view_name": "ProgressView",
            "bar_style": "success",
            "description": "",
            "description_tooltip": null,
            "layout": "IPY_MODEL_31598925dead478da1abee9dd1522326",
            "max": 11,
            "min": 0,
            "orientation": "horizontal",
            "style": "IPY_MODEL_88c92df3413f47c48f6bee75cdeafca6",
            "value": 11
          }
        },
        "c8b14a98d0f54368bbf06824de0ef4d5": {
          "model_module": "@jupyter-widgets/controls",
          "model_name": "HTMLModel",
          "model_module_version": "1.5.0",
          "state": {
            "_dom_classes": [],
            "_model_module": "@jupyter-widgets/controls",
            "_model_module_version": "1.5.0",
            "_model_name": "HTMLModel",
            "_view_count": null,
            "_view_module": "@jupyter-widgets/controls",
            "_view_module_version": "1.5.0",
            "_view_name": "HTMLView",
            "description": "",
            "description_tooltip": null,
            "layout": "IPY_MODEL_481c207c51bf4a74b0aad9e0021c4e78",
            "placeholder": "​",
            "style": "IPY_MODEL_6e9ed98818714d698aeaa5cbf6eddcac",
            "value": " 11/11 [00:02&lt;00:00,  6.37it/s]"
          }
        },
        "c615fa03ae084fcf93959a64fb5f0c29": {
          "model_module": "@jupyter-widgets/base",
          "model_name": "LayoutModel",
          "model_module_version": "1.2.0",
          "state": {
            "_model_module": "@jupyter-widgets/base",
            "_model_module_version": "1.2.0",
            "_model_name": "LayoutModel",
            "_view_count": null,
            "_view_module": "@jupyter-widgets/base",
            "_view_module_version": "1.2.0",
            "_view_name": "LayoutView",
            "align_content": null,
            "align_items": null,
            "align_self": null,
            "border": null,
            "bottom": null,
            "display": null,
            "flex": null,
            "flex_flow": null,
            "grid_area": null,
            "grid_auto_columns": null,
            "grid_auto_flow": null,
            "grid_auto_rows": null,
            "grid_column": null,
            "grid_gap": null,
            "grid_row": null,
            "grid_template_areas": null,
            "grid_template_columns": null,
            "grid_template_rows": null,
            "height": null,
            "justify_content": null,
            "justify_items": null,
            "left": null,
            "margin": null,
            "max_height": null,
            "max_width": null,
            "min_height": null,
            "min_width": null,
            "object_fit": null,
            "object_position": null,
            "order": null,
            "overflow": null,
            "overflow_x": null,
            "overflow_y": null,
            "padding": null,
            "right": null,
            "top": null,
            "visibility": null,
            "width": null
          }
        },
        "2d634235581a469696a9598985783ed8": {
          "model_module": "@jupyter-widgets/base",
          "model_name": "LayoutModel",
          "model_module_version": "1.2.0",
          "state": {
            "_model_module": "@jupyter-widgets/base",
            "_model_module_version": "1.2.0",
            "_model_name": "LayoutModel",
            "_view_count": null,
            "_view_module": "@jupyter-widgets/base",
            "_view_module_version": "1.2.0",
            "_view_name": "LayoutView",
            "align_content": null,
            "align_items": null,
            "align_self": null,
            "border": null,
            "bottom": null,
            "display": null,
            "flex": null,
            "flex_flow": null,
            "grid_area": null,
            "grid_auto_columns": null,
            "grid_auto_flow": null,
            "grid_auto_rows": null,
            "grid_column": null,
            "grid_gap": null,
            "grid_row": null,
            "grid_template_areas": null,
            "grid_template_columns": null,
            "grid_template_rows": null,
            "height": null,
            "justify_content": null,
            "justify_items": null,
            "left": null,
            "margin": null,
            "max_height": null,
            "max_width": null,
            "min_height": null,
            "min_width": null,
            "object_fit": null,
            "object_position": null,
            "order": null,
            "overflow": null,
            "overflow_x": null,
            "overflow_y": null,
            "padding": null,
            "right": null,
            "top": null,
            "visibility": null,
            "width": null
          }
        },
        "70099281dcb84feeb50380a71972f46d": {
          "model_module": "@jupyter-widgets/controls",
          "model_name": "DescriptionStyleModel",
          "model_module_version": "1.5.0",
          "state": {
            "_model_module": "@jupyter-widgets/controls",
            "_model_module_version": "1.5.0",
            "_model_name": "DescriptionStyleModel",
            "_view_count": null,
            "_view_module": "@jupyter-widgets/base",
            "_view_module_version": "1.2.0",
            "_view_name": "StyleView",
            "description_width": ""
          }
        },
        "31598925dead478da1abee9dd1522326": {
          "model_module": "@jupyter-widgets/base",
          "model_name": "LayoutModel",
          "model_module_version": "1.2.0",
          "state": {
            "_model_module": "@jupyter-widgets/base",
            "_model_module_version": "1.2.0",
            "_model_name": "LayoutModel",
            "_view_count": null,
            "_view_module": "@jupyter-widgets/base",
            "_view_module_version": "1.2.0",
            "_view_name": "LayoutView",
            "align_content": null,
            "align_items": null,
            "align_self": null,
            "border": null,
            "bottom": null,
            "display": null,
            "flex": null,
            "flex_flow": null,
            "grid_area": null,
            "grid_auto_columns": null,
            "grid_auto_flow": null,
            "grid_auto_rows": null,
            "grid_column": null,
            "grid_gap": null,
            "grid_row": null,
            "grid_template_areas": null,
            "grid_template_columns": null,
            "grid_template_rows": null,
            "height": null,
            "justify_content": null,
            "justify_items": null,
            "left": null,
            "margin": null,
            "max_height": null,
            "max_width": null,
            "min_height": null,
            "min_width": null,
            "object_fit": null,
            "object_position": null,
            "order": null,
            "overflow": null,
            "overflow_x": null,
            "overflow_y": null,
            "padding": null,
            "right": null,
            "top": null,
            "visibility": null,
            "width": null
          }
        },
        "88c92df3413f47c48f6bee75cdeafca6": {
          "model_module": "@jupyter-widgets/controls",
          "model_name": "ProgressStyleModel",
          "model_module_version": "1.5.0",
          "state": {
            "_model_module": "@jupyter-widgets/controls",
            "_model_module_version": "1.5.0",
            "_model_name": "ProgressStyleModel",
            "_view_count": null,
            "_view_module": "@jupyter-widgets/base",
            "_view_module_version": "1.2.0",
            "_view_name": "StyleView",
            "bar_color": null,
            "description_width": ""
          }
        },
        "481c207c51bf4a74b0aad9e0021c4e78": {
          "model_module": "@jupyter-widgets/base",
          "model_name": "LayoutModel",
          "model_module_version": "1.2.0",
          "state": {
            "_model_module": "@jupyter-widgets/base",
            "_model_module_version": "1.2.0",
            "_model_name": "LayoutModel",
            "_view_count": null,
            "_view_module": "@jupyter-widgets/base",
            "_view_module_version": "1.2.0",
            "_view_name": "LayoutView",
            "align_content": null,
            "align_items": null,
            "align_self": null,
            "border": null,
            "bottom": null,
            "display": null,
            "flex": null,
            "flex_flow": null,
            "grid_area": null,
            "grid_auto_columns": null,
            "grid_auto_flow": null,
            "grid_auto_rows": null,
            "grid_column": null,
            "grid_gap": null,
            "grid_row": null,
            "grid_template_areas": null,
            "grid_template_columns": null,
            "grid_template_rows": null,
            "height": null,
            "justify_content": null,
            "justify_items": null,
            "left": null,
            "margin": null,
            "max_height": null,
            "max_width": null,
            "min_height": null,
            "min_width": null,
            "object_fit": null,
            "object_position": null,
            "order": null,
            "overflow": null,
            "overflow_x": null,
            "overflow_y": null,
            "padding": null,
            "right": null,
            "top": null,
            "visibility": null,
            "width": null
          }
        },
        "6e9ed98818714d698aeaa5cbf6eddcac": {
          "model_module": "@jupyter-widgets/controls",
          "model_name": "DescriptionStyleModel",
          "model_module_version": "1.5.0",
          "state": {
            "_model_module": "@jupyter-widgets/controls",
            "_model_module_version": "1.5.0",
            "_model_name": "DescriptionStyleModel",
            "_view_count": null,
            "_view_module": "@jupyter-widgets/base",
            "_view_module_version": "1.2.0",
            "_view_name": "StyleView",
            "description_width": ""
          }
        },
        "e6c55002acda431a94acbf536683658e": {
          "model_module": "@jupyter-widgets/controls",
          "model_name": "HBoxModel",
          "model_module_version": "1.5.0",
          "state": {
            "_dom_classes": [],
            "_model_module": "@jupyter-widgets/controls",
            "_model_module_version": "1.5.0",
            "_model_name": "HBoxModel",
            "_view_count": null,
            "_view_module": "@jupyter-widgets/controls",
            "_view_module_version": "1.5.0",
            "_view_name": "HBoxView",
            "box_style": "",
            "children": [
              "IPY_MODEL_dab9ad9402ea42d495075590eed13321",
              "IPY_MODEL_cb9bce249b4c4da28c3ff4ea5a530d4d",
              "IPY_MODEL_3842441e590645d6b360d6bc07df2646"
            ],
            "layout": "IPY_MODEL_761c20f893ff43dd9ccb36a68f8c7005"
          }
        },
        "dab9ad9402ea42d495075590eed13321": {
          "model_module": "@jupyter-widgets/controls",
          "model_name": "HTMLModel",
          "model_module_version": "1.5.0",
          "state": {
            "_dom_classes": [],
            "_model_module": "@jupyter-widgets/controls",
            "_model_module_version": "1.5.0",
            "_model_name": "HTMLModel",
            "_view_count": null,
            "_view_module": "@jupyter-widgets/controls",
            "_view_module_version": "1.5.0",
            "_view_name": "HTMLView",
            "description": "",
            "description_tooltip": null,
            "layout": "IPY_MODEL_084bc3b31cf3455881e4c13ff7dd5fe2",
            "placeholder": "​",
            "style": "IPY_MODEL_03729be325c24b63a5e9e7ea1b4cecac",
            "value": "100%"
          }
        },
        "cb9bce249b4c4da28c3ff4ea5a530d4d": {
          "model_module": "@jupyter-widgets/controls",
          "model_name": "FloatProgressModel",
          "model_module_version": "1.5.0",
          "state": {
            "_dom_classes": [],
            "_model_module": "@jupyter-widgets/controls",
            "_model_module_version": "1.5.0",
            "_model_name": "FloatProgressModel",
            "_view_count": null,
            "_view_module": "@jupyter-widgets/controls",
            "_view_module_version": "1.5.0",
            "_view_name": "ProgressView",
            "bar_style": "success",
            "description": "",
            "description_tooltip": null,
            "layout": "IPY_MODEL_424a4f7557934f2a93df956aa26d96a8",
            "max": 11,
            "min": 0,
            "orientation": "horizontal",
            "style": "IPY_MODEL_ff8385939b4d424b82fd477f2a65b489",
            "value": 11
          }
        },
        "3842441e590645d6b360d6bc07df2646": {
          "model_module": "@jupyter-widgets/controls",
          "model_name": "HTMLModel",
          "model_module_version": "1.5.0",
          "state": {
            "_dom_classes": [],
            "_model_module": "@jupyter-widgets/controls",
            "_model_module_version": "1.5.0",
            "_model_name": "HTMLModel",
            "_view_count": null,
            "_view_module": "@jupyter-widgets/controls",
            "_view_module_version": "1.5.0",
            "_view_name": "HTMLView",
            "description": "",
            "description_tooltip": null,
            "layout": "IPY_MODEL_21d9d05081e4438dbf231acb332d0b67",
            "placeholder": "​",
            "style": "IPY_MODEL_37dfa644649a4c58b63fe9032adf1f40",
            "value": " 11/11 [00:02&lt;00:00,  5.85it/s]"
          }
        },
        "761c20f893ff43dd9ccb36a68f8c7005": {
          "model_module": "@jupyter-widgets/base",
          "model_name": "LayoutModel",
          "model_module_version": "1.2.0",
          "state": {
            "_model_module": "@jupyter-widgets/base",
            "_model_module_version": "1.2.0",
            "_model_name": "LayoutModel",
            "_view_count": null,
            "_view_module": "@jupyter-widgets/base",
            "_view_module_version": "1.2.0",
            "_view_name": "LayoutView",
            "align_content": null,
            "align_items": null,
            "align_self": null,
            "border": null,
            "bottom": null,
            "display": null,
            "flex": null,
            "flex_flow": null,
            "grid_area": null,
            "grid_auto_columns": null,
            "grid_auto_flow": null,
            "grid_auto_rows": null,
            "grid_column": null,
            "grid_gap": null,
            "grid_row": null,
            "grid_template_areas": null,
            "grid_template_columns": null,
            "grid_template_rows": null,
            "height": null,
            "justify_content": null,
            "justify_items": null,
            "left": null,
            "margin": null,
            "max_height": null,
            "max_width": null,
            "min_height": null,
            "min_width": null,
            "object_fit": null,
            "object_position": null,
            "order": null,
            "overflow": null,
            "overflow_x": null,
            "overflow_y": null,
            "padding": null,
            "right": null,
            "top": null,
            "visibility": null,
            "width": null
          }
        },
        "084bc3b31cf3455881e4c13ff7dd5fe2": {
          "model_module": "@jupyter-widgets/base",
          "model_name": "LayoutModel",
          "model_module_version": "1.2.0",
          "state": {
            "_model_module": "@jupyter-widgets/base",
            "_model_module_version": "1.2.0",
            "_model_name": "LayoutModel",
            "_view_count": null,
            "_view_module": "@jupyter-widgets/base",
            "_view_module_version": "1.2.0",
            "_view_name": "LayoutView",
            "align_content": null,
            "align_items": null,
            "align_self": null,
            "border": null,
            "bottom": null,
            "display": null,
            "flex": null,
            "flex_flow": null,
            "grid_area": null,
            "grid_auto_columns": null,
            "grid_auto_flow": null,
            "grid_auto_rows": null,
            "grid_column": null,
            "grid_gap": null,
            "grid_row": null,
            "grid_template_areas": null,
            "grid_template_columns": null,
            "grid_template_rows": null,
            "height": null,
            "justify_content": null,
            "justify_items": null,
            "left": null,
            "margin": null,
            "max_height": null,
            "max_width": null,
            "min_height": null,
            "min_width": null,
            "object_fit": null,
            "object_position": null,
            "order": null,
            "overflow": null,
            "overflow_x": null,
            "overflow_y": null,
            "padding": null,
            "right": null,
            "top": null,
            "visibility": null,
            "width": null
          }
        },
        "03729be325c24b63a5e9e7ea1b4cecac": {
          "model_module": "@jupyter-widgets/controls",
          "model_name": "DescriptionStyleModel",
          "model_module_version": "1.5.0",
          "state": {
            "_model_module": "@jupyter-widgets/controls",
            "_model_module_version": "1.5.0",
            "_model_name": "DescriptionStyleModel",
            "_view_count": null,
            "_view_module": "@jupyter-widgets/base",
            "_view_module_version": "1.2.0",
            "_view_name": "StyleView",
            "description_width": ""
          }
        },
        "424a4f7557934f2a93df956aa26d96a8": {
          "model_module": "@jupyter-widgets/base",
          "model_name": "LayoutModel",
          "model_module_version": "1.2.0",
          "state": {
            "_model_module": "@jupyter-widgets/base",
            "_model_module_version": "1.2.0",
            "_model_name": "LayoutModel",
            "_view_count": null,
            "_view_module": "@jupyter-widgets/base",
            "_view_module_version": "1.2.0",
            "_view_name": "LayoutView",
            "align_content": null,
            "align_items": null,
            "align_self": null,
            "border": null,
            "bottom": null,
            "display": null,
            "flex": null,
            "flex_flow": null,
            "grid_area": null,
            "grid_auto_columns": null,
            "grid_auto_flow": null,
            "grid_auto_rows": null,
            "grid_column": null,
            "grid_gap": null,
            "grid_row": null,
            "grid_template_areas": null,
            "grid_template_columns": null,
            "grid_template_rows": null,
            "height": null,
            "justify_content": null,
            "justify_items": null,
            "left": null,
            "margin": null,
            "max_height": null,
            "max_width": null,
            "min_height": null,
            "min_width": null,
            "object_fit": null,
            "object_position": null,
            "order": null,
            "overflow": null,
            "overflow_x": null,
            "overflow_y": null,
            "padding": null,
            "right": null,
            "top": null,
            "visibility": null,
            "width": null
          }
        },
        "ff8385939b4d424b82fd477f2a65b489": {
          "model_module": "@jupyter-widgets/controls",
          "model_name": "ProgressStyleModel",
          "model_module_version": "1.5.0",
          "state": {
            "_model_module": "@jupyter-widgets/controls",
            "_model_module_version": "1.5.0",
            "_model_name": "ProgressStyleModel",
            "_view_count": null,
            "_view_module": "@jupyter-widgets/base",
            "_view_module_version": "1.2.0",
            "_view_name": "StyleView",
            "bar_color": null,
            "description_width": ""
          }
        },
        "21d9d05081e4438dbf231acb332d0b67": {
          "model_module": "@jupyter-widgets/base",
          "model_name": "LayoutModel",
          "model_module_version": "1.2.0",
          "state": {
            "_model_module": "@jupyter-widgets/base",
            "_model_module_version": "1.2.0",
            "_model_name": "LayoutModel",
            "_view_count": null,
            "_view_module": "@jupyter-widgets/base",
            "_view_module_version": "1.2.0",
            "_view_name": "LayoutView",
            "align_content": null,
            "align_items": null,
            "align_self": null,
            "border": null,
            "bottom": null,
            "display": null,
            "flex": null,
            "flex_flow": null,
            "grid_area": null,
            "grid_auto_columns": null,
            "grid_auto_flow": null,
            "grid_auto_rows": null,
            "grid_column": null,
            "grid_gap": null,
            "grid_row": null,
            "grid_template_areas": null,
            "grid_template_columns": null,
            "grid_template_rows": null,
            "height": null,
            "justify_content": null,
            "justify_items": null,
            "left": null,
            "margin": null,
            "max_height": null,
            "max_width": null,
            "min_height": null,
            "min_width": null,
            "object_fit": null,
            "object_position": null,
            "order": null,
            "overflow": null,
            "overflow_x": null,
            "overflow_y": null,
            "padding": null,
            "right": null,
            "top": null,
            "visibility": null,
            "width": null
          }
        },
        "37dfa644649a4c58b63fe9032adf1f40": {
          "model_module": "@jupyter-widgets/controls",
          "model_name": "DescriptionStyleModel",
          "model_module_version": "1.5.0",
          "state": {
            "_model_module": "@jupyter-widgets/controls",
            "_model_module_version": "1.5.0",
            "_model_name": "DescriptionStyleModel",
            "_view_count": null,
            "_view_module": "@jupyter-widgets/base",
            "_view_module_version": "1.2.0",
            "_view_name": "StyleView",
            "description_width": ""
          }
        },
        "eb77058c3a284f8cb7b7b8d0e6b85cb2": {
          "model_module": "@jupyter-widgets/controls",
          "model_name": "HBoxModel",
          "model_module_version": "1.5.0",
          "state": {
            "_dom_classes": [],
            "_model_module": "@jupyter-widgets/controls",
            "_model_module_version": "1.5.0",
            "_model_name": "HBoxModel",
            "_view_count": null,
            "_view_module": "@jupyter-widgets/controls",
            "_view_module_version": "1.5.0",
            "_view_name": "HBoxView",
            "box_style": "",
            "children": [
              "IPY_MODEL_3fcbbfaa44814923a7c3e2945b193cbd",
              "IPY_MODEL_621913fc09364404850f614fd59a9c9e",
              "IPY_MODEL_78c0ec5836cb4fc0ba0f5c9e9990cf33"
            ],
            "layout": "IPY_MODEL_5b2636bb22ce42d5b636949669a81efc"
          }
        },
        "3fcbbfaa44814923a7c3e2945b193cbd": {
          "model_module": "@jupyter-widgets/controls",
          "model_name": "HTMLModel",
          "model_module_version": "1.5.0",
          "state": {
            "_dom_classes": [],
            "_model_module": "@jupyter-widgets/controls",
            "_model_module_version": "1.5.0",
            "_model_name": "HTMLModel",
            "_view_count": null,
            "_view_module": "@jupyter-widgets/controls",
            "_view_module_version": "1.5.0",
            "_view_name": "HTMLView",
            "description": "",
            "description_tooltip": null,
            "layout": "IPY_MODEL_f155f5358c214cd882c8bd27480f5054",
            "placeholder": "​",
            "style": "IPY_MODEL_c9c9a80e21224e77b2a04b034625d95b",
            "value": "100%"
          }
        },
        "621913fc09364404850f614fd59a9c9e": {
          "model_module": "@jupyter-widgets/controls",
          "model_name": "FloatProgressModel",
          "model_module_version": "1.5.0",
          "state": {
            "_dom_classes": [],
            "_model_module": "@jupyter-widgets/controls",
            "_model_module_version": "1.5.0",
            "_model_name": "FloatProgressModel",
            "_view_count": null,
            "_view_module": "@jupyter-widgets/controls",
            "_view_module_version": "1.5.0",
            "_view_name": "ProgressView",
            "bar_style": "success",
            "description": "",
            "description_tooltip": null,
            "layout": "IPY_MODEL_b0cacb3704304cb08307d8b2fcf4a544",
            "max": 11,
            "min": 0,
            "orientation": "horizontal",
            "style": "IPY_MODEL_f9ba136f8a6d4dc0a943478d9432409a",
            "value": 11
          }
        },
        "78c0ec5836cb4fc0ba0f5c9e9990cf33": {
          "model_module": "@jupyter-widgets/controls",
          "model_name": "HTMLModel",
          "model_module_version": "1.5.0",
          "state": {
            "_dom_classes": [],
            "_model_module": "@jupyter-widgets/controls",
            "_model_module_version": "1.5.0",
            "_model_name": "HTMLModel",
            "_view_count": null,
            "_view_module": "@jupyter-widgets/controls",
            "_view_module_version": "1.5.0",
            "_view_name": "HTMLView",
            "description": "",
            "description_tooltip": null,
            "layout": "IPY_MODEL_b6589705d2f54b86aa4184c1c6206789",
            "placeholder": "​",
            "style": "IPY_MODEL_c1faf7426cbf4498b3483af70ebd9b09",
            "value": " 11/11 [00:01&lt;00:00,  6.68it/s]"
          }
        },
        "5b2636bb22ce42d5b636949669a81efc": {
          "model_module": "@jupyter-widgets/base",
          "model_name": "LayoutModel",
          "model_module_version": "1.2.0",
          "state": {
            "_model_module": "@jupyter-widgets/base",
            "_model_module_version": "1.2.0",
            "_model_name": "LayoutModel",
            "_view_count": null,
            "_view_module": "@jupyter-widgets/base",
            "_view_module_version": "1.2.0",
            "_view_name": "LayoutView",
            "align_content": null,
            "align_items": null,
            "align_self": null,
            "border": null,
            "bottom": null,
            "display": null,
            "flex": null,
            "flex_flow": null,
            "grid_area": null,
            "grid_auto_columns": null,
            "grid_auto_flow": null,
            "grid_auto_rows": null,
            "grid_column": null,
            "grid_gap": null,
            "grid_row": null,
            "grid_template_areas": null,
            "grid_template_columns": null,
            "grid_template_rows": null,
            "height": null,
            "justify_content": null,
            "justify_items": null,
            "left": null,
            "margin": null,
            "max_height": null,
            "max_width": null,
            "min_height": null,
            "min_width": null,
            "object_fit": null,
            "object_position": null,
            "order": null,
            "overflow": null,
            "overflow_x": null,
            "overflow_y": null,
            "padding": null,
            "right": null,
            "top": null,
            "visibility": null,
            "width": null
          }
        },
        "f155f5358c214cd882c8bd27480f5054": {
          "model_module": "@jupyter-widgets/base",
          "model_name": "LayoutModel",
          "model_module_version": "1.2.0",
          "state": {
            "_model_module": "@jupyter-widgets/base",
            "_model_module_version": "1.2.0",
            "_model_name": "LayoutModel",
            "_view_count": null,
            "_view_module": "@jupyter-widgets/base",
            "_view_module_version": "1.2.0",
            "_view_name": "LayoutView",
            "align_content": null,
            "align_items": null,
            "align_self": null,
            "border": null,
            "bottom": null,
            "display": null,
            "flex": null,
            "flex_flow": null,
            "grid_area": null,
            "grid_auto_columns": null,
            "grid_auto_flow": null,
            "grid_auto_rows": null,
            "grid_column": null,
            "grid_gap": null,
            "grid_row": null,
            "grid_template_areas": null,
            "grid_template_columns": null,
            "grid_template_rows": null,
            "height": null,
            "justify_content": null,
            "justify_items": null,
            "left": null,
            "margin": null,
            "max_height": null,
            "max_width": null,
            "min_height": null,
            "min_width": null,
            "object_fit": null,
            "object_position": null,
            "order": null,
            "overflow": null,
            "overflow_x": null,
            "overflow_y": null,
            "padding": null,
            "right": null,
            "top": null,
            "visibility": null,
            "width": null
          }
        },
        "c9c9a80e21224e77b2a04b034625d95b": {
          "model_module": "@jupyter-widgets/controls",
          "model_name": "DescriptionStyleModel",
          "model_module_version": "1.5.0",
          "state": {
            "_model_module": "@jupyter-widgets/controls",
            "_model_module_version": "1.5.0",
            "_model_name": "DescriptionStyleModel",
            "_view_count": null,
            "_view_module": "@jupyter-widgets/base",
            "_view_module_version": "1.2.0",
            "_view_name": "StyleView",
            "description_width": ""
          }
        },
        "b0cacb3704304cb08307d8b2fcf4a544": {
          "model_module": "@jupyter-widgets/base",
          "model_name": "LayoutModel",
          "model_module_version": "1.2.0",
          "state": {
            "_model_module": "@jupyter-widgets/base",
            "_model_module_version": "1.2.0",
            "_model_name": "LayoutModel",
            "_view_count": null,
            "_view_module": "@jupyter-widgets/base",
            "_view_module_version": "1.2.0",
            "_view_name": "LayoutView",
            "align_content": null,
            "align_items": null,
            "align_self": null,
            "border": null,
            "bottom": null,
            "display": null,
            "flex": null,
            "flex_flow": null,
            "grid_area": null,
            "grid_auto_columns": null,
            "grid_auto_flow": null,
            "grid_auto_rows": null,
            "grid_column": null,
            "grid_gap": null,
            "grid_row": null,
            "grid_template_areas": null,
            "grid_template_columns": null,
            "grid_template_rows": null,
            "height": null,
            "justify_content": null,
            "justify_items": null,
            "left": null,
            "margin": null,
            "max_height": null,
            "max_width": null,
            "min_height": null,
            "min_width": null,
            "object_fit": null,
            "object_position": null,
            "order": null,
            "overflow": null,
            "overflow_x": null,
            "overflow_y": null,
            "padding": null,
            "right": null,
            "top": null,
            "visibility": null,
            "width": null
          }
        },
        "f9ba136f8a6d4dc0a943478d9432409a": {
          "model_module": "@jupyter-widgets/controls",
          "model_name": "ProgressStyleModel",
          "model_module_version": "1.5.0",
          "state": {
            "_model_module": "@jupyter-widgets/controls",
            "_model_module_version": "1.5.0",
            "_model_name": "ProgressStyleModel",
            "_view_count": null,
            "_view_module": "@jupyter-widgets/base",
            "_view_module_version": "1.2.0",
            "_view_name": "StyleView",
            "bar_color": null,
            "description_width": ""
          }
        },
        "b6589705d2f54b86aa4184c1c6206789": {
          "model_module": "@jupyter-widgets/base",
          "model_name": "LayoutModel",
          "model_module_version": "1.2.0",
          "state": {
            "_model_module": "@jupyter-widgets/base",
            "_model_module_version": "1.2.0",
            "_model_name": "LayoutModel",
            "_view_count": null,
            "_view_module": "@jupyter-widgets/base",
            "_view_module_version": "1.2.0",
            "_view_name": "LayoutView",
            "align_content": null,
            "align_items": null,
            "align_self": null,
            "border": null,
            "bottom": null,
            "display": null,
            "flex": null,
            "flex_flow": null,
            "grid_area": null,
            "grid_auto_columns": null,
            "grid_auto_flow": null,
            "grid_auto_rows": null,
            "grid_column": null,
            "grid_gap": null,
            "grid_row": null,
            "grid_template_areas": null,
            "grid_template_columns": null,
            "grid_template_rows": null,
            "height": null,
            "justify_content": null,
            "justify_items": null,
            "left": null,
            "margin": null,
            "max_height": null,
            "max_width": null,
            "min_height": null,
            "min_width": null,
            "object_fit": null,
            "object_position": null,
            "order": null,
            "overflow": null,
            "overflow_x": null,
            "overflow_y": null,
            "padding": null,
            "right": null,
            "top": null,
            "visibility": null,
            "width": null
          }
        },
        "c1faf7426cbf4498b3483af70ebd9b09": {
          "model_module": "@jupyter-widgets/controls",
          "model_name": "DescriptionStyleModel",
          "model_module_version": "1.5.0",
          "state": {
            "_model_module": "@jupyter-widgets/controls",
            "_model_module_version": "1.5.0",
            "_model_name": "DescriptionStyleModel",
            "_view_count": null,
            "_view_module": "@jupyter-widgets/base",
            "_view_module_version": "1.2.0",
            "_view_name": "StyleView",
            "description_width": ""
          }
        },
        "ad0a205ed73442d58fea5a27d1c07ca6": {
          "model_module": "@jupyter-widgets/controls",
          "model_name": "HBoxModel",
          "model_module_version": "1.5.0",
          "state": {
            "_dom_classes": [],
            "_model_module": "@jupyter-widgets/controls",
            "_model_module_version": "1.5.0",
            "_model_name": "HBoxModel",
            "_view_count": null,
            "_view_module": "@jupyter-widgets/controls",
            "_view_module_version": "1.5.0",
            "_view_name": "HBoxView",
            "box_style": "",
            "children": [
              "IPY_MODEL_f842242f264c42aba7b12f0d683d5233",
              "IPY_MODEL_e5362955e45b4961b6905fe516a885c9",
              "IPY_MODEL_ee07c8e7290f4a11893835c231c92af8"
            ],
            "layout": "IPY_MODEL_f7f52bb6263543c995d86a9e8518f1ab"
          }
        },
        "f842242f264c42aba7b12f0d683d5233": {
          "model_module": "@jupyter-widgets/controls",
          "model_name": "HTMLModel",
          "model_module_version": "1.5.0",
          "state": {
            "_dom_classes": [],
            "_model_module": "@jupyter-widgets/controls",
            "_model_module_version": "1.5.0",
            "_model_name": "HTMLModel",
            "_view_count": null,
            "_view_module": "@jupyter-widgets/controls",
            "_view_module_version": "1.5.0",
            "_view_name": "HTMLView",
            "description": "",
            "description_tooltip": null,
            "layout": "IPY_MODEL_eb3f790ceff8467d89cf25ca92e2351e",
            "placeholder": "​",
            "style": "IPY_MODEL_b809b1b4b6ed414780d46d2f230d79e5",
            "value": "100%"
          }
        },
        "e5362955e45b4961b6905fe516a885c9": {
          "model_module": "@jupyter-widgets/controls",
          "model_name": "FloatProgressModel",
          "model_module_version": "1.5.0",
          "state": {
            "_dom_classes": [],
            "_model_module": "@jupyter-widgets/controls",
            "_model_module_version": "1.5.0",
            "_model_name": "FloatProgressModel",
            "_view_count": null,
            "_view_module": "@jupyter-widgets/controls",
            "_view_module_version": "1.5.0",
            "_view_name": "ProgressView",
            "bar_style": "success",
            "description": "",
            "description_tooltip": null,
            "layout": "IPY_MODEL_2bc1739fb2104fa28a5c3225835e69ef",
            "max": 11,
            "min": 0,
            "orientation": "horizontal",
            "style": "IPY_MODEL_2171faae3b534a5eacdbd67c9b32ae8c",
            "value": 11
          }
        },
        "ee07c8e7290f4a11893835c231c92af8": {
          "model_module": "@jupyter-widgets/controls",
          "model_name": "HTMLModel",
          "model_module_version": "1.5.0",
          "state": {
            "_dom_classes": [],
            "_model_module": "@jupyter-widgets/controls",
            "_model_module_version": "1.5.0",
            "_model_name": "HTMLModel",
            "_view_count": null,
            "_view_module": "@jupyter-widgets/controls",
            "_view_module_version": "1.5.0",
            "_view_name": "HTMLView",
            "description": "",
            "description_tooltip": null,
            "layout": "IPY_MODEL_576706643998468a95a06aabba042ff9",
            "placeholder": "​",
            "style": "IPY_MODEL_8100d161009845e3bbd59f87c1030d9d",
            "value": " 11/11 [00:01&lt;00:00,  6.88it/s]"
          }
        },
        "f7f52bb6263543c995d86a9e8518f1ab": {
          "model_module": "@jupyter-widgets/base",
          "model_name": "LayoutModel",
          "model_module_version": "1.2.0",
          "state": {
            "_model_module": "@jupyter-widgets/base",
            "_model_module_version": "1.2.0",
            "_model_name": "LayoutModel",
            "_view_count": null,
            "_view_module": "@jupyter-widgets/base",
            "_view_module_version": "1.2.0",
            "_view_name": "LayoutView",
            "align_content": null,
            "align_items": null,
            "align_self": null,
            "border": null,
            "bottom": null,
            "display": null,
            "flex": null,
            "flex_flow": null,
            "grid_area": null,
            "grid_auto_columns": null,
            "grid_auto_flow": null,
            "grid_auto_rows": null,
            "grid_column": null,
            "grid_gap": null,
            "grid_row": null,
            "grid_template_areas": null,
            "grid_template_columns": null,
            "grid_template_rows": null,
            "height": null,
            "justify_content": null,
            "justify_items": null,
            "left": null,
            "margin": null,
            "max_height": null,
            "max_width": null,
            "min_height": null,
            "min_width": null,
            "object_fit": null,
            "object_position": null,
            "order": null,
            "overflow": null,
            "overflow_x": null,
            "overflow_y": null,
            "padding": null,
            "right": null,
            "top": null,
            "visibility": null,
            "width": null
          }
        },
        "eb3f790ceff8467d89cf25ca92e2351e": {
          "model_module": "@jupyter-widgets/base",
          "model_name": "LayoutModel",
          "model_module_version": "1.2.0",
          "state": {
            "_model_module": "@jupyter-widgets/base",
            "_model_module_version": "1.2.0",
            "_model_name": "LayoutModel",
            "_view_count": null,
            "_view_module": "@jupyter-widgets/base",
            "_view_module_version": "1.2.0",
            "_view_name": "LayoutView",
            "align_content": null,
            "align_items": null,
            "align_self": null,
            "border": null,
            "bottom": null,
            "display": null,
            "flex": null,
            "flex_flow": null,
            "grid_area": null,
            "grid_auto_columns": null,
            "grid_auto_flow": null,
            "grid_auto_rows": null,
            "grid_column": null,
            "grid_gap": null,
            "grid_row": null,
            "grid_template_areas": null,
            "grid_template_columns": null,
            "grid_template_rows": null,
            "height": null,
            "justify_content": null,
            "justify_items": null,
            "left": null,
            "margin": null,
            "max_height": null,
            "max_width": null,
            "min_height": null,
            "min_width": null,
            "object_fit": null,
            "object_position": null,
            "order": null,
            "overflow": null,
            "overflow_x": null,
            "overflow_y": null,
            "padding": null,
            "right": null,
            "top": null,
            "visibility": null,
            "width": null
          }
        },
        "b809b1b4b6ed414780d46d2f230d79e5": {
          "model_module": "@jupyter-widgets/controls",
          "model_name": "DescriptionStyleModel",
          "model_module_version": "1.5.0",
          "state": {
            "_model_module": "@jupyter-widgets/controls",
            "_model_module_version": "1.5.0",
            "_model_name": "DescriptionStyleModel",
            "_view_count": null,
            "_view_module": "@jupyter-widgets/base",
            "_view_module_version": "1.2.0",
            "_view_name": "StyleView",
            "description_width": ""
          }
        },
        "2bc1739fb2104fa28a5c3225835e69ef": {
          "model_module": "@jupyter-widgets/base",
          "model_name": "LayoutModel",
          "model_module_version": "1.2.0",
          "state": {
            "_model_module": "@jupyter-widgets/base",
            "_model_module_version": "1.2.0",
            "_model_name": "LayoutModel",
            "_view_count": null,
            "_view_module": "@jupyter-widgets/base",
            "_view_module_version": "1.2.0",
            "_view_name": "LayoutView",
            "align_content": null,
            "align_items": null,
            "align_self": null,
            "border": null,
            "bottom": null,
            "display": null,
            "flex": null,
            "flex_flow": null,
            "grid_area": null,
            "grid_auto_columns": null,
            "grid_auto_flow": null,
            "grid_auto_rows": null,
            "grid_column": null,
            "grid_gap": null,
            "grid_row": null,
            "grid_template_areas": null,
            "grid_template_columns": null,
            "grid_template_rows": null,
            "height": null,
            "justify_content": null,
            "justify_items": null,
            "left": null,
            "margin": null,
            "max_height": null,
            "max_width": null,
            "min_height": null,
            "min_width": null,
            "object_fit": null,
            "object_position": null,
            "order": null,
            "overflow": null,
            "overflow_x": null,
            "overflow_y": null,
            "padding": null,
            "right": null,
            "top": null,
            "visibility": null,
            "width": null
          }
        },
        "2171faae3b534a5eacdbd67c9b32ae8c": {
          "model_module": "@jupyter-widgets/controls",
          "model_name": "ProgressStyleModel",
          "model_module_version": "1.5.0",
          "state": {
            "_model_module": "@jupyter-widgets/controls",
            "_model_module_version": "1.5.0",
            "_model_name": "ProgressStyleModel",
            "_view_count": null,
            "_view_module": "@jupyter-widgets/base",
            "_view_module_version": "1.2.0",
            "_view_name": "StyleView",
            "bar_color": null,
            "description_width": ""
          }
        },
        "576706643998468a95a06aabba042ff9": {
          "model_module": "@jupyter-widgets/base",
          "model_name": "LayoutModel",
          "model_module_version": "1.2.0",
          "state": {
            "_model_module": "@jupyter-widgets/base",
            "_model_module_version": "1.2.0",
            "_model_name": "LayoutModel",
            "_view_count": null,
            "_view_module": "@jupyter-widgets/base",
            "_view_module_version": "1.2.0",
            "_view_name": "LayoutView",
            "align_content": null,
            "align_items": null,
            "align_self": null,
            "border": null,
            "bottom": null,
            "display": null,
            "flex": null,
            "flex_flow": null,
            "grid_area": null,
            "grid_auto_columns": null,
            "grid_auto_flow": null,
            "grid_auto_rows": null,
            "grid_column": null,
            "grid_gap": null,
            "grid_row": null,
            "grid_template_areas": null,
            "grid_template_columns": null,
            "grid_template_rows": null,
            "height": null,
            "justify_content": null,
            "justify_items": null,
            "left": null,
            "margin": null,
            "max_height": null,
            "max_width": null,
            "min_height": null,
            "min_width": null,
            "object_fit": null,
            "object_position": null,
            "order": null,
            "overflow": null,
            "overflow_x": null,
            "overflow_y": null,
            "padding": null,
            "right": null,
            "top": null,
            "visibility": null,
            "width": null
          }
        },
        "8100d161009845e3bbd59f87c1030d9d": {
          "model_module": "@jupyter-widgets/controls",
          "model_name": "DescriptionStyleModel",
          "model_module_version": "1.5.0",
          "state": {
            "_model_module": "@jupyter-widgets/controls",
            "_model_module_version": "1.5.0",
            "_model_name": "DescriptionStyleModel",
            "_view_count": null,
            "_view_module": "@jupyter-widgets/base",
            "_view_module_version": "1.2.0",
            "_view_name": "StyleView",
            "description_width": ""
          }
        },
        "79209df1ec5e4f7aa16cb20c7caa37b9": {
          "model_module": "@jupyter-widgets/controls",
          "model_name": "HBoxModel",
          "model_module_version": "1.5.0",
          "state": {
            "_dom_classes": [],
            "_model_module": "@jupyter-widgets/controls",
            "_model_module_version": "1.5.0",
            "_model_name": "HBoxModel",
            "_view_count": null,
            "_view_module": "@jupyter-widgets/controls",
            "_view_module_version": "1.5.0",
            "_view_name": "HBoxView",
            "box_style": "",
            "children": [
              "IPY_MODEL_49977e8161324ff1aa639e5283b5325f",
              "IPY_MODEL_fbe4d1bdd2724a0d860b7f12463b202a",
              "IPY_MODEL_3a67c319777440b1a63423d669e0e272"
            ],
            "layout": "IPY_MODEL_f035370220554f099c88530de6ecef5b"
          }
        },
        "49977e8161324ff1aa639e5283b5325f": {
          "model_module": "@jupyter-widgets/controls",
          "model_name": "HTMLModel",
          "model_module_version": "1.5.0",
          "state": {
            "_dom_classes": [],
            "_model_module": "@jupyter-widgets/controls",
            "_model_module_version": "1.5.0",
            "_model_name": "HTMLModel",
            "_view_count": null,
            "_view_module": "@jupyter-widgets/controls",
            "_view_module_version": "1.5.0",
            "_view_name": "HTMLView",
            "description": "",
            "description_tooltip": null,
            "layout": "IPY_MODEL_3323780d8c9b401db69ac11fba399026",
            "placeholder": "​",
            "style": "IPY_MODEL_d9701094a3ac4257ae5a5d48f0076bb5",
            "value": "100%"
          }
        },
        "fbe4d1bdd2724a0d860b7f12463b202a": {
          "model_module": "@jupyter-widgets/controls",
          "model_name": "FloatProgressModel",
          "model_module_version": "1.5.0",
          "state": {
            "_dom_classes": [],
            "_model_module": "@jupyter-widgets/controls",
            "_model_module_version": "1.5.0",
            "_model_name": "FloatProgressModel",
            "_view_count": null,
            "_view_module": "@jupyter-widgets/controls",
            "_view_module_version": "1.5.0",
            "_view_name": "ProgressView",
            "bar_style": "success",
            "description": "",
            "description_tooltip": null,
            "layout": "IPY_MODEL_287985fc964b450d87b059f3eab31d14",
            "max": 11,
            "min": 0,
            "orientation": "horizontal",
            "style": "IPY_MODEL_7389afb634b94d9bb1dfd921c3b4feca",
            "value": 11
          }
        },
        "3a67c319777440b1a63423d669e0e272": {
          "model_module": "@jupyter-widgets/controls",
          "model_name": "HTMLModel",
          "model_module_version": "1.5.0",
          "state": {
            "_dom_classes": [],
            "_model_module": "@jupyter-widgets/controls",
            "_model_module_version": "1.5.0",
            "_model_name": "HTMLModel",
            "_view_count": null,
            "_view_module": "@jupyter-widgets/controls",
            "_view_module_version": "1.5.0",
            "_view_name": "HTMLView",
            "description": "",
            "description_tooltip": null,
            "layout": "IPY_MODEL_a2955fe9385246eba804209b00da915f",
            "placeholder": "​",
            "style": "IPY_MODEL_16c79138a483461dad836d6c133ee125",
            "value": " 11/11 [00:01&lt;00:00,  6.37it/s]"
          }
        },
        "f035370220554f099c88530de6ecef5b": {
          "model_module": "@jupyter-widgets/base",
          "model_name": "LayoutModel",
          "model_module_version": "1.2.0",
          "state": {
            "_model_module": "@jupyter-widgets/base",
            "_model_module_version": "1.2.0",
            "_model_name": "LayoutModel",
            "_view_count": null,
            "_view_module": "@jupyter-widgets/base",
            "_view_module_version": "1.2.0",
            "_view_name": "LayoutView",
            "align_content": null,
            "align_items": null,
            "align_self": null,
            "border": null,
            "bottom": null,
            "display": null,
            "flex": null,
            "flex_flow": null,
            "grid_area": null,
            "grid_auto_columns": null,
            "grid_auto_flow": null,
            "grid_auto_rows": null,
            "grid_column": null,
            "grid_gap": null,
            "grid_row": null,
            "grid_template_areas": null,
            "grid_template_columns": null,
            "grid_template_rows": null,
            "height": null,
            "justify_content": null,
            "justify_items": null,
            "left": null,
            "margin": null,
            "max_height": null,
            "max_width": null,
            "min_height": null,
            "min_width": null,
            "object_fit": null,
            "object_position": null,
            "order": null,
            "overflow": null,
            "overflow_x": null,
            "overflow_y": null,
            "padding": null,
            "right": null,
            "top": null,
            "visibility": null,
            "width": null
          }
        },
        "3323780d8c9b401db69ac11fba399026": {
          "model_module": "@jupyter-widgets/base",
          "model_name": "LayoutModel",
          "model_module_version": "1.2.0",
          "state": {
            "_model_module": "@jupyter-widgets/base",
            "_model_module_version": "1.2.0",
            "_model_name": "LayoutModel",
            "_view_count": null,
            "_view_module": "@jupyter-widgets/base",
            "_view_module_version": "1.2.0",
            "_view_name": "LayoutView",
            "align_content": null,
            "align_items": null,
            "align_self": null,
            "border": null,
            "bottom": null,
            "display": null,
            "flex": null,
            "flex_flow": null,
            "grid_area": null,
            "grid_auto_columns": null,
            "grid_auto_flow": null,
            "grid_auto_rows": null,
            "grid_column": null,
            "grid_gap": null,
            "grid_row": null,
            "grid_template_areas": null,
            "grid_template_columns": null,
            "grid_template_rows": null,
            "height": null,
            "justify_content": null,
            "justify_items": null,
            "left": null,
            "margin": null,
            "max_height": null,
            "max_width": null,
            "min_height": null,
            "min_width": null,
            "object_fit": null,
            "object_position": null,
            "order": null,
            "overflow": null,
            "overflow_x": null,
            "overflow_y": null,
            "padding": null,
            "right": null,
            "top": null,
            "visibility": null,
            "width": null
          }
        },
        "d9701094a3ac4257ae5a5d48f0076bb5": {
          "model_module": "@jupyter-widgets/controls",
          "model_name": "DescriptionStyleModel",
          "model_module_version": "1.5.0",
          "state": {
            "_model_module": "@jupyter-widgets/controls",
            "_model_module_version": "1.5.0",
            "_model_name": "DescriptionStyleModel",
            "_view_count": null,
            "_view_module": "@jupyter-widgets/base",
            "_view_module_version": "1.2.0",
            "_view_name": "StyleView",
            "description_width": ""
          }
        },
        "287985fc964b450d87b059f3eab31d14": {
          "model_module": "@jupyter-widgets/base",
          "model_name": "LayoutModel",
          "model_module_version": "1.2.0",
          "state": {
            "_model_module": "@jupyter-widgets/base",
            "_model_module_version": "1.2.0",
            "_model_name": "LayoutModel",
            "_view_count": null,
            "_view_module": "@jupyter-widgets/base",
            "_view_module_version": "1.2.0",
            "_view_name": "LayoutView",
            "align_content": null,
            "align_items": null,
            "align_self": null,
            "border": null,
            "bottom": null,
            "display": null,
            "flex": null,
            "flex_flow": null,
            "grid_area": null,
            "grid_auto_columns": null,
            "grid_auto_flow": null,
            "grid_auto_rows": null,
            "grid_column": null,
            "grid_gap": null,
            "grid_row": null,
            "grid_template_areas": null,
            "grid_template_columns": null,
            "grid_template_rows": null,
            "height": null,
            "justify_content": null,
            "justify_items": null,
            "left": null,
            "margin": null,
            "max_height": null,
            "max_width": null,
            "min_height": null,
            "min_width": null,
            "object_fit": null,
            "object_position": null,
            "order": null,
            "overflow": null,
            "overflow_x": null,
            "overflow_y": null,
            "padding": null,
            "right": null,
            "top": null,
            "visibility": null,
            "width": null
          }
        },
        "7389afb634b94d9bb1dfd921c3b4feca": {
          "model_module": "@jupyter-widgets/controls",
          "model_name": "ProgressStyleModel",
          "model_module_version": "1.5.0",
          "state": {
            "_model_module": "@jupyter-widgets/controls",
            "_model_module_version": "1.5.0",
            "_model_name": "ProgressStyleModel",
            "_view_count": null,
            "_view_module": "@jupyter-widgets/base",
            "_view_module_version": "1.2.0",
            "_view_name": "StyleView",
            "bar_color": null,
            "description_width": ""
          }
        },
        "a2955fe9385246eba804209b00da915f": {
          "model_module": "@jupyter-widgets/base",
          "model_name": "LayoutModel",
          "model_module_version": "1.2.0",
          "state": {
            "_model_module": "@jupyter-widgets/base",
            "_model_module_version": "1.2.0",
            "_model_name": "LayoutModel",
            "_view_count": null,
            "_view_module": "@jupyter-widgets/base",
            "_view_module_version": "1.2.0",
            "_view_name": "LayoutView",
            "align_content": null,
            "align_items": null,
            "align_self": null,
            "border": null,
            "bottom": null,
            "display": null,
            "flex": null,
            "flex_flow": null,
            "grid_area": null,
            "grid_auto_columns": null,
            "grid_auto_flow": null,
            "grid_auto_rows": null,
            "grid_column": null,
            "grid_gap": null,
            "grid_row": null,
            "grid_template_areas": null,
            "grid_template_columns": null,
            "grid_template_rows": null,
            "height": null,
            "justify_content": null,
            "justify_items": null,
            "left": null,
            "margin": null,
            "max_height": null,
            "max_width": null,
            "min_height": null,
            "min_width": null,
            "object_fit": null,
            "object_position": null,
            "order": null,
            "overflow": null,
            "overflow_x": null,
            "overflow_y": null,
            "padding": null,
            "right": null,
            "top": null,
            "visibility": null,
            "width": null
          }
        },
        "16c79138a483461dad836d6c133ee125": {
          "model_module": "@jupyter-widgets/controls",
          "model_name": "DescriptionStyleModel",
          "model_module_version": "1.5.0",
          "state": {
            "_model_module": "@jupyter-widgets/controls",
            "_model_module_version": "1.5.0",
            "_model_name": "DescriptionStyleModel",
            "_view_count": null,
            "_view_module": "@jupyter-widgets/base",
            "_view_module_version": "1.2.0",
            "_view_name": "StyleView",
            "description_width": ""
          }
        },
        "5c8684baa4c04d6c94a5f4751401f080": {
          "model_module": "@jupyter-widgets/controls",
          "model_name": "HBoxModel",
          "model_module_version": "1.5.0",
          "state": {
            "_dom_classes": [],
            "_model_module": "@jupyter-widgets/controls",
            "_model_module_version": "1.5.0",
            "_model_name": "HBoxModel",
            "_view_count": null,
            "_view_module": "@jupyter-widgets/controls",
            "_view_module_version": "1.5.0",
            "_view_name": "HBoxView",
            "box_style": "",
            "children": [
              "IPY_MODEL_d79a01505de34ea89c50ebbdc52ceba4",
              "IPY_MODEL_3ffcfd2e90344cfb9054dce092901b0c",
              "IPY_MODEL_0f36cdcb47034c73a79e28f3d2acc29a"
            ],
            "layout": "IPY_MODEL_f623a0257d8141ab90030b0e5c341479"
          }
        },
        "d79a01505de34ea89c50ebbdc52ceba4": {
          "model_module": "@jupyter-widgets/controls",
          "model_name": "HTMLModel",
          "model_module_version": "1.5.0",
          "state": {
            "_dom_classes": [],
            "_model_module": "@jupyter-widgets/controls",
            "_model_module_version": "1.5.0",
            "_model_name": "HTMLModel",
            "_view_count": null,
            "_view_module": "@jupyter-widgets/controls",
            "_view_module_version": "1.5.0",
            "_view_name": "HTMLView",
            "description": "",
            "description_tooltip": null,
            "layout": "IPY_MODEL_8310b508302b41feb32ccdbd3f6f1f30",
            "placeholder": "​",
            "style": "IPY_MODEL_49bea2b53c574ff1b02ee1e735689265",
            "value": "100%"
          }
        },
        "3ffcfd2e90344cfb9054dce092901b0c": {
          "model_module": "@jupyter-widgets/controls",
          "model_name": "FloatProgressModel",
          "model_module_version": "1.5.0",
          "state": {
            "_dom_classes": [],
            "_model_module": "@jupyter-widgets/controls",
            "_model_module_version": "1.5.0",
            "_model_name": "FloatProgressModel",
            "_view_count": null,
            "_view_module": "@jupyter-widgets/controls",
            "_view_module_version": "1.5.0",
            "_view_name": "ProgressView",
            "bar_style": "success",
            "description": "",
            "description_tooltip": null,
            "layout": "IPY_MODEL_210a1e54639f4fa98d020f57a33edb23",
            "max": 11,
            "min": 0,
            "orientation": "horizontal",
            "style": "IPY_MODEL_b97ddefebd8a4eb191ca9f614bba0378",
            "value": 11
          }
        },
        "0f36cdcb47034c73a79e28f3d2acc29a": {
          "model_module": "@jupyter-widgets/controls",
          "model_name": "HTMLModel",
          "model_module_version": "1.5.0",
          "state": {
            "_dom_classes": [],
            "_model_module": "@jupyter-widgets/controls",
            "_model_module_version": "1.5.0",
            "_model_name": "HTMLModel",
            "_view_count": null,
            "_view_module": "@jupyter-widgets/controls",
            "_view_module_version": "1.5.0",
            "_view_name": "HTMLView",
            "description": "",
            "description_tooltip": null,
            "layout": "IPY_MODEL_ddc9f32f47084ba3892cc187641fad96",
            "placeholder": "​",
            "style": "IPY_MODEL_796312c36d0d4237a9550f540db689fd",
            "value": " 11/11 [00:01&lt;00:00,  7.00it/s]"
          }
        },
        "f623a0257d8141ab90030b0e5c341479": {
          "model_module": "@jupyter-widgets/base",
          "model_name": "LayoutModel",
          "model_module_version": "1.2.0",
          "state": {
            "_model_module": "@jupyter-widgets/base",
            "_model_module_version": "1.2.0",
            "_model_name": "LayoutModel",
            "_view_count": null,
            "_view_module": "@jupyter-widgets/base",
            "_view_module_version": "1.2.0",
            "_view_name": "LayoutView",
            "align_content": null,
            "align_items": null,
            "align_self": null,
            "border": null,
            "bottom": null,
            "display": null,
            "flex": null,
            "flex_flow": null,
            "grid_area": null,
            "grid_auto_columns": null,
            "grid_auto_flow": null,
            "grid_auto_rows": null,
            "grid_column": null,
            "grid_gap": null,
            "grid_row": null,
            "grid_template_areas": null,
            "grid_template_columns": null,
            "grid_template_rows": null,
            "height": null,
            "justify_content": null,
            "justify_items": null,
            "left": null,
            "margin": null,
            "max_height": null,
            "max_width": null,
            "min_height": null,
            "min_width": null,
            "object_fit": null,
            "object_position": null,
            "order": null,
            "overflow": null,
            "overflow_x": null,
            "overflow_y": null,
            "padding": null,
            "right": null,
            "top": null,
            "visibility": null,
            "width": null
          }
        },
        "8310b508302b41feb32ccdbd3f6f1f30": {
          "model_module": "@jupyter-widgets/base",
          "model_name": "LayoutModel",
          "model_module_version": "1.2.0",
          "state": {
            "_model_module": "@jupyter-widgets/base",
            "_model_module_version": "1.2.0",
            "_model_name": "LayoutModel",
            "_view_count": null,
            "_view_module": "@jupyter-widgets/base",
            "_view_module_version": "1.2.0",
            "_view_name": "LayoutView",
            "align_content": null,
            "align_items": null,
            "align_self": null,
            "border": null,
            "bottom": null,
            "display": null,
            "flex": null,
            "flex_flow": null,
            "grid_area": null,
            "grid_auto_columns": null,
            "grid_auto_flow": null,
            "grid_auto_rows": null,
            "grid_column": null,
            "grid_gap": null,
            "grid_row": null,
            "grid_template_areas": null,
            "grid_template_columns": null,
            "grid_template_rows": null,
            "height": null,
            "justify_content": null,
            "justify_items": null,
            "left": null,
            "margin": null,
            "max_height": null,
            "max_width": null,
            "min_height": null,
            "min_width": null,
            "object_fit": null,
            "object_position": null,
            "order": null,
            "overflow": null,
            "overflow_x": null,
            "overflow_y": null,
            "padding": null,
            "right": null,
            "top": null,
            "visibility": null,
            "width": null
          }
        },
        "49bea2b53c574ff1b02ee1e735689265": {
          "model_module": "@jupyter-widgets/controls",
          "model_name": "DescriptionStyleModel",
          "model_module_version": "1.5.0",
          "state": {
            "_model_module": "@jupyter-widgets/controls",
            "_model_module_version": "1.5.0",
            "_model_name": "DescriptionStyleModel",
            "_view_count": null,
            "_view_module": "@jupyter-widgets/base",
            "_view_module_version": "1.2.0",
            "_view_name": "StyleView",
            "description_width": ""
          }
        },
        "210a1e54639f4fa98d020f57a33edb23": {
          "model_module": "@jupyter-widgets/base",
          "model_name": "LayoutModel",
          "model_module_version": "1.2.0",
          "state": {
            "_model_module": "@jupyter-widgets/base",
            "_model_module_version": "1.2.0",
            "_model_name": "LayoutModel",
            "_view_count": null,
            "_view_module": "@jupyter-widgets/base",
            "_view_module_version": "1.2.0",
            "_view_name": "LayoutView",
            "align_content": null,
            "align_items": null,
            "align_self": null,
            "border": null,
            "bottom": null,
            "display": null,
            "flex": null,
            "flex_flow": null,
            "grid_area": null,
            "grid_auto_columns": null,
            "grid_auto_flow": null,
            "grid_auto_rows": null,
            "grid_column": null,
            "grid_gap": null,
            "grid_row": null,
            "grid_template_areas": null,
            "grid_template_columns": null,
            "grid_template_rows": null,
            "height": null,
            "justify_content": null,
            "justify_items": null,
            "left": null,
            "margin": null,
            "max_height": null,
            "max_width": null,
            "min_height": null,
            "min_width": null,
            "object_fit": null,
            "object_position": null,
            "order": null,
            "overflow": null,
            "overflow_x": null,
            "overflow_y": null,
            "padding": null,
            "right": null,
            "top": null,
            "visibility": null,
            "width": null
          }
        },
        "b97ddefebd8a4eb191ca9f614bba0378": {
          "model_module": "@jupyter-widgets/controls",
          "model_name": "ProgressStyleModel",
          "model_module_version": "1.5.0",
          "state": {
            "_model_module": "@jupyter-widgets/controls",
            "_model_module_version": "1.5.0",
            "_model_name": "ProgressStyleModel",
            "_view_count": null,
            "_view_module": "@jupyter-widgets/base",
            "_view_module_version": "1.2.0",
            "_view_name": "StyleView",
            "bar_color": null,
            "description_width": ""
          }
        },
        "ddc9f32f47084ba3892cc187641fad96": {
          "model_module": "@jupyter-widgets/base",
          "model_name": "LayoutModel",
          "model_module_version": "1.2.0",
          "state": {
            "_model_module": "@jupyter-widgets/base",
            "_model_module_version": "1.2.0",
            "_model_name": "LayoutModel",
            "_view_count": null,
            "_view_module": "@jupyter-widgets/base",
            "_view_module_version": "1.2.0",
            "_view_name": "LayoutView",
            "align_content": null,
            "align_items": null,
            "align_self": null,
            "border": null,
            "bottom": null,
            "display": null,
            "flex": null,
            "flex_flow": null,
            "grid_area": null,
            "grid_auto_columns": null,
            "grid_auto_flow": null,
            "grid_auto_rows": null,
            "grid_column": null,
            "grid_gap": null,
            "grid_row": null,
            "grid_template_areas": null,
            "grid_template_columns": null,
            "grid_template_rows": null,
            "height": null,
            "justify_content": null,
            "justify_items": null,
            "left": null,
            "margin": null,
            "max_height": null,
            "max_width": null,
            "min_height": null,
            "min_width": null,
            "object_fit": null,
            "object_position": null,
            "order": null,
            "overflow": null,
            "overflow_x": null,
            "overflow_y": null,
            "padding": null,
            "right": null,
            "top": null,
            "visibility": null,
            "width": null
          }
        },
        "796312c36d0d4237a9550f540db689fd": {
          "model_module": "@jupyter-widgets/controls",
          "model_name": "DescriptionStyleModel",
          "model_module_version": "1.5.0",
          "state": {
            "_model_module": "@jupyter-widgets/controls",
            "_model_module_version": "1.5.0",
            "_model_name": "DescriptionStyleModel",
            "_view_count": null,
            "_view_module": "@jupyter-widgets/base",
            "_view_module_version": "1.2.0",
            "_view_name": "StyleView",
            "description_width": ""
          }
        },
        "6af3e83450334c43b2ad8fba6849c03b": {
          "model_module": "@jupyter-widgets/controls",
          "model_name": "HBoxModel",
          "model_module_version": "1.5.0",
          "state": {
            "_dom_classes": [],
            "_model_module": "@jupyter-widgets/controls",
            "_model_module_version": "1.5.0",
            "_model_name": "HBoxModel",
            "_view_count": null,
            "_view_module": "@jupyter-widgets/controls",
            "_view_module_version": "1.5.0",
            "_view_name": "HBoxView",
            "box_style": "",
            "children": [
              "IPY_MODEL_72582c1b8be0488389a48288a547346e",
              "IPY_MODEL_225b41c37b864eeb805fde30f8efd56b",
              "IPY_MODEL_f0ae459c8e364d2eaecc0a540d73300a"
            ],
            "layout": "IPY_MODEL_dc189e958466481aa4b90a99c4e3b5dd"
          }
        },
        "72582c1b8be0488389a48288a547346e": {
          "model_module": "@jupyter-widgets/controls",
          "model_name": "HTMLModel",
          "model_module_version": "1.5.0",
          "state": {
            "_dom_classes": [],
            "_model_module": "@jupyter-widgets/controls",
            "_model_module_version": "1.5.0",
            "_model_name": "HTMLModel",
            "_view_count": null,
            "_view_module": "@jupyter-widgets/controls",
            "_view_module_version": "1.5.0",
            "_view_name": "HTMLView",
            "description": "",
            "description_tooltip": null,
            "layout": "IPY_MODEL_d2b38cf37fbc4690a1dbcaf42cf06226",
            "placeholder": "​",
            "style": "IPY_MODEL_dc8daed08e7e4b0fa14b39d592545867",
            "value": "100%"
          }
        },
        "225b41c37b864eeb805fde30f8efd56b": {
          "model_module": "@jupyter-widgets/controls",
          "model_name": "FloatProgressModel",
          "model_module_version": "1.5.0",
          "state": {
            "_dom_classes": [],
            "_model_module": "@jupyter-widgets/controls",
            "_model_module_version": "1.5.0",
            "_model_name": "FloatProgressModel",
            "_view_count": null,
            "_view_module": "@jupyter-widgets/controls",
            "_view_module_version": "1.5.0",
            "_view_name": "ProgressView",
            "bar_style": "success",
            "description": "",
            "description_tooltip": null,
            "layout": "IPY_MODEL_f541c873ed6d4329944ceb0f3f761215",
            "max": 11,
            "min": 0,
            "orientation": "horizontal",
            "style": "IPY_MODEL_be7737c5913745de8aaca193d4f37c03",
            "value": 11
          }
        },
        "f0ae459c8e364d2eaecc0a540d73300a": {
          "model_module": "@jupyter-widgets/controls",
          "model_name": "HTMLModel",
          "model_module_version": "1.5.0",
          "state": {
            "_dom_classes": [],
            "_model_module": "@jupyter-widgets/controls",
            "_model_module_version": "1.5.0",
            "_model_name": "HTMLModel",
            "_view_count": null,
            "_view_module": "@jupyter-widgets/controls",
            "_view_module_version": "1.5.0",
            "_view_name": "HTMLView",
            "description": "",
            "description_tooltip": null,
            "layout": "IPY_MODEL_caef97c43bd849d191f69cc29821b26c",
            "placeholder": "​",
            "style": "IPY_MODEL_45201d8a8cdd44dbb69f0e84f99be113",
            "value": " 11/11 [00:01&lt;00:00,  6.93it/s]"
          }
        },
        "dc189e958466481aa4b90a99c4e3b5dd": {
          "model_module": "@jupyter-widgets/base",
          "model_name": "LayoutModel",
          "model_module_version": "1.2.0",
          "state": {
            "_model_module": "@jupyter-widgets/base",
            "_model_module_version": "1.2.0",
            "_model_name": "LayoutModel",
            "_view_count": null,
            "_view_module": "@jupyter-widgets/base",
            "_view_module_version": "1.2.0",
            "_view_name": "LayoutView",
            "align_content": null,
            "align_items": null,
            "align_self": null,
            "border": null,
            "bottom": null,
            "display": null,
            "flex": null,
            "flex_flow": null,
            "grid_area": null,
            "grid_auto_columns": null,
            "grid_auto_flow": null,
            "grid_auto_rows": null,
            "grid_column": null,
            "grid_gap": null,
            "grid_row": null,
            "grid_template_areas": null,
            "grid_template_columns": null,
            "grid_template_rows": null,
            "height": null,
            "justify_content": null,
            "justify_items": null,
            "left": null,
            "margin": null,
            "max_height": null,
            "max_width": null,
            "min_height": null,
            "min_width": null,
            "object_fit": null,
            "object_position": null,
            "order": null,
            "overflow": null,
            "overflow_x": null,
            "overflow_y": null,
            "padding": null,
            "right": null,
            "top": null,
            "visibility": null,
            "width": null
          }
        },
        "d2b38cf37fbc4690a1dbcaf42cf06226": {
          "model_module": "@jupyter-widgets/base",
          "model_name": "LayoutModel",
          "model_module_version": "1.2.0",
          "state": {
            "_model_module": "@jupyter-widgets/base",
            "_model_module_version": "1.2.0",
            "_model_name": "LayoutModel",
            "_view_count": null,
            "_view_module": "@jupyter-widgets/base",
            "_view_module_version": "1.2.0",
            "_view_name": "LayoutView",
            "align_content": null,
            "align_items": null,
            "align_self": null,
            "border": null,
            "bottom": null,
            "display": null,
            "flex": null,
            "flex_flow": null,
            "grid_area": null,
            "grid_auto_columns": null,
            "grid_auto_flow": null,
            "grid_auto_rows": null,
            "grid_column": null,
            "grid_gap": null,
            "grid_row": null,
            "grid_template_areas": null,
            "grid_template_columns": null,
            "grid_template_rows": null,
            "height": null,
            "justify_content": null,
            "justify_items": null,
            "left": null,
            "margin": null,
            "max_height": null,
            "max_width": null,
            "min_height": null,
            "min_width": null,
            "object_fit": null,
            "object_position": null,
            "order": null,
            "overflow": null,
            "overflow_x": null,
            "overflow_y": null,
            "padding": null,
            "right": null,
            "top": null,
            "visibility": null,
            "width": null
          }
        },
        "dc8daed08e7e4b0fa14b39d592545867": {
          "model_module": "@jupyter-widgets/controls",
          "model_name": "DescriptionStyleModel",
          "model_module_version": "1.5.0",
          "state": {
            "_model_module": "@jupyter-widgets/controls",
            "_model_module_version": "1.5.0",
            "_model_name": "DescriptionStyleModel",
            "_view_count": null,
            "_view_module": "@jupyter-widgets/base",
            "_view_module_version": "1.2.0",
            "_view_name": "StyleView",
            "description_width": ""
          }
        },
        "f541c873ed6d4329944ceb0f3f761215": {
          "model_module": "@jupyter-widgets/base",
          "model_name": "LayoutModel",
          "model_module_version": "1.2.0",
          "state": {
            "_model_module": "@jupyter-widgets/base",
            "_model_module_version": "1.2.0",
            "_model_name": "LayoutModel",
            "_view_count": null,
            "_view_module": "@jupyter-widgets/base",
            "_view_module_version": "1.2.0",
            "_view_name": "LayoutView",
            "align_content": null,
            "align_items": null,
            "align_self": null,
            "border": null,
            "bottom": null,
            "display": null,
            "flex": null,
            "flex_flow": null,
            "grid_area": null,
            "grid_auto_columns": null,
            "grid_auto_flow": null,
            "grid_auto_rows": null,
            "grid_column": null,
            "grid_gap": null,
            "grid_row": null,
            "grid_template_areas": null,
            "grid_template_columns": null,
            "grid_template_rows": null,
            "height": null,
            "justify_content": null,
            "justify_items": null,
            "left": null,
            "margin": null,
            "max_height": null,
            "max_width": null,
            "min_height": null,
            "min_width": null,
            "object_fit": null,
            "object_position": null,
            "order": null,
            "overflow": null,
            "overflow_x": null,
            "overflow_y": null,
            "padding": null,
            "right": null,
            "top": null,
            "visibility": null,
            "width": null
          }
        },
        "be7737c5913745de8aaca193d4f37c03": {
          "model_module": "@jupyter-widgets/controls",
          "model_name": "ProgressStyleModel",
          "model_module_version": "1.5.0",
          "state": {
            "_model_module": "@jupyter-widgets/controls",
            "_model_module_version": "1.5.0",
            "_model_name": "ProgressStyleModel",
            "_view_count": null,
            "_view_module": "@jupyter-widgets/base",
            "_view_module_version": "1.2.0",
            "_view_name": "StyleView",
            "bar_color": null,
            "description_width": ""
          }
        },
        "caef97c43bd849d191f69cc29821b26c": {
          "model_module": "@jupyter-widgets/base",
          "model_name": "LayoutModel",
          "model_module_version": "1.2.0",
          "state": {
            "_model_module": "@jupyter-widgets/base",
            "_model_module_version": "1.2.0",
            "_model_name": "LayoutModel",
            "_view_count": null,
            "_view_module": "@jupyter-widgets/base",
            "_view_module_version": "1.2.0",
            "_view_name": "LayoutView",
            "align_content": null,
            "align_items": null,
            "align_self": null,
            "border": null,
            "bottom": null,
            "display": null,
            "flex": null,
            "flex_flow": null,
            "grid_area": null,
            "grid_auto_columns": null,
            "grid_auto_flow": null,
            "grid_auto_rows": null,
            "grid_column": null,
            "grid_gap": null,
            "grid_row": null,
            "grid_template_areas": null,
            "grid_template_columns": null,
            "grid_template_rows": null,
            "height": null,
            "justify_content": null,
            "justify_items": null,
            "left": null,
            "margin": null,
            "max_height": null,
            "max_width": null,
            "min_height": null,
            "min_width": null,
            "object_fit": null,
            "object_position": null,
            "order": null,
            "overflow": null,
            "overflow_x": null,
            "overflow_y": null,
            "padding": null,
            "right": null,
            "top": null,
            "visibility": null,
            "width": null
          }
        },
        "45201d8a8cdd44dbb69f0e84f99be113": {
          "model_module": "@jupyter-widgets/controls",
          "model_name": "DescriptionStyleModel",
          "model_module_version": "1.5.0",
          "state": {
            "_model_module": "@jupyter-widgets/controls",
            "_model_module_version": "1.5.0",
            "_model_name": "DescriptionStyleModel",
            "_view_count": null,
            "_view_module": "@jupyter-widgets/base",
            "_view_module_version": "1.2.0",
            "_view_name": "StyleView",
            "description_width": ""
          }
        },
        "7f03e2d77a244193bd787a822144f66c": {
          "model_module": "@jupyter-widgets/controls",
          "model_name": "HBoxModel",
          "model_module_version": "1.5.0",
          "state": {
            "_dom_classes": [],
            "_model_module": "@jupyter-widgets/controls",
            "_model_module_version": "1.5.0",
            "_model_name": "HBoxModel",
            "_view_count": null,
            "_view_module": "@jupyter-widgets/controls",
            "_view_module_version": "1.5.0",
            "_view_name": "HBoxView",
            "box_style": "",
            "children": [
              "IPY_MODEL_72dc73499344478eb6075290fc565da5",
              "IPY_MODEL_cec3c38c4db744fab79ad312c16f2e03",
              "IPY_MODEL_cd3acc920c644c39b6ec207d817ec7d3"
            ],
            "layout": "IPY_MODEL_a92d3ea9b93e46579362578187d1e6e9"
          }
        },
        "72dc73499344478eb6075290fc565da5": {
          "model_module": "@jupyter-widgets/controls",
          "model_name": "HTMLModel",
          "model_module_version": "1.5.0",
          "state": {
            "_dom_classes": [],
            "_model_module": "@jupyter-widgets/controls",
            "_model_module_version": "1.5.0",
            "_model_name": "HTMLModel",
            "_view_count": null,
            "_view_module": "@jupyter-widgets/controls",
            "_view_module_version": "1.5.0",
            "_view_name": "HTMLView",
            "description": "",
            "description_tooltip": null,
            "layout": "IPY_MODEL_5a21f27c6c734618a695552dd46e6d47",
            "placeholder": "​",
            "style": "IPY_MODEL_3b5e6179dc1a49a7892f5cd5932a577f",
            "value": "100%"
          }
        },
        "cec3c38c4db744fab79ad312c16f2e03": {
          "model_module": "@jupyter-widgets/controls",
          "model_name": "FloatProgressModel",
          "model_module_version": "1.5.0",
          "state": {
            "_dom_classes": [],
            "_model_module": "@jupyter-widgets/controls",
            "_model_module_version": "1.5.0",
            "_model_name": "FloatProgressModel",
            "_view_count": null,
            "_view_module": "@jupyter-widgets/controls",
            "_view_module_version": "1.5.0",
            "_view_name": "ProgressView",
            "bar_style": "success",
            "description": "",
            "description_tooltip": null,
            "layout": "IPY_MODEL_e539d3579cd34fa2b4af3d403ba539b6",
            "max": 11,
            "min": 0,
            "orientation": "horizontal",
            "style": "IPY_MODEL_0cececc3c26c4465aace77d3c301973f",
            "value": 11
          }
        },
        "cd3acc920c644c39b6ec207d817ec7d3": {
          "model_module": "@jupyter-widgets/controls",
          "model_name": "HTMLModel",
          "model_module_version": "1.5.0",
          "state": {
            "_dom_classes": [],
            "_model_module": "@jupyter-widgets/controls",
            "_model_module_version": "1.5.0",
            "_model_name": "HTMLModel",
            "_view_count": null,
            "_view_module": "@jupyter-widgets/controls",
            "_view_module_version": "1.5.0",
            "_view_name": "HTMLView",
            "description": "",
            "description_tooltip": null,
            "layout": "IPY_MODEL_a934b059b15648bd86b83c223cdf4885",
            "placeholder": "​",
            "style": "IPY_MODEL_b158a024ba344c048d0c06dcb3af20e1",
            "value": " 11/11 [00:03&lt;00:00,  4.29it/s]"
          }
        },
        "a92d3ea9b93e46579362578187d1e6e9": {
          "model_module": "@jupyter-widgets/base",
          "model_name": "LayoutModel",
          "model_module_version": "1.2.0",
          "state": {
            "_model_module": "@jupyter-widgets/base",
            "_model_module_version": "1.2.0",
            "_model_name": "LayoutModel",
            "_view_count": null,
            "_view_module": "@jupyter-widgets/base",
            "_view_module_version": "1.2.0",
            "_view_name": "LayoutView",
            "align_content": null,
            "align_items": null,
            "align_self": null,
            "border": null,
            "bottom": null,
            "display": null,
            "flex": null,
            "flex_flow": null,
            "grid_area": null,
            "grid_auto_columns": null,
            "grid_auto_flow": null,
            "grid_auto_rows": null,
            "grid_column": null,
            "grid_gap": null,
            "grid_row": null,
            "grid_template_areas": null,
            "grid_template_columns": null,
            "grid_template_rows": null,
            "height": null,
            "justify_content": null,
            "justify_items": null,
            "left": null,
            "margin": null,
            "max_height": null,
            "max_width": null,
            "min_height": null,
            "min_width": null,
            "object_fit": null,
            "object_position": null,
            "order": null,
            "overflow": null,
            "overflow_x": null,
            "overflow_y": null,
            "padding": null,
            "right": null,
            "top": null,
            "visibility": null,
            "width": null
          }
        },
        "5a21f27c6c734618a695552dd46e6d47": {
          "model_module": "@jupyter-widgets/base",
          "model_name": "LayoutModel",
          "model_module_version": "1.2.0",
          "state": {
            "_model_module": "@jupyter-widgets/base",
            "_model_module_version": "1.2.0",
            "_model_name": "LayoutModel",
            "_view_count": null,
            "_view_module": "@jupyter-widgets/base",
            "_view_module_version": "1.2.0",
            "_view_name": "LayoutView",
            "align_content": null,
            "align_items": null,
            "align_self": null,
            "border": null,
            "bottom": null,
            "display": null,
            "flex": null,
            "flex_flow": null,
            "grid_area": null,
            "grid_auto_columns": null,
            "grid_auto_flow": null,
            "grid_auto_rows": null,
            "grid_column": null,
            "grid_gap": null,
            "grid_row": null,
            "grid_template_areas": null,
            "grid_template_columns": null,
            "grid_template_rows": null,
            "height": null,
            "justify_content": null,
            "justify_items": null,
            "left": null,
            "margin": null,
            "max_height": null,
            "max_width": null,
            "min_height": null,
            "min_width": null,
            "object_fit": null,
            "object_position": null,
            "order": null,
            "overflow": null,
            "overflow_x": null,
            "overflow_y": null,
            "padding": null,
            "right": null,
            "top": null,
            "visibility": null,
            "width": null
          }
        },
        "3b5e6179dc1a49a7892f5cd5932a577f": {
          "model_module": "@jupyter-widgets/controls",
          "model_name": "DescriptionStyleModel",
          "model_module_version": "1.5.0",
          "state": {
            "_model_module": "@jupyter-widgets/controls",
            "_model_module_version": "1.5.0",
            "_model_name": "DescriptionStyleModel",
            "_view_count": null,
            "_view_module": "@jupyter-widgets/base",
            "_view_module_version": "1.2.0",
            "_view_name": "StyleView",
            "description_width": ""
          }
        },
        "e539d3579cd34fa2b4af3d403ba539b6": {
          "model_module": "@jupyter-widgets/base",
          "model_name": "LayoutModel",
          "model_module_version": "1.2.0",
          "state": {
            "_model_module": "@jupyter-widgets/base",
            "_model_module_version": "1.2.0",
            "_model_name": "LayoutModel",
            "_view_count": null,
            "_view_module": "@jupyter-widgets/base",
            "_view_module_version": "1.2.0",
            "_view_name": "LayoutView",
            "align_content": null,
            "align_items": null,
            "align_self": null,
            "border": null,
            "bottom": null,
            "display": null,
            "flex": null,
            "flex_flow": null,
            "grid_area": null,
            "grid_auto_columns": null,
            "grid_auto_flow": null,
            "grid_auto_rows": null,
            "grid_column": null,
            "grid_gap": null,
            "grid_row": null,
            "grid_template_areas": null,
            "grid_template_columns": null,
            "grid_template_rows": null,
            "height": null,
            "justify_content": null,
            "justify_items": null,
            "left": null,
            "margin": null,
            "max_height": null,
            "max_width": null,
            "min_height": null,
            "min_width": null,
            "object_fit": null,
            "object_position": null,
            "order": null,
            "overflow": null,
            "overflow_x": null,
            "overflow_y": null,
            "padding": null,
            "right": null,
            "top": null,
            "visibility": null,
            "width": null
          }
        },
        "0cececc3c26c4465aace77d3c301973f": {
          "model_module": "@jupyter-widgets/controls",
          "model_name": "ProgressStyleModel",
          "model_module_version": "1.5.0",
          "state": {
            "_model_module": "@jupyter-widgets/controls",
            "_model_module_version": "1.5.0",
            "_model_name": "ProgressStyleModel",
            "_view_count": null,
            "_view_module": "@jupyter-widgets/base",
            "_view_module_version": "1.2.0",
            "_view_name": "StyleView",
            "bar_color": null,
            "description_width": ""
          }
        },
        "a934b059b15648bd86b83c223cdf4885": {
          "model_module": "@jupyter-widgets/base",
          "model_name": "LayoutModel",
          "model_module_version": "1.2.0",
          "state": {
            "_model_module": "@jupyter-widgets/base",
            "_model_module_version": "1.2.0",
            "_model_name": "LayoutModel",
            "_view_count": null,
            "_view_module": "@jupyter-widgets/base",
            "_view_module_version": "1.2.0",
            "_view_name": "LayoutView",
            "align_content": null,
            "align_items": null,
            "align_self": null,
            "border": null,
            "bottom": null,
            "display": null,
            "flex": null,
            "flex_flow": null,
            "grid_area": null,
            "grid_auto_columns": null,
            "grid_auto_flow": null,
            "grid_auto_rows": null,
            "grid_column": null,
            "grid_gap": null,
            "grid_row": null,
            "grid_template_areas": null,
            "grid_template_columns": null,
            "grid_template_rows": null,
            "height": null,
            "justify_content": null,
            "justify_items": null,
            "left": null,
            "margin": null,
            "max_height": null,
            "max_width": null,
            "min_height": null,
            "min_width": null,
            "object_fit": null,
            "object_position": null,
            "order": null,
            "overflow": null,
            "overflow_x": null,
            "overflow_y": null,
            "padding": null,
            "right": null,
            "top": null,
            "visibility": null,
            "width": null
          }
        },
        "b158a024ba344c048d0c06dcb3af20e1": {
          "model_module": "@jupyter-widgets/controls",
          "model_name": "DescriptionStyleModel",
          "model_module_version": "1.5.0",
          "state": {
            "_model_module": "@jupyter-widgets/controls",
            "_model_module_version": "1.5.0",
            "_model_name": "DescriptionStyleModel",
            "_view_count": null,
            "_view_module": "@jupyter-widgets/base",
            "_view_module_version": "1.2.0",
            "_view_name": "StyleView",
            "description_width": ""
          }
        },
        "99bf9f3bdbfb434d818b5f60aaae21c0": {
          "model_module": "@jupyter-widgets/controls",
          "model_name": "HBoxModel",
          "model_module_version": "1.5.0",
          "state": {
            "_dom_classes": [],
            "_model_module": "@jupyter-widgets/controls",
            "_model_module_version": "1.5.0",
            "_model_name": "HBoxModel",
            "_view_count": null,
            "_view_module": "@jupyter-widgets/controls",
            "_view_module_version": "1.5.0",
            "_view_name": "HBoxView",
            "box_style": "",
            "children": [
              "IPY_MODEL_39d123cc3b3e49b88700e0f241459f4c",
              "IPY_MODEL_13f2b9c8a07c4deb91c99ce93c75fe9f",
              "IPY_MODEL_b3557654f5e64c51946e724f0e3c8af2"
            ],
            "layout": "IPY_MODEL_918c371977244c88baf1c86dbff38bba"
          }
        },
        "39d123cc3b3e49b88700e0f241459f4c": {
          "model_module": "@jupyter-widgets/controls",
          "model_name": "HTMLModel",
          "model_module_version": "1.5.0",
          "state": {
            "_dom_classes": [],
            "_model_module": "@jupyter-widgets/controls",
            "_model_module_version": "1.5.0",
            "_model_name": "HTMLModel",
            "_view_count": null,
            "_view_module": "@jupyter-widgets/controls",
            "_view_module_version": "1.5.0",
            "_view_name": "HTMLView",
            "description": "",
            "description_tooltip": null,
            "layout": "IPY_MODEL_f74e4627c3d840888aad992daad41186",
            "placeholder": "​",
            "style": "IPY_MODEL_d055251d75384e1ab77f7b84ee1fba3d",
            "value": "100%"
          }
        },
        "13f2b9c8a07c4deb91c99ce93c75fe9f": {
          "model_module": "@jupyter-widgets/controls",
          "model_name": "FloatProgressModel",
          "model_module_version": "1.5.0",
          "state": {
            "_dom_classes": [],
            "_model_module": "@jupyter-widgets/controls",
            "_model_module_version": "1.5.0",
            "_model_name": "FloatProgressModel",
            "_view_count": null,
            "_view_module": "@jupyter-widgets/controls",
            "_view_module_version": "1.5.0",
            "_view_name": "ProgressView",
            "bar_style": "success",
            "description": "",
            "description_tooltip": null,
            "layout": "IPY_MODEL_0fed886a45b34060b5b76f30b8966d80",
            "max": 11,
            "min": 0,
            "orientation": "horizontal",
            "style": "IPY_MODEL_f0bfa776569342e39771d0ea27fc704e",
            "value": 11
          }
        },
        "b3557654f5e64c51946e724f0e3c8af2": {
          "model_module": "@jupyter-widgets/controls",
          "model_name": "HTMLModel",
          "model_module_version": "1.5.0",
          "state": {
            "_dom_classes": [],
            "_model_module": "@jupyter-widgets/controls",
            "_model_module_version": "1.5.0",
            "_model_name": "HTMLModel",
            "_view_count": null,
            "_view_module": "@jupyter-widgets/controls",
            "_view_module_version": "1.5.0",
            "_view_name": "HTMLView",
            "description": "",
            "description_tooltip": null,
            "layout": "IPY_MODEL_b3c8c539cf9f4f3fb88497fbc9d169d7",
            "placeholder": "​",
            "style": "IPY_MODEL_a117259545a741418402a27d43da9bee",
            "value": " 11/11 [00:01&lt;00:00,  6.84it/s]"
          }
        },
        "918c371977244c88baf1c86dbff38bba": {
          "model_module": "@jupyter-widgets/base",
          "model_name": "LayoutModel",
          "model_module_version": "1.2.0",
          "state": {
            "_model_module": "@jupyter-widgets/base",
            "_model_module_version": "1.2.0",
            "_model_name": "LayoutModel",
            "_view_count": null,
            "_view_module": "@jupyter-widgets/base",
            "_view_module_version": "1.2.0",
            "_view_name": "LayoutView",
            "align_content": null,
            "align_items": null,
            "align_self": null,
            "border": null,
            "bottom": null,
            "display": null,
            "flex": null,
            "flex_flow": null,
            "grid_area": null,
            "grid_auto_columns": null,
            "grid_auto_flow": null,
            "grid_auto_rows": null,
            "grid_column": null,
            "grid_gap": null,
            "grid_row": null,
            "grid_template_areas": null,
            "grid_template_columns": null,
            "grid_template_rows": null,
            "height": null,
            "justify_content": null,
            "justify_items": null,
            "left": null,
            "margin": null,
            "max_height": null,
            "max_width": null,
            "min_height": null,
            "min_width": null,
            "object_fit": null,
            "object_position": null,
            "order": null,
            "overflow": null,
            "overflow_x": null,
            "overflow_y": null,
            "padding": null,
            "right": null,
            "top": null,
            "visibility": null,
            "width": null
          }
        },
        "f74e4627c3d840888aad992daad41186": {
          "model_module": "@jupyter-widgets/base",
          "model_name": "LayoutModel",
          "model_module_version": "1.2.0",
          "state": {
            "_model_module": "@jupyter-widgets/base",
            "_model_module_version": "1.2.0",
            "_model_name": "LayoutModel",
            "_view_count": null,
            "_view_module": "@jupyter-widgets/base",
            "_view_module_version": "1.2.0",
            "_view_name": "LayoutView",
            "align_content": null,
            "align_items": null,
            "align_self": null,
            "border": null,
            "bottom": null,
            "display": null,
            "flex": null,
            "flex_flow": null,
            "grid_area": null,
            "grid_auto_columns": null,
            "grid_auto_flow": null,
            "grid_auto_rows": null,
            "grid_column": null,
            "grid_gap": null,
            "grid_row": null,
            "grid_template_areas": null,
            "grid_template_columns": null,
            "grid_template_rows": null,
            "height": null,
            "justify_content": null,
            "justify_items": null,
            "left": null,
            "margin": null,
            "max_height": null,
            "max_width": null,
            "min_height": null,
            "min_width": null,
            "object_fit": null,
            "object_position": null,
            "order": null,
            "overflow": null,
            "overflow_x": null,
            "overflow_y": null,
            "padding": null,
            "right": null,
            "top": null,
            "visibility": null,
            "width": null
          }
        },
        "d055251d75384e1ab77f7b84ee1fba3d": {
          "model_module": "@jupyter-widgets/controls",
          "model_name": "DescriptionStyleModel",
          "model_module_version": "1.5.0",
          "state": {
            "_model_module": "@jupyter-widgets/controls",
            "_model_module_version": "1.5.0",
            "_model_name": "DescriptionStyleModel",
            "_view_count": null,
            "_view_module": "@jupyter-widgets/base",
            "_view_module_version": "1.2.0",
            "_view_name": "StyleView",
            "description_width": ""
          }
        },
        "0fed886a45b34060b5b76f30b8966d80": {
          "model_module": "@jupyter-widgets/base",
          "model_name": "LayoutModel",
          "model_module_version": "1.2.0",
          "state": {
            "_model_module": "@jupyter-widgets/base",
            "_model_module_version": "1.2.0",
            "_model_name": "LayoutModel",
            "_view_count": null,
            "_view_module": "@jupyter-widgets/base",
            "_view_module_version": "1.2.0",
            "_view_name": "LayoutView",
            "align_content": null,
            "align_items": null,
            "align_self": null,
            "border": null,
            "bottom": null,
            "display": null,
            "flex": null,
            "flex_flow": null,
            "grid_area": null,
            "grid_auto_columns": null,
            "grid_auto_flow": null,
            "grid_auto_rows": null,
            "grid_column": null,
            "grid_gap": null,
            "grid_row": null,
            "grid_template_areas": null,
            "grid_template_columns": null,
            "grid_template_rows": null,
            "height": null,
            "justify_content": null,
            "justify_items": null,
            "left": null,
            "margin": null,
            "max_height": null,
            "max_width": null,
            "min_height": null,
            "min_width": null,
            "object_fit": null,
            "object_position": null,
            "order": null,
            "overflow": null,
            "overflow_x": null,
            "overflow_y": null,
            "padding": null,
            "right": null,
            "top": null,
            "visibility": null,
            "width": null
          }
        },
        "f0bfa776569342e39771d0ea27fc704e": {
          "model_module": "@jupyter-widgets/controls",
          "model_name": "ProgressStyleModel",
          "model_module_version": "1.5.0",
          "state": {
            "_model_module": "@jupyter-widgets/controls",
            "_model_module_version": "1.5.0",
            "_model_name": "ProgressStyleModel",
            "_view_count": null,
            "_view_module": "@jupyter-widgets/base",
            "_view_module_version": "1.2.0",
            "_view_name": "StyleView",
            "bar_color": null,
            "description_width": ""
          }
        },
        "b3c8c539cf9f4f3fb88497fbc9d169d7": {
          "model_module": "@jupyter-widgets/base",
          "model_name": "LayoutModel",
          "model_module_version": "1.2.0",
          "state": {
            "_model_module": "@jupyter-widgets/base",
            "_model_module_version": "1.2.0",
            "_model_name": "LayoutModel",
            "_view_count": null,
            "_view_module": "@jupyter-widgets/base",
            "_view_module_version": "1.2.0",
            "_view_name": "LayoutView",
            "align_content": null,
            "align_items": null,
            "align_self": null,
            "border": null,
            "bottom": null,
            "display": null,
            "flex": null,
            "flex_flow": null,
            "grid_area": null,
            "grid_auto_columns": null,
            "grid_auto_flow": null,
            "grid_auto_rows": null,
            "grid_column": null,
            "grid_gap": null,
            "grid_row": null,
            "grid_template_areas": null,
            "grid_template_columns": null,
            "grid_template_rows": null,
            "height": null,
            "justify_content": null,
            "justify_items": null,
            "left": null,
            "margin": null,
            "max_height": null,
            "max_width": null,
            "min_height": null,
            "min_width": null,
            "object_fit": null,
            "object_position": null,
            "order": null,
            "overflow": null,
            "overflow_x": null,
            "overflow_y": null,
            "padding": null,
            "right": null,
            "top": null,
            "visibility": null,
            "width": null
          }
        },
        "a117259545a741418402a27d43da9bee": {
          "model_module": "@jupyter-widgets/controls",
          "model_name": "DescriptionStyleModel",
          "model_module_version": "1.5.0",
          "state": {
            "_model_module": "@jupyter-widgets/controls",
            "_model_module_version": "1.5.0",
            "_model_name": "DescriptionStyleModel",
            "_view_count": null,
            "_view_module": "@jupyter-widgets/base",
            "_view_module_version": "1.2.0",
            "_view_name": "StyleView",
            "description_width": ""
          }
        },
        "d9b9a02e78934e7ba7c3c489a168045b": {
          "model_module": "@jupyter-widgets/controls",
          "model_name": "HBoxModel",
          "model_module_version": "1.5.0",
          "state": {
            "_dom_classes": [],
            "_model_module": "@jupyter-widgets/controls",
            "_model_module_version": "1.5.0",
            "_model_name": "HBoxModel",
            "_view_count": null,
            "_view_module": "@jupyter-widgets/controls",
            "_view_module_version": "1.5.0",
            "_view_name": "HBoxView",
            "box_style": "",
            "children": [
              "IPY_MODEL_9d147ced75f342f1946c6367896a19b9",
              "IPY_MODEL_32e0e9b484b24352adfc4b3736931099",
              "IPY_MODEL_387bb80c78fe4d0385b3c0789c68a749"
            ],
            "layout": "IPY_MODEL_3cfba840ab524f1eb39f0562148ddc8c"
          }
        },
        "9d147ced75f342f1946c6367896a19b9": {
          "model_module": "@jupyter-widgets/controls",
          "model_name": "HTMLModel",
          "model_module_version": "1.5.0",
          "state": {
            "_dom_classes": [],
            "_model_module": "@jupyter-widgets/controls",
            "_model_module_version": "1.5.0",
            "_model_name": "HTMLModel",
            "_view_count": null,
            "_view_module": "@jupyter-widgets/controls",
            "_view_module_version": "1.5.0",
            "_view_name": "HTMLView",
            "description": "",
            "description_tooltip": null,
            "layout": "IPY_MODEL_449f6ca52b2948958da534022b445211",
            "placeholder": "​",
            "style": "IPY_MODEL_894e201e1f9744129a7cfed0ec7de27c",
            "value": "100%"
          }
        },
        "32e0e9b484b24352adfc4b3736931099": {
          "model_module": "@jupyter-widgets/controls",
          "model_name": "FloatProgressModel",
          "model_module_version": "1.5.0",
          "state": {
            "_dom_classes": [],
            "_model_module": "@jupyter-widgets/controls",
            "_model_module_version": "1.5.0",
            "_model_name": "FloatProgressModel",
            "_view_count": null,
            "_view_module": "@jupyter-widgets/controls",
            "_view_module_version": "1.5.0",
            "_view_name": "ProgressView",
            "bar_style": "success",
            "description": "",
            "description_tooltip": null,
            "layout": "IPY_MODEL_a83c3ca974ec43d3ae4519ae191da270",
            "max": 11,
            "min": 0,
            "orientation": "horizontal",
            "style": "IPY_MODEL_63d01f279c734163a331fdfbfd5e6fb1",
            "value": 11
          }
        },
        "387bb80c78fe4d0385b3c0789c68a749": {
          "model_module": "@jupyter-widgets/controls",
          "model_name": "HTMLModel",
          "model_module_version": "1.5.0",
          "state": {
            "_dom_classes": [],
            "_model_module": "@jupyter-widgets/controls",
            "_model_module_version": "1.5.0",
            "_model_name": "HTMLModel",
            "_view_count": null,
            "_view_module": "@jupyter-widgets/controls",
            "_view_module_version": "1.5.0",
            "_view_name": "HTMLView",
            "description": "",
            "description_tooltip": null,
            "layout": "IPY_MODEL_a079edb05ed9413099a402eac6c814a6",
            "placeholder": "​",
            "style": "IPY_MODEL_266d97df82c24887b4a0440372f17112",
            "value": " 11/11 [00:01&lt;00:00,  7.11it/s]"
          }
        },
        "3cfba840ab524f1eb39f0562148ddc8c": {
          "model_module": "@jupyter-widgets/base",
          "model_name": "LayoutModel",
          "model_module_version": "1.2.0",
          "state": {
            "_model_module": "@jupyter-widgets/base",
            "_model_module_version": "1.2.0",
            "_model_name": "LayoutModel",
            "_view_count": null,
            "_view_module": "@jupyter-widgets/base",
            "_view_module_version": "1.2.0",
            "_view_name": "LayoutView",
            "align_content": null,
            "align_items": null,
            "align_self": null,
            "border": null,
            "bottom": null,
            "display": null,
            "flex": null,
            "flex_flow": null,
            "grid_area": null,
            "grid_auto_columns": null,
            "grid_auto_flow": null,
            "grid_auto_rows": null,
            "grid_column": null,
            "grid_gap": null,
            "grid_row": null,
            "grid_template_areas": null,
            "grid_template_columns": null,
            "grid_template_rows": null,
            "height": null,
            "justify_content": null,
            "justify_items": null,
            "left": null,
            "margin": null,
            "max_height": null,
            "max_width": null,
            "min_height": null,
            "min_width": null,
            "object_fit": null,
            "object_position": null,
            "order": null,
            "overflow": null,
            "overflow_x": null,
            "overflow_y": null,
            "padding": null,
            "right": null,
            "top": null,
            "visibility": null,
            "width": null
          }
        },
        "449f6ca52b2948958da534022b445211": {
          "model_module": "@jupyter-widgets/base",
          "model_name": "LayoutModel",
          "model_module_version": "1.2.0",
          "state": {
            "_model_module": "@jupyter-widgets/base",
            "_model_module_version": "1.2.0",
            "_model_name": "LayoutModel",
            "_view_count": null,
            "_view_module": "@jupyter-widgets/base",
            "_view_module_version": "1.2.0",
            "_view_name": "LayoutView",
            "align_content": null,
            "align_items": null,
            "align_self": null,
            "border": null,
            "bottom": null,
            "display": null,
            "flex": null,
            "flex_flow": null,
            "grid_area": null,
            "grid_auto_columns": null,
            "grid_auto_flow": null,
            "grid_auto_rows": null,
            "grid_column": null,
            "grid_gap": null,
            "grid_row": null,
            "grid_template_areas": null,
            "grid_template_columns": null,
            "grid_template_rows": null,
            "height": null,
            "justify_content": null,
            "justify_items": null,
            "left": null,
            "margin": null,
            "max_height": null,
            "max_width": null,
            "min_height": null,
            "min_width": null,
            "object_fit": null,
            "object_position": null,
            "order": null,
            "overflow": null,
            "overflow_x": null,
            "overflow_y": null,
            "padding": null,
            "right": null,
            "top": null,
            "visibility": null,
            "width": null
          }
        },
        "894e201e1f9744129a7cfed0ec7de27c": {
          "model_module": "@jupyter-widgets/controls",
          "model_name": "DescriptionStyleModel",
          "model_module_version": "1.5.0",
          "state": {
            "_model_module": "@jupyter-widgets/controls",
            "_model_module_version": "1.5.0",
            "_model_name": "DescriptionStyleModel",
            "_view_count": null,
            "_view_module": "@jupyter-widgets/base",
            "_view_module_version": "1.2.0",
            "_view_name": "StyleView",
            "description_width": ""
          }
        },
        "a83c3ca974ec43d3ae4519ae191da270": {
          "model_module": "@jupyter-widgets/base",
          "model_name": "LayoutModel",
          "model_module_version": "1.2.0",
          "state": {
            "_model_module": "@jupyter-widgets/base",
            "_model_module_version": "1.2.0",
            "_model_name": "LayoutModel",
            "_view_count": null,
            "_view_module": "@jupyter-widgets/base",
            "_view_module_version": "1.2.0",
            "_view_name": "LayoutView",
            "align_content": null,
            "align_items": null,
            "align_self": null,
            "border": null,
            "bottom": null,
            "display": null,
            "flex": null,
            "flex_flow": null,
            "grid_area": null,
            "grid_auto_columns": null,
            "grid_auto_flow": null,
            "grid_auto_rows": null,
            "grid_column": null,
            "grid_gap": null,
            "grid_row": null,
            "grid_template_areas": null,
            "grid_template_columns": null,
            "grid_template_rows": null,
            "height": null,
            "justify_content": null,
            "justify_items": null,
            "left": null,
            "margin": null,
            "max_height": null,
            "max_width": null,
            "min_height": null,
            "min_width": null,
            "object_fit": null,
            "object_position": null,
            "order": null,
            "overflow": null,
            "overflow_x": null,
            "overflow_y": null,
            "padding": null,
            "right": null,
            "top": null,
            "visibility": null,
            "width": null
          }
        },
        "63d01f279c734163a331fdfbfd5e6fb1": {
          "model_module": "@jupyter-widgets/controls",
          "model_name": "ProgressStyleModel",
          "model_module_version": "1.5.0",
          "state": {
            "_model_module": "@jupyter-widgets/controls",
            "_model_module_version": "1.5.0",
            "_model_name": "ProgressStyleModel",
            "_view_count": null,
            "_view_module": "@jupyter-widgets/base",
            "_view_module_version": "1.2.0",
            "_view_name": "StyleView",
            "bar_color": null,
            "description_width": ""
          }
        },
        "a079edb05ed9413099a402eac6c814a6": {
          "model_module": "@jupyter-widgets/base",
          "model_name": "LayoutModel",
          "model_module_version": "1.2.0",
          "state": {
            "_model_module": "@jupyter-widgets/base",
            "_model_module_version": "1.2.0",
            "_model_name": "LayoutModel",
            "_view_count": null,
            "_view_module": "@jupyter-widgets/base",
            "_view_module_version": "1.2.0",
            "_view_name": "LayoutView",
            "align_content": null,
            "align_items": null,
            "align_self": null,
            "border": null,
            "bottom": null,
            "display": null,
            "flex": null,
            "flex_flow": null,
            "grid_area": null,
            "grid_auto_columns": null,
            "grid_auto_flow": null,
            "grid_auto_rows": null,
            "grid_column": null,
            "grid_gap": null,
            "grid_row": null,
            "grid_template_areas": null,
            "grid_template_columns": null,
            "grid_template_rows": null,
            "height": null,
            "justify_content": null,
            "justify_items": null,
            "left": null,
            "margin": null,
            "max_height": null,
            "max_width": null,
            "min_height": null,
            "min_width": null,
            "object_fit": null,
            "object_position": null,
            "order": null,
            "overflow": null,
            "overflow_x": null,
            "overflow_y": null,
            "padding": null,
            "right": null,
            "top": null,
            "visibility": null,
            "width": null
          }
        },
        "266d97df82c24887b4a0440372f17112": {
          "model_module": "@jupyter-widgets/controls",
          "model_name": "DescriptionStyleModel",
          "model_module_version": "1.5.0",
          "state": {
            "_model_module": "@jupyter-widgets/controls",
            "_model_module_version": "1.5.0",
            "_model_name": "DescriptionStyleModel",
            "_view_count": null,
            "_view_module": "@jupyter-widgets/base",
            "_view_module_version": "1.2.0",
            "_view_name": "StyleView",
            "description_width": ""
          }
        },
        "b8b1320943c94680b16505ea347fb820": {
          "model_module": "@jupyter-widgets/controls",
          "model_name": "HBoxModel",
          "model_module_version": "1.5.0",
          "state": {
            "_dom_classes": [],
            "_model_module": "@jupyter-widgets/controls",
            "_model_module_version": "1.5.0",
            "_model_name": "HBoxModel",
            "_view_count": null,
            "_view_module": "@jupyter-widgets/controls",
            "_view_module_version": "1.5.0",
            "_view_name": "HBoxView",
            "box_style": "",
            "children": [
              "IPY_MODEL_8a0743b4dea248c594899ba10fc3f4e3",
              "IPY_MODEL_7c0064a154fd42288bdb1d5b2c00bc56",
              "IPY_MODEL_cf2a9954361a47c880cf8181031329ae"
            ],
            "layout": "IPY_MODEL_e7aa3374761a48a4bb590e67ebecf3c6"
          }
        },
        "8a0743b4dea248c594899ba10fc3f4e3": {
          "model_module": "@jupyter-widgets/controls",
          "model_name": "HTMLModel",
          "model_module_version": "1.5.0",
          "state": {
            "_dom_classes": [],
            "_model_module": "@jupyter-widgets/controls",
            "_model_module_version": "1.5.0",
            "_model_name": "HTMLModel",
            "_view_count": null,
            "_view_module": "@jupyter-widgets/controls",
            "_view_module_version": "1.5.0",
            "_view_name": "HTMLView",
            "description": "",
            "description_tooltip": null,
            "layout": "IPY_MODEL_88a9860ea75b4d1c9232ed01ef108f23",
            "placeholder": "​",
            "style": "IPY_MODEL_3d345642d5ea43ceb6bc2d985bfde87a",
            "value": "100%"
          }
        },
        "7c0064a154fd42288bdb1d5b2c00bc56": {
          "model_module": "@jupyter-widgets/controls",
          "model_name": "FloatProgressModel",
          "model_module_version": "1.5.0",
          "state": {
            "_dom_classes": [],
            "_model_module": "@jupyter-widgets/controls",
            "_model_module_version": "1.5.0",
            "_model_name": "FloatProgressModel",
            "_view_count": null,
            "_view_module": "@jupyter-widgets/controls",
            "_view_module_version": "1.5.0",
            "_view_name": "ProgressView",
            "bar_style": "success",
            "description": "",
            "description_tooltip": null,
            "layout": "IPY_MODEL_aed1b81da3004cffa190eabf200062b1",
            "max": 11,
            "min": 0,
            "orientation": "horizontal",
            "style": "IPY_MODEL_ad052f23ae254da89ad50325702215d1",
            "value": 11
          }
        },
        "cf2a9954361a47c880cf8181031329ae": {
          "model_module": "@jupyter-widgets/controls",
          "model_name": "HTMLModel",
          "model_module_version": "1.5.0",
          "state": {
            "_dom_classes": [],
            "_model_module": "@jupyter-widgets/controls",
            "_model_module_version": "1.5.0",
            "_model_name": "HTMLModel",
            "_view_count": null,
            "_view_module": "@jupyter-widgets/controls",
            "_view_module_version": "1.5.0",
            "_view_name": "HTMLView",
            "description": "",
            "description_tooltip": null,
            "layout": "IPY_MODEL_4eb6580ce57f4b8298774410567c8882",
            "placeholder": "​",
            "style": "IPY_MODEL_07c2ab0d2a014d949b633c1c9da87cc0",
            "value": " 11/11 [00:02&lt;00:00,  6.91it/s]"
          }
        },
        "e7aa3374761a48a4bb590e67ebecf3c6": {
          "model_module": "@jupyter-widgets/base",
          "model_name": "LayoutModel",
          "model_module_version": "1.2.0",
          "state": {
            "_model_module": "@jupyter-widgets/base",
            "_model_module_version": "1.2.0",
            "_model_name": "LayoutModel",
            "_view_count": null,
            "_view_module": "@jupyter-widgets/base",
            "_view_module_version": "1.2.0",
            "_view_name": "LayoutView",
            "align_content": null,
            "align_items": null,
            "align_self": null,
            "border": null,
            "bottom": null,
            "display": null,
            "flex": null,
            "flex_flow": null,
            "grid_area": null,
            "grid_auto_columns": null,
            "grid_auto_flow": null,
            "grid_auto_rows": null,
            "grid_column": null,
            "grid_gap": null,
            "grid_row": null,
            "grid_template_areas": null,
            "grid_template_columns": null,
            "grid_template_rows": null,
            "height": null,
            "justify_content": null,
            "justify_items": null,
            "left": null,
            "margin": null,
            "max_height": null,
            "max_width": null,
            "min_height": null,
            "min_width": null,
            "object_fit": null,
            "object_position": null,
            "order": null,
            "overflow": null,
            "overflow_x": null,
            "overflow_y": null,
            "padding": null,
            "right": null,
            "top": null,
            "visibility": null,
            "width": null
          }
        },
        "88a9860ea75b4d1c9232ed01ef108f23": {
          "model_module": "@jupyter-widgets/base",
          "model_name": "LayoutModel",
          "model_module_version": "1.2.0",
          "state": {
            "_model_module": "@jupyter-widgets/base",
            "_model_module_version": "1.2.0",
            "_model_name": "LayoutModel",
            "_view_count": null,
            "_view_module": "@jupyter-widgets/base",
            "_view_module_version": "1.2.0",
            "_view_name": "LayoutView",
            "align_content": null,
            "align_items": null,
            "align_self": null,
            "border": null,
            "bottom": null,
            "display": null,
            "flex": null,
            "flex_flow": null,
            "grid_area": null,
            "grid_auto_columns": null,
            "grid_auto_flow": null,
            "grid_auto_rows": null,
            "grid_column": null,
            "grid_gap": null,
            "grid_row": null,
            "grid_template_areas": null,
            "grid_template_columns": null,
            "grid_template_rows": null,
            "height": null,
            "justify_content": null,
            "justify_items": null,
            "left": null,
            "margin": null,
            "max_height": null,
            "max_width": null,
            "min_height": null,
            "min_width": null,
            "object_fit": null,
            "object_position": null,
            "order": null,
            "overflow": null,
            "overflow_x": null,
            "overflow_y": null,
            "padding": null,
            "right": null,
            "top": null,
            "visibility": null,
            "width": null
          }
        },
        "3d345642d5ea43ceb6bc2d985bfde87a": {
          "model_module": "@jupyter-widgets/controls",
          "model_name": "DescriptionStyleModel",
          "model_module_version": "1.5.0",
          "state": {
            "_model_module": "@jupyter-widgets/controls",
            "_model_module_version": "1.5.0",
            "_model_name": "DescriptionStyleModel",
            "_view_count": null,
            "_view_module": "@jupyter-widgets/base",
            "_view_module_version": "1.2.0",
            "_view_name": "StyleView",
            "description_width": ""
          }
        },
        "aed1b81da3004cffa190eabf200062b1": {
          "model_module": "@jupyter-widgets/base",
          "model_name": "LayoutModel",
          "model_module_version": "1.2.0",
          "state": {
            "_model_module": "@jupyter-widgets/base",
            "_model_module_version": "1.2.0",
            "_model_name": "LayoutModel",
            "_view_count": null,
            "_view_module": "@jupyter-widgets/base",
            "_view_module_version": "1.2.0",
            "_view_name": "LayoutView",
            "align_content": null,
            "align_items": null,
            "align_self": null,
            "border": null,
            "bottom": null,
            "display": null,
            "flex": null,
            "flex_flow": null,
            "grid_area": null,
            "grid_auto_columns": null,
            "grid_auto_flow": null,
            "grid_auto_rows": null,
            "grid_column": null,
            "grid_gap": null,
            "grid_row": null,
            "grid_template_areas": null,
            "grid_template_columns": null,
            "grid_template_rows": null,
            "height": null,
            "justify_content": null,
            "justify_items": null,
            "left": null,
            "margin": null,
            "max_height": null,
            "max_width": null,
            "min_height": null,
            "min_width": null,
            "object_fit": null,
            "object_position": null,
            "order": null,
            "overflow": null,
            "overflow_x": null,
            "overflow_y": null,
            "padding": null,
            "right": null,
            "top": null,
            "visibility": null,
            "width": null
          }
        },
        "ad052f23ae254da89ad50325702215d1": {
          "model_module": "@jupyter-widgets/controls",
          "model_name": "ProgressStyleModel",
          "model_module_version": "1.5.0",
          "state": {
            "_model_module": "@jupyter-widgets/controls",
            "_model_module_version": "1.5.0",
            "_model_name": "ProgressStyleModel",
            "_view_count": null,
            "_view_module": "@jupyter-widgets/base",
            "_view_module_version": "1.2.0",
            "_view_name": "StyleView",
            "bar_color": null,
            "description_width": ""
          }
        },
        "4eb6580ce57f4b8298774410567c8882": {
          "model_module": "@jupyter-widgets/base",
          "model_name": "LayoutModel",
          "model_module_version": "1.2.0",
          "state": {
            "_model_module": "@jupyter-widgets/base",
            "_model_module_version": "1.2.0",
            "_model_name": "LayoutModel",
            "_view_count": null,
            "_view_module": "@jupyter-widgets/base",
            "_view_module_version": "1.2.0",
            "_view_name": "LayoutView",
            "align_content": null,
            "align_items": null,
            "align_self": null,
            "border": null,
            "bottom": null,
            "display": null,
            "flex": null,
            "flex_flow": null,
            "grid_area": null,
            "grid_auto_columns": null,
            "grid_auto_flow": null,
            "grid_auto_rows": null,
            "grid_column": null,
            "grid_gap": null,
            "grid_row": null,
            "grid_template_areas": null,
            "grid_template_columns": null,
            "grid_template_rows": null,
            "height": null,
            "justify_content": null,
            "justify_items": null,
            "left": null,
            "margin": null,
            "max_height": null,
            "max_width": null,
            "min_height": null,
            "min_width": null,
            "object_fit": null,
            "object_position": null,
            "order": null,
            "overflow": null,
            "overflow_x": null,
            "overflow_y": null,
            "padding": null,
            "right": null,
            "top": null,
            "visibility": null,
            "width": null
          }
        },
        "07c2ab0d2a014d949b633c1c9da87cc0": {
          "model_module": "@jupyter-widgets/controls",
          "model_name": "DescriptionStyleModel",
          "model_module_version": "1.5.0",
          "state": {
            "_model_module": "@jupyter-widgets/controls",
            "_model_module_version": "1.5.0",
            "_model_name": "DescriptionStyleModel",
            "_view_count": null,
            "_view_module": "@jupyter-widgets/base",
            "_view_module_version": "1.2.0",
            "_view_name": "StyleView",
            "description_width": ""
          }
        }
      }
    },
    "gpuClass": "standard"
  },
  "cells": [
    {
      "cell_type": "code",
      "execution_count": null,
      "metadata": {
        "id": "d8jHsE2YvtYM"
      },
      "outputs": [],
      "source": [
        "import tensorflow as tf\n",
        "from zipfile import ZipFile\n",
        "import os,glob\n",
        "import cv2\n",
        "from tqdm.notebook import tqdm_notebook as tqdm\n",
        "import numpy as np\n",
        "from sklearn import preprocessing\n",
        "from sklearn.model_selection import train_test_split\n",
        "from keras.models import Sequential\n",
        "from keras.layers import Convolution2D, Dropout, Dense,MaxPooling2D\n",
        "from keras.layers import BatchNormalization\n",
        "from keras.layers import MaxPooling2D\n",
        "from keras.layers import Flatten"
      ]
    },
    {
      "cell_type": "code",
      "source": [
        "from keras.models import Sequential\n",
        "from keras.layers import Dense, Dropout, Activation, Flatten, GlobalAveragePooling2D\n",
        "from keras.layers import Conv2D, MaxPooling2D, ZeroPadding2D\n",
        "\n",
        "from keras.models import Model\n",
        "\n",
        "\n",
        "num_classes = 12"
      ],
      "metadata": {
        "id": "mwOCsYdn9lgW"
      },
      "execution_count": null,
      "outputs": []
    },
    {
      "cell_type": "code",
      "source": [
        "from google.colab import drive\n",
        "drive.mount('/content/gdrive')"
      ],
      "metadata": {
        "colab": {
          "base_uri": "https://localhost:8080/"
        },
        "id": "tH2bPzjTyMQu",
        "outputId": "1391084e-d334-4591-9d29-5dfa994070ea"
      },
      "execution_count": null,
      "outputs": [
        {
          "output_type": "stream",
          "name": "stdout",
          "text": [
            "Drive already mounted at /content/gdrive; to attempt to forcibly remount, call drive.mount(\"/content/gdrive\", force_remount=True).\n"
          ]
        }
      ]
    },
    {
      "cell_type": "code",
      "source": [
        "from glob import glob"
      ],
      "metadata": {
        "id": "JHvwEpYcyhug"
      },
      "execution_count": null,
      "outputs": []
    },
    {
      "cell_type": "code",
      "source": [
        "import matplotlib.pyplot as plt"
      ],
      "metadata": {
        "id": "6K10Wc733Fef"
      },
      "execution_count": null,
      "outputs": []
    },
    {
      "cell_type": "code",
      "source": [
        "folders = glob('/content/gdrive/MyDrive/hr dl/*')"
      ],
      "metadata": {
        "id": "JGXPv6P_yi3j"
      },
      "execution_count": null,
      "outputs": []
    },
    {
      "cell_type": "code",
      "source": [
        "len(folders)"
      ],
      "metadata": {
        "colab": {
          "base_uri": "https://localhost:8080/"
        },
        "id": "86qfM34h1tdm",
        "outputId": "eaa101c3-f7dd-4824-b2a4-c2afefd4d2f9"
      },
      "execution_count": null,
      "outputs": [
        {
          "output_type": "execute_result",
          "data": {
            "text/plain": [
              "12"
            ]
          },
          "metadata": {},
          "execution_count": 7
        }
      ]
    },
    {
      "cell_type": "code",
      "source": [
        "folders[0]"
      ],
      "metadata": {
        "colab": {
          "base_uri": "https://localhost:8080/",
          "height": 35
        },
        "id": "s_-YYPn21vrt",
        "outputId": "55601c60-2b53-4eea-b803-682aabb9c294"
      },
      "execution_count": null,
      "outputs": [
        {
          "output_type": "execute_result",
          "data": {
            "text/plain": [
              "'/content/gdrive/MyDrive/hr dl/86'"
            ],
            "application/vnd.google.colaboratory.intrinsic+json": {
              "type": "string"
            }
          },
          "metadata": {},
          "execution_count": 8
        }
      ]
    },
    {
      "cell_type": "code",
      "source": [
        "type(folders)"
      ],
      "metadata": {
        "colab": {
          "base_uri": "https://localhost:8080/"
        },
        "id": "wKJcVauM1zJn",
        "outputId": "1d6082b1-3b9f-4e10-f781-9ce3f0ff435d"
      },
      "execution_count": null,
      "outputs": [
        {
          "output_type": "execute_result",
          "data": {
            "text/plain": [
              "list"
            ]
          },
          "metadata": {},
          "execution_count": 9
        }
      ]
    },
    {
      "cell_type": "code",
      "source": [
        "X = []\n",
        "y = []\n",
        "X1 = []\n",
        "X2 = []\n",
        "X3 = []\n",
        "X4 = []\n",
        "X5 = []\n",
        "X6 = []\n",
        "X7 = []\n",
        "X8 = []\n",
        "X9=[]\n",
        "X10 = []\n",
        "X11 = []\n",
        "X12 = []\n",
        "y1 = []\n",
        "y2 = []\n",
        "y3 = []\n",
        "y4 = []\n",
        "y5 = []\n",
        "y6 = []\n",
        "y7 = []\n",
        "y8 = []\n",
        "y9 = []\n",
        "y10 = []\n",
        "y11 = []\n",
        "y12 = []"
      ],
      "metadata": {
        "id": "C3KiV9m23M8k"
      },
      "execution_count": null,
      "outputs": []
    },
    {
      "cell_type": "code",
      "source": [
        "os.chdir('/content/gdrive/MyDrive/hr dl')"
      ],
      "metadata": {
        "id": "erQv-rA-3oQt"
      },
      "execution_count": null,
      "outputs": []
    },
    {
      "cell_type": "code",
      "source": [
        "os.chdir('/content/gdrive/MyDrive/hr dl/55')\n",
        "for i in tqdm(os.listdir()):\n",
        "      img = cv2.imread(i)   \n",
        "      img = cv2.resize(img,(224,224))\n",
        "      X.append(img)\n",
        "      y.append('55')\n",
        "      X1.append(img)\n",
        "      y1.append('55')"
      ],
      "metadata": {
        "colab": {
          "base_uri": "https://localhost:8080/",
          "height": 49,
          "referenced_widgets": [
            "bae4647af5984adbb82f599ee12d4a64",
            "80ad3718a22c4e1fb21468c370160a81",
            "1bd1e36c2bbc409a96bfd1d8fbc65f1e",
            "dba3a288eecd4ea59c66effcfbf4c4c0",
            "5b36b533184145588e3d8373dc6d2115",
            "8ab1830f2db04dd4bddced92e61230cb",
            "f92ecf5996e24524b773d42a359d7b23",
            "4e74b2ca4ccf4923b4d7ef2a443d6506",
            "bf6456cfe1ae4282a106d35b8c9080fa",
            "4558f0786daf4cf3b6cfeab867070613",
            "8e88bf168c5f440ea846ee6ea0ba7e11"
          ]
        },
        "id": "1JEwMC5y30YC",
        "outputId": "27ab9dbc-a159-4b28-98ec-e923151417e6"
      },
      "execution_count": null,
      "outputs": [
        {
          "output_type": "display_data",
          "data": {
            "text/plain": [
              "  0%|          | 0/11 [00:00<?, ?it/s]"
            ],
            "application/vnd.jupyter.widget-view+json": {
              "version_major": 2,
              "version_minor": 0,
              "model_id": "bae4647af5984adbb82f599ee12d4a64"
            }
          },
          "metadata": {}
        }
      ]
    },
    {
      "cell_type": "code",
      "source": [
        "os.chdir('/content/gdrive/MyDrive/hr dl/57')\n",
        "for i in tqdm(os.listdir()):\n",
        "      img = cv2.imread(i)   \n",
        "      img = cv2.resize(img,(224,224))\n",
        "      X.append(img)\n",
        "      y.append('57')\n",
        "      X2.append(img)\n",
        "      y2.append('57')"
      ],
      "metadata": {
        "colab": {
          "base_uri": "https://localhost:8080/",
          "height": 49,
          "referenced_widgets": [
            "020164cf6be0429f84a462d0dea8e8fe",
            "f8b245f9b7d6435ba0e6f81a4c230244",
            "aeb15175c1f648fa992cd157fcd74f57",
            "c8b14a98d0f54368bbf06824de0ef4d5",
            "c615fa03ae084fcf93959a64fb5f0c29",
            "2d634235581a469696a9598985783ed8",
            "70099281dcb84feeb50380a71972f46d",
            "31598925dead478da1abee9dd1522326",
            "88c92df3413f47c48f6bee75cdeafca6",
            "481c207c51bf4a74b0aad9e0021c4e78",
            "6e9ed98818714d698aeaa5cbf6eddcac"
          ]
        },
        "id": "L8fy6ONK4mTJ",
        "outputId": "c66f7e91-129d-4201-a319-b0fbbfebeb48"
      },
      "execution_count": null,
      "outputs": [
        {
          "output_type": "display_data",
          "data": {
            "text/plain": [
              "  0%|          | 0/11 [00:00<?, ?it/s]"
            ],
            "application/vnd.jupyter.widget-view+json": {
              "version_major": 2,
              "version_minor": 0,
              "model_id": "020164cf6be0429f84a462d0dea8e8fe"
            }
          },
          "metadata": {}
        }
      ]
    },
    {
      "cell_type": "code",
      "source": [
        "os.chdir('/content/gdrive/MyDrive/hr dl/62')\n",
        "for i in tqdm(os.listdir()):\n",
        "      img = cv2.imread(i)   \n",
        "      img = cv2.resize(img,(224,224))\n",
        "      X.append(img)\n",
        "      y.append('62')\n",
        "      X3.append(img)\n",
        "      y3.append('62')"
      ],
      "metadata": {
        "colab": {
          "base_uri": "https://localhost:8080/",
          "height": 49,
          "referenced_widgets": [
            "e6c55002acda431a94acbf536683658e",
            "dab9ad9402ea42d495075590eed13321",
            "cb9bce249b4c4da28c3ff4ea5a530d4d",
            "3842441e590645d6b360d6bc07df2646",
            "761c20f893ff43dd9ccb36a68f8c7005",
            "084bc3b31cf3455881e4c13ff7dd5fe2",
            "03729be325c24b63a5e9e7ea1b4cecac",
            "424a4f7557934f2a93df956aa26d96a8",
            "ff8385939b4d424b82fd477f2a65b489",
            "21d9d05081e4438dbf231acb332d0b67",
            "37dfa644649a4c58b63fe9032adf1f40"
          ]
        },
        "id": "5ZVnL4VO5hwN",
        "outputId": "67e99c0d-6f2c-40fe-fd81-bcdb8ad097d9"
      },
      "execution_count": null,
      "outputs": [
        {
          "output_type": "display_data",
          "data": {
            "text/plain": [
              "  0%|          | 0/11 [00:00<?, ?it/s]"
            ],
            "application/vnd.jupyter.widget-view+json": {
              "version_major": 2,
              "version_minor": 0,
              "model_id": "e6c55002acda431a94acbf536683658e"
            }
          },
          "metadata": {}
        }
      ]
    },
    {
      "cell_type": "code",
      "source": [
        "os.chdir('/content/gdrive/MyDrive/hr dl/78')\n",
        "for i in tqdm(os.listdir()):\n",
        "      img = cv2.imread(i)   \n",
        "      img = cv2.resize(img,(224,224))\n",
        "      X.append(img)\n",
        "      y.append('78')\n",
        "      X4.append(img)\n",
        "      y4.append('78')"
      ],
      "metadata": {
        "colab": {
          "base_uri": "https://localhost:8080/",
          "height": 49,
          "referenced_widgets": [
            "eb77058c3a284f8cb7b7b8d0e6b85cb2",
            "3fcbbfaa44814923a7c3e2945b193cbd",
            "621913fc09364404850f614fd59a9c9e",
            "78c0ec5836cb4fc0ba0f5c9e9990cf33",
            "5b2636bb22ce42d5b636949669a81efc",
            "f155f5358c214cd882c8bd27480f5054",
            "c9c9a80e21224e77b2a04b034625d95b",
            "b0cacb3704304cb08307d8b2fcf4a544",
            "f9ba136f8a6d4dc0a943478d9432409a",
            "b6589705d2f54b86aa4184c1c6206789",
            "c1faf7426cbf4498b3483af70ebd9b09"
          ]
        },
        "id": "p5GTzEs_5nbj",
        "outputId": "2a1d5c96-2c17-44cb-9c6e-e035344b29af"
      },
      "execution_count": null,
      "outputs": [
        {
          "output_type": "display_data",
          "data": {
            "text/plain": [
              "  0%|          | 0/11 [00:00<?, ?it/s]"
            ],
            "application/vnd.jupyter.widget-view+json": {
              "version_major": 2,
              "version_minor": 0,
              "model_id": "eb77058c3a284f8cb7b7b8d0e6b85cb2"
            }
          },
          "metadata": {}
        }
      ]
    },
    {
      "cell_type": "code",
      "source": [
        "os.chdir('/content/gdrive/MyDrive/hr dl/80')\n",
        "for i in tqdm(os.listdir()):\n",
        "      img = cv2.imread(i)   \n",
        "      img = cv2.resize(img,(224,224))\n",
        "      X.append(img)\n",
        "      y.append('80')\n",
        "      X5.append(img)\n",
        "      y5.append('80')"
      ],
      "metadata": {
        "colab": {
          "base_uri": "https://localhost:8080/",
          "height": 49,
          "referenced_widgets": [
            "ad0a205ed73442d58fea5a27d1c07ca6",
            "f842242f264c42aba7b12f0d683d5233",
            "e5362955e45b4961b6905fe516a885c9",
            "ee07c8e7290f4a11893835c231c92af8",
            "f7f52bb6263543c995d86a9e8518f1ab",
            "eb3f790ceff8467d89cf25ca92e2351e",
            "b809b1b4b6ed414780d46d2f230d79e5",
            "2bc1739fb2104fa28a5c3225835e69ef",
            "2171faae3b534a5eacdbd67c9b32ae8c",
            "576706643998468a95a06aabba042ff9",
            "8100d161009845e3bbd59f87c1030d9d"
          ]
        },
        "id": "r0V1ag525rW2",
        "outputId": "57d0c160-6ecd-4c57-dd75-cb4c2d4b9164"
      },
      "execution_count": null,
      "outputs": [
        {
          "output_type": "display_data",
          "data": {
            "text/plain": [
              "  0%|          | 0/11 [00:00<?, ?it/s]"
            ],
            "application/vnd.jupyter.widget-view+json": {
              "version_major": 2,
              "version_minor": 0,
              "model_id": "ad0a205ed73442d58fea5a27d1c07ca6"
            }
          },
          "metadata": {}
        }
      ]
    },
    {
      "cell_type": "code",
      "source": [
        "os.chdir('/content/gdrive/MyDrive/hr dl/81')\n",
        "for i in tqdm(os.listdir()):\n",
        "      img = cv2.imread(i)   \n",
        "      img = cv2.resize(img,(224,224))\n",
        "      X.append(img)\n",
        "      y.append('81')\n",
        "      X6.append(img)\n",
        "      y6.append('81')"
      ],
      "metadata": {
        "colab": {
          "base_uri": "https://localhost:8080/",
          "height": 49,
          "referenced_widgets": [
            "79209df1ec5e4f7aa16cb20c7caa37b9",
            "49977e8161324ff1aa639e5283b5325f",
            "fbe4d1bdd2724a0d860b7f12463b202a",
            "3a67c319777440b1a63423d669e0e272",
            "f035370220554f099c88530de6ecef5b",
            "3323780d8c9b401db69ac11fba399026",
            "d9701094a3ac4257ae5a5d48f0076bb5",
            "287985fc964b450d87b059f3eab31d14",
            "7389afb634b94d9bb1dfd921c3b4feca",
            "a2955fe9385246eba804209b00da915f",
            "16c79138a483461dad836d6c133ee125"
          ]
        },
        "id": "opgYFdms5vQt",
        "outputId": "f4ee6a59-7934-4c93-8878-4a8895c5542f"
      },
      "execution_count": null,
      "outputs": [
        {
          "output_type": "display_data",
          "data": {
            "text/plain": [
              "  0%|          | 0/11 [00:00<?, ?it/s]"
            ],
            "application/vnd.jupyter.widget-view+json": {
              "version_major": 2,
              "version_minor": 0,
              "model_id": "79209df1ec5e4f7aa16cb20c7caa37b9"
            }
          },
          "metadata": {}
        }
      ]
    },
    {
      "cell_type": "code",
      "source": [
        "os.chdir('/content/gdrive/MyDrive/hr dl/82')\n",
        "for i in tqdm(os.listdir()):\n",
        "      img = cv2.imread(i)   \n",
        "      img = cv2.resize(img,(224,224))\n",
        "      X.append(img)\n",
        "      y.append('82')\n",
        "      X7.append(img)\n",
        "      y7.append('82')"
      ],
      "metadata": {
        "colab": {
          "base_uri": "https://localhost:8080/",
          "height": 49,
          "referenced_widgets": [
            "5c8684baa4c04d6c94a5f4751401f080",
            "d79a01505de34ea89c50ebbdc52ceba4",
            "3ffcfd2e90344cfb9054dce092901b0c",
            "0f36cdcb47034c73a79e28f3d2acc29a",
            "f623a0257d8141ab90030b0e5c341479",
            "8310b508302b41feb32ccdbd3f6f1f30",
            "49bea2b53c574ff1b02ee1e735689265",
            "210a1e54639f4fa98d020f57a33edb23",
            "b97ddefebd8a4eb191ca9f614bba0378",
            "ddc9f32f47084ba3892cc187641fad96",
            "796312c36d0d4237a9550f540db689fd"
          ]
        },
        "id": "k2L16V625zku",
        "outputId": "81027bb6-2413-43f3-a056-32e36aafa078"
      },
      "execution_count": null,
      "outputs": [
        {
          "output_type": "display_data",
          "data": {
            "text/plain": [
              "  0%|          | 0/11 [00:00<?, ?it/s]"
            ],
            "application/vnd.jupyter.widget-view+json": {
              "version_major": 2,
              "version_minor": 0,
              "model_id": "5c8684baa4c04d6c94a5f4751401f080"
            }
          },
          "metadata": {}
        }
      ]
    },
    {
      "cell_type": "code",
      "source": [
        "os.chdir('/content/gdrive/MyDrive/hr dl/84')\n",
        "for i in tqdm(os.listdir()):\n",
        "      img = cv2.imread(i)   \n",
        "      img = cv2.resize(img,(224,224))\n",
        "      X.append(img)\n",
        "      y.append('84')\n",
        "      X8.append(img)\n",
        "      y8.append('84')"
      ],
      "metadata": {
        "colab": {
          "base_uri": "https://localhost:8080/",
          "height": 49,
          "referenced_widgets": [
            "6af3e83450334c43b2ad8fba6849c03b",
            "72582c1b8be0488389a48288a547346e",
            "225b41c37b864eeb805fde30f8efd56b",
            "f0ae459c8e364d2eaecc0a540d73300a",
            "dc189e958466481aa4b90a99c4e3b5dd",
            "d2b38cf37fbc4690a1dbcaf42cf06226",
            "dc8daed08e7e4b0fa14b39d592545867",
            "f541c873ed6d4329944ceb0f3f761215",
            "be7737c5913745de8aaca193d4f37c03",
            "caef97c43bd849d191f69cc29821b26c",
            "45201d8a8cdd44dbb69f0e84f99be113"
          ]
        },
        "id": "0QewUsMq54-h",
        "outputId": "c2f3088c-fe79-4683-8e95-93ac43769740"
      },
      "execution_count": null,
      "outputs": [
        {
          "output_type": "display_data",
          "data": {
            "text/plain": [
              "  0%|          | 0/11 [00:00<?, ?it/s]"
            ],
            "application/vnd.jupyter.widget-view+json": {
              "version_major": 2,
              "version_minor": 0,
              "model_id": "6af3e83450334c43b2ad8fba6849c03b"
            }
          },
          "metadata": {}
        }
      ]
    },
    {
      "cell_type": "code",
      "source": [
        "os.chdir('/content/gdrive/MyDrive/hr dl/86')\n",
        "for i in tqdm(os.listdir()):\n",
        "      img = cv2.imread(i)   \n",
        "      img = cv2.resize(img,(224,224))\n",
        "      X.append(img)\n",
        "      y.append('86')\n",
        "      X9.append(img)\n",
        "      y9.append('86')"
      ],
      "metadata": {
        "colab": {
          "base_uri": "https://localhost:8080/",
          "height": 49,
          "referenced_widgets": [
            "7f03e2d77a244193bd787a822144f66c",
            "72dc73499344478eb6075290fc565da5",
            "cec3c38c4db744fab79ad312c16f2e03",
            "cd3acc920c644c39b6ec207d817ec7d3",
            "a92d3ea9b93e46579362578187d1e6e9",
            "5a21f27c6c734618a695552dd46e6d47",
            "3b5e6179dc1a49a7892f5cd5932a577f",
            "e539d3579cd34fa2b4af3d403ba539b6",
            "0cececc3c26c4465aace77d3c301973f",
            "a934b059b15648bd86b83c223cdf4885",
            "b158a024ba344c048d0c06dcb3af20e1"
          ]
        },
        "id": "i3198F3R58e5",
        "outputId": "17cc461a-800c-4f51-9261-fcefa7ab4e55"
      },
      "execution_count": null,
      "outputs": [
        {
          "output_type": "display_data",
          "data": {
            "text/plain": [
              "  0%|          | 0/11 [00:00<?, ?it/s]"
            ],
            "application/vnd.jupyter.widget-view+json": {
              "version_major": 2,
              "version_minor": 0,
              "model_id": "7f03e2d77a244193bd787a822144f66c"
            }
          },
          "metadata": {}
        }
      ]
    },
    {
      "cell_type": "code",
      "source": [
        "os.chdir('/content/gdrive/MyDrive/hr dl/87')\n",
        "for i in tqdm(os.listdir()):\n",
        "      img = cv2.imread(i)   \n",
        "      img = cv2.resize(img,(224,224))\n",
        "      X.append(img)\n",
        "      y.append('87')\n",
        "      X10.append(img)\n",
        "      y10.append('87')"
      ],
      "metadata": {
        "colab": {
          "base_uri": "https://localhost:8080/",
          "height": 49,
          "referenced_widgets": [
            "99bf9f3bdbfb434d818b5f60aaae21c0",
            "39d123cc3b3e49b88700e0f241459f4c",
            "13f2b9c8a07c4deb91c99ce93c75fe9f",
            "b3557654f5e64c51946e724f0e3c8af2",
            "918c371977244c88baf1c86dbff38bba",
            "f74e4627c3d840888aad992daad41186",
            "d055251d75384e1ab77f7b84ee1fba3d",
            "0fed886a45b34060b5b76f30b8966d80",
            "f0bfa776569342e39771d0ea27fc704e",
            "b3c8c539cf9f4f3fb88497fbc9d169d7",
            "a117259545a741418402a27d43da9bee"
          ]
        },
        "id": "Ddrs_CPp6BWa",
        "outputId": "c90b2928-b84b-4d30-ca14-49f643a4f69a"
      },
      "execution_count": null,
      "outputs": [
        {
          "output_type": "display_data",
          "data": {
            "text/plain": [
              "  0%|          | 0/11 [00:00<?, ?it/s]"
            ],
            "application/vnd.jupyter.widget-view+json": {
              "version_major": 2,
              "version_minor": 0,
              "model_id": "99bf9f3bdbfb434d818b5f60aaae21c0"
            }
          },
          "metadata": {}
        }
      ]
    },
    {
      "cell_type": "code",
      "source": [
        "os.chdir('/content/gdrive/MyDrive/hr dl/89')\n",
        "for i in tqdm(os.listdir()):\n",
        "      img = cv2.imread(i)   \n",
        "      img = cv2.resize(img,(224,224))\n",
        "      X.append(img)\n",
        "      y.append('89')\n",
        "      X11.append(img)\n",
        "      y11.append('89')"
      ],
      "metadata": {
        "colab": {
          "base_uri": "https://localhost:8080/",
          "height": 49,
          "referenced_widgets": [
            "d9b9a02e78934e7ba7c3c489a168045b",
            "9d147ced75f342f1946c6367896a19b9",
            "32e0e9b484b24352adfc4b3736931099",
            "387bb80c78fe4d0385b3c0789c68a749",
            "3cfba840ab524f1eb39f0562148ddc8c",
            "449f6ca52b2948958da534022b445211",
            "894e201e1f9744129a7cfed0ec7de27c",
            "a83c3ca974ec43d3ae4519ae191da270",
            "63d01f279c734163a331fdfbfd5e6fb1",
            "a079edb05ed9413099a402eac6c814a6",
            "266d97df82c24887b4a0440372f17112"
          ]
        },
        "id": "SiCqVf-Q6F_c",
        "outputId": "fe22efea-7ccd-4820-a556-db637e569aa7"
      },
      "execution_count": null,
      "outputs": [
        {
          "output_type": "display_data",
          "data": {
            "text/plain": [
              "  0%|          | 0/11 [00:00<?, ?it/s]"
            ],
            "application/vnd.jupyter.widget-view+json": {
              "version_major": 2,
              "version_minor": 0,
              "model_id": "d9b9a02e78934e7ba7c3c489a168045b"
            }
          },
          "metadata": {}
        }
      ]
    },
    {
      "cell_type": "code",
      "source": [
        "os.chdir('/content/gdrive/MyDrive/hr dl/95')\n",
        "for i in tqdm(os.listdir()):\n",
        "      img = cv2.imread(i)   \n",
        "      img = cv2.resize(img,(224,224))\n",
        "      X.append(img)\n",
        "      y.append('95')\n",
        "      X12.append(img)\n",
        "      y12.append('95')"
      ],
      "metadata": {
        "colab": {
          "base_uri": "https://localhost:8080/",
          "height": 49,
          "referenced_widgets": [
            "b8b1320943c94680b16505ea347fb820",
            "8a0743b4dea248c594899ba10fc3f4e3",
            "7c0064a154fd42288bdb1d5b2c00bc56",
            "cf2a9954361a47c880cf8181031329ae",
            "e7aa3374761a48a4bb590e67ebecf3c6",
            "88a9860ea75b4d1c9232ed01ef108f23",
            "3d345642d5ea43ceb6bc2d985bfde87a",
            "aed1b81da3004cffa190eabf200062b1",
            "ad052f23ae254da89ad50325702215d1",
            "4eb6580ce57f4b8298774410567c8882",
            "07c2ab0d2a014d949b633c1c9da87cc0"
          ]
        },
        "id": "keU0RiPF6JtM",
        "outputId": "302b647e-8d7a-4ecb-e0f1-8fc33eaa5b71"
      },
      "execution_count": null,
      "outputs": [
        {
          "output_type": "display_data",
          "data": {
            "text/plain": [
              "  0%|          | 0/11 [00:00<?, ?it/s]"
            ],
            "application/vnd.jupyter.widget-view+json": {
              "version_major": 2,
              "version_minor": 0,
              "model_id": "b8b1320943c94680b16505ea347fb820"
            }
          },
          "metadata": {}
        }
      ]
    },
    {
      "cell_type": "code",
      "source": [
        "len(y)"
      ],
      "metadata": {
        "colab": {
          "base_uri": "https://localhost:8080/"
        },
        "id": "GdlqCBsT6R8x",
        "outputId": "7e94c3e3-1a5f-48fa-9973-1ff0a5cf51dc"
      },
      "execution_count": null,
      "outputs": [
        {
          "output_type": "execute_result",
          "data": {
            "text/plain": [
              "132"
            ]
          },
          "metadata": {},
          "execution_count": 24
        }
      ]
    },
    {
      "cell_type": "code",
      "source": [
        "print(y)"
      ],
      "metadata": {
        "colab": {
          "base_uri": "https://localhost:8080/"
        },
        "id": "kGygRLRg6r0j",
        "outputId": "ff2acc11-02cb-4db3-862a-7ee5654e3a89"
      },
      "execution_count": null,
      "outputs": [
        {
          "output_type": "stream",
          "name": "stdout",
          "text": [
            "['55', '55', '55', '55', '55', '55', '55', '55', '55', '55', '55', '57', '57', '57', '57', '57', '57', '57', '57', '57', '57', '57', '62', '62', '62', '62', '62', '62', '62', '62', '62', '62', '62', '78', '78', '78', '78', '78', '78', '78', '78', '78', '78', '78', '80', '80', '80', '80', '80', '80', '80', '80', '80', '80', '80', '81', '81', '81', '81', '81', '81', '81', '81', '81', '81', '81', '82', '82', '82', '82', '82', '82', '82', '82', '82', '82', '82', '84', '84', '84', '84', '84', '84', '84', '84', '84', '84', '84', '86', '86', '86', '86', '86', '86', '86', '86', '86', '86', '86', '87', '87', '87', '87', '87', '87', '87', '87', '87', '87', '87', '89', '89', '89', '89', '89', '89', '89', '89', '89', '89', '89', '95', '95', '95', '95', '95', '95', '95', '95', '95', '95', '95']\n"
          ]
        }
      ]
    },
    {
      "cell_type": "code",
      "source": [
        "plt.figure(figsize=(10, 10))\n",
        "for i in range(4):\n",
        "    plt.subplot(1, 4, i+1)\n",
        "    plt.imshow(X[i], cmap=\"gray\")\n",
        "    plt.axis('off')\n",
        "plt.show()"
      ],
      "metadata": {
        "colab": {
          "base_uri": "https://localhost:8080/",
          "height": 152
        },
        "id": "jXltPNiB6yzl",
        "outputId": "dcd171ce-d707-4096-a695-aaf402edd5a5"
      },
      "execution_count": null,
      "outputs": [
        {
          "output_type": "display_data",
          "data": {
            "text/plain": [
              "<Figure size 720x720 with 4 Axes>"
            ],
            "image/png": "[encoded data removed]"
          },
          "metadata": {
            "needs_background": "light"
          }
        }
      ]
    },
    {
      "cell_type": "code",
      "source": [
        "X_train, X_test, y_train, y_test = train_test_split(X, y, test_size=0.33, random_state=42)\n",
        "print (\"Shape of an image in X_train: \", X_train[0].shape)\n",
        "print (\"Shape of an image in X_test: \", X_test[0].shape)\n",
        "le = preprocessing.LabelEncoder()\n",
        "y_train = le.fit_transform(y_train)\n",
        "y_test = le.fit_transform(y_test)\n",
        "y_train = tf.keras.utils.to_categorical(y_train, num_classes=12)\n",
        "y_test = tf.keras.utils.to_categorical(y_test, num_classes=12)\n",
        "y_train = np.array(y_train)\n",
        "X_train = np.array(X_train)\n",
        "y_test = np.array(y_test)\n",
        "X_test = np.array(X_test) \n",
        "print(\"X_train Shape: \", X_train.shape) \n",
        "print(\"X_test Shape: \", X_test.shape)\n",
        "print(\"y_train Shape: \", y_train.shape) \n",
        "print(\"y_test Shape: \", y_test.shape)\n",
        "from keras.applications import vgg16"
      ],
      "metadata": {
        "colab": {
          "base_uri": "https://localhost:8080/"
        },
        "id": "RHtsJ1oH65Pa",
        "outputId": "d6b16ce5-f0d6-4c34-99fe-f556903a6ef0"
      },
      "execution_count": null,
      "outputs": [
        {
          "output_type": "stream",
          "name": "stdout",
          "text": [
            "Shape of an image in X_train:  (224, 224, 3)\n",
            "Shape of an image in X_test:  (224, 224, 3)\n",
            "X_train Shape:  (88, 224, 224, 3)\n",
            "X_test Shape:  (44, 224, 224, 3)\n",
            "y_train Shape:  (88, 12)\n",
            "y_test Shape:  (44, 12)\n"
          ]
        }
      ]
    },
    {
      "cell_type": "code",
      "source": [
        "# y_train1 = le.fit_transform(y1)\n",
        "# y_test1 = le.fit_transform(y1)\n",
        "# y_train1 = tf.keras.utils.to_categorical(y_train1, num_classes=1)\n",
        "# y_test1 = tf.keras.utils.to_categorical(y_test1, num_classes=1)\n",
        "# y_train1 = np.array(y_train1)\n",
        "# X_train1 = np.array(X1)\n",
        "# y_test1 = np.array(y_test1)\n",
        "# X_test1 = np.array(X1)\n",
        "# #y_train = le.fit_transform(y_train)\n",
        "# y_test2 = le.fit_transform(y2)\n",
        "# #y_train = tf.keras.utils.to_categorical(y_train, num_classes=12)\n",
        "# y_test2 = tf.keras.utils.to_categorical(y_test2, num_classes=1)\n",
        "# #y_train = np.array(y_train)\n",
        "# #X_train = np.array(X_train)\n",
        "# y_test2 = np.array(y_test2)\n",
        "# X_test2 = np.array(X2)\n",
        "# #y_train = le.fit_transform(y_train)\n",
        "# y_test3 = le.fit_transform(y3)\n",
        "# #y_train = tf.keras.utils.to_categorical(y_train, num_classes=12)\n",
        "# y_test3 = tf.keras.utils.to_categorical(y_test3, num_classes=1)\n",
        "# #y_train = np.array(y_train)\n",
        "# #X_train = np.array(X_train)\n",
        "# y_test3 = np.array(y_test3)\n",
        "# X_test3 = np.array(X3)\n",
        "# #y_train = le.fit_transform(y_train)\n",
        "# y_test4 = le.fit_transform(y4)\n",
        "# #y_train = tf.keras.utils.to_categorical(y_train, num_classes=12)\n",
        "# y_test4 = tf.keras.utils.to_categorical(y_test4, num_classes=1)\n",
        "# #y_train = np.array(y_train)\n",
        "# #X_train = np.array(X_train)\n",
        "# y_test4 = np.array(y_test4)\n",
        "# X_test4 = np.array(X4)\n",
        "# #y_train = le.fit_transform(y_train)\n",
        "# y_test5 = le.fit_transform(y5)\n",
        "# #y_train = tf.keras.utils.to_categorical(y_train, num_classes=12)\n",
        "# y_test5 = tf.keras.utils.to_categorical(y_test5, num_classes=1)\n",
        "# #y_train = np.array(y_train)\n",
        "# #X_train = np.array(X_train)\n",
        "# y_test5 = np.array(y_test5)\n",
        "# X_test5 = np.array(X5)\n",
        "# #y_train = le.fit_transform(y_train)\n",
        "# y_test6 = le.fit_transform(y6)\n",
        "# #y_train = tf.keras.utils.to_categorical(y_train, num_classes=12)\n",
        "# y_test6 = tf.keras.utils.to_categorical(y_test6, num_classes=1)\n",
        "# #y_train = np.array(y_train)\n",
        "# #X_train = np.array(X_train)\n",
        "# y_test6 = np.array(y_test6)\n",
        "# X_test6 = np.array(X6)\n",
        "# #y_train = le.fit_transform(y_train)\n",
        "# y_test7 = le.fit_transform(y7)\n",
        "# #y_train = tf.keras.utils.to_categorical(y_train, num_classes=12)\n",
        "# y_test7 = tf.keras.utils.to_categorical(y_test7, num_classes=1)\n",
        "# #y_train = np.array(y_train)\n",
        "# #X_train = np.array(X_train)\n",
        "# y_test7 = np.array(y_test7)\n",
        "# X_test7 = np.array(X7)\n",
        "# #y_train = le.fit_transform(y_train)\n",
        "# y_test8 = le.fit_transform(y8)\n",
        "# #y_train = tf.keras.utils.to_categorical(y_train, num_classes=12)\n",
        "# y_test8 = tf.keras.utils.to_categorical(y_test8, num_classes=1)\n",
        "# #y_train = np.array(y_train)\n",
        "# #X_train = np.array(X_train)\n",
        "# y_test8 = np.array(y_test8)\n",
        "# X_test8 = np.array(X8)\n",
        "# #y_train = le.fit_transform(y_train)\n",
        "# y_test9 = le.fit_transform(y9)\n",
        "# #y_train = tf.keras.utils.to_categorical(y_train, num_classes=12)\n",
        "# y_test9 = tf.keras.utils.to_categorical(y_test9, num_classes=1)\n",
        "# #y_train = np.array(y_train)\n",
        "# #X_train = np.array(X_train)\n",
        "# y_test9 = np.array(y_test9)\n",
        "# X_test9 = np.array(X9)\n",
        "# #y_train = le.fit_transform(y_train)\n",
        "# y_test10 = le.fit_transform(y10)\n",
        "# #y_train = tf.keras.utils.to_categorical(y_train, num_classes=12)\n",
        "# y_test10 = tf.keras.utils.to_categorical(y_test10, num_classes=1)\n",
        "# #y_train = np.array(y_train)\n",
        "# #X_train = np.array(X_train)\n",
        "# y_test10 = np.array(y_test10)\n",
        "# X_test10 = np.array(X10)\n",
        "# #y_train = le.fit_transform(y_train)\n",
        "# y_test11 = le.fit_transform(y11)\n",
        "# #y_train = tf.keras.utils.to_categorical(y_train, num_classes=12)\n",
        "# y_test11 = tf.keras.utils.to_categorical(y_test11, num_classes=1)\n",
        "# #y_train = np.array(y_train)\n",
        "# #X_train = np.array(X_train)\n",
        "# y_test11 = np.array(y_test11)\n",
        "# X_test11 = np.array(X11)\n",
        "# #y_train = le.fit_transform(y_train)\n",
        "# y_test12 = le.fit_transform(y12)\n",
        "# #y_train = tf.keras.utils.to_categorical(y_train, num_classes=12)\n",
        "# y_test12 = tf.keras.utils.to_categorical(y_test12, num_classes=1)\n",
        "# #y_train = np.array(y_train)\n",
        "# #X_train = np.array(X_train)\n",
        "# y_test12 = np.array(y_test12)\n",
        "# X_test12 = np.array(X12)"
      ],
      "metadata": {
        "id": "17XvzoMdA4y3"
      },
      "execution_count": null,
      "outputs": []
    },
    {
      "cell_type": "code",
      "source": [
        "img_rows, img_cols = 224, 224 \n",
        "\n",
        "\n",
        "vgg = vgg16.VGG16(weights = 'imagenet', \n",
        "                 include_top = False, \n",
        "                 input_shape = (img_rows, img_cols, 3))\n",
        "\n",
        "# Here we freeze the last 4 layers \n",
        "# Layers are set to trainable as True by default\n",
        "for layer in vgg.layers:\n",
        "    layer.trainable = False\n",
        "\n",
        "for (i,layer) in enumerate(vgg.layers):\n",
        "    print(str(i) + \" \"+ layer.__class__.__name__, layer.trainable)"
      ],
      "metadata": {
        "colab": {
          "base_uri": "https://localhost:8080/"
        },
        "id": "Kl59niAm7Qpa",
        "outputId": "f20bc890-7832-41f8-a4bc-78aa8accb120"
      },
      "execution_count": null,
      "outputs": [
        {
          "output_type": "stream",
          "name": "stdout",
          "text": [
            "Downloading data from https://storage.googleapis.com/tensorflow/keras-applications/vgg16/vgg16_weights_tf_dim_ordering_tf_kernels_notop.h5\n",
            "58892288/58889256 [==============================] - 0s 0us/step\n",
            "58900480/58889256 [==============================] - 0s 0us/step\n",
            "0 InputLayer False\n",
            "1 Conv2D False\n",
            "2 Conv2D False\n",
            "3 MaxPooling2D False\n",
            "4 Conv2D False\n",
            "5 Conv2D False\n",
            "6 MaxPooling2D False\n",
            "7 Conv2D False\n",
            "8 Conv2D False\n",
            "9 Conv2D False\n",
            "10 MaxPooling2D False\n",
            "11 Conv2D False\n",
            "12 Conv2D False\n",
            "13 Conv2D False\n",
            "14 MaxPooling2D False\n",
            "15 Conv2D False\n",
            "16 Conv2D False\n",
            "17 Conv2D False\n",
            "18 MaxPooling2D False\n"
          ]
        }
      ]
    },
    {
      "cell_type": "code",
      "source": [
        "num_classes = 12"
      ],
      "metadata": {
        "id": "fRBEgT2m9eMp"
      },
      "execution_count": null,
      "outputs": []
    },
    {
      "cell_type": "code",
      "source": [
        "def lw(bottom_model, num_classes):\n",
        "      top_model = bottom_model.output\n",
        "      top_model = GlobalAveragePooling2D()(top_model)\n",
        "      top_model = Dense(1024,activation='relu')(top_model)\n",
        "      top_model = Dense(1024,activation='relu')(top_model)\n",
        "      top_model = Dense(512,activation='relu')(top_model)\n",
        "      top_model = Dense(num_classes,activation='softmax')(top_model)\n",
        "      return top_model "
      ],
      "metadata": {
        "id": "DO3otCWf8qYQ"
      },
      "execution_count": null,
      "outputs": []
    },
    {
      "cell_type": "code",
      "source": [
        "from keras.models import Sequential\n",
        "from keras.layers import Dense, Dropout, Activation, Flatten, GlobalAveragePooling2D\n",
        "from keras.layers import Conv2D, MaxPooling2D, ZeroPadding2D\n",
        "\n",
        "from keras.models import Model\n",
        "\n",
        "\n",
        "num_classes = 12\n",
        "FC_Head = lw(vgg, num_classes)\n",
        "\n",
        "model = Model(inputs = vgg.input, outputs = FC_Head)\n",
        "\n",
        "print(model.summary())"
      ],
      "metadata": {
        "colab": {
          "base_uri": "https://localhost:8080/"
        },
        "id": "HKVC4ZOl-DxG",
        "outputId": "7df5cc39-0b78-4071-c5e9-3526b141de5e"
      },
      "execution_count": null,
      "outputs": [
        {
          "output_type": "stream",
          "name": "stdout",
          "text": [
            "Model: \"model_1\"\n",
            "_________________________________________________________________\n",
            " Layer (type)                Output Shape              Param #   \n",
            "=================================================================\n",
            " input_1 (InputLayer)        [(None, 224, 224, 3)]     0         \n",
            "                                                                 \n",
            " block1_conv1 (Conv2D)       (None, 224, 224, 64)      1792      \n",
            "                                                                 \n",
            " block1_conv2 (Conv2D)       (None, 224, 224, 64)      36928     \n",
            "                                                                 \n",
            " block1_pool (MaxPooling2D)  (None, 112, 112, 64)      0         \n",
            "                                                                 \n",
            " block2_conv1 (Conv2D)       (None, 112, 112, 128)     73856     \n",
            "                                                                 \n",
            " block2_conv2 (Conv2D)       (None, 112, 112, 128)     147584    \n",
            "                                                                 \n",
            " block2_pool (MaxPooling2D)  (None, 56, 56, 128)       0         \n",
            "                                                                 \n",
            " block3_conv1 (Conv2D)       (None, 56, 56, 256)       295168    \n",
            "                                                                 \n",
            " block3_conv2 (Conv2D)       (None, 56, 56, 256)       590080    \n",
            "                                                                 \n",
            " block3_conv3 (Conv2D)       (None, 56, 56, 256)       590080    \n",
            "                                                                 \n",
            " block3_pool (MaxPooling2D)  (None, 28, 28, 256)       0         \n",
            "                                                                 \n",
            " block4_conv1 (Conv2D)       (None, 28, 28, 512)       1180160   \n",
            "                                                                 \n",
            " block4_conv2 (Conv2D)       (None, 28, 28, 512)       2359808   \n",
            "                                                                 \n",
            " block4_conv3 (Conv2D)       (None, 28, 28, 512)       2359808   \n",
            "                                                                 \n",
            " block4_pool (MaxPooling2D)  (None, 14, 14, 512)       0         \n",
            "                                                                 \n",
            " block5_conv1 (Conv2D)       (None, 14, 14, 512)       2359808   \n",
            "                                                                 \n",
            " block5_conv2 (Conv2D)       (None, 14, 14, 512)       2359808   \n",
            "                                                                 \n",
            " block5_conv3 (Conv2D)       (None, 14, 14, 512)       2359808   \n",
            "                                                                 \n",
            " block5_pool (MaxPooling2D)  (None, 7, 7, 512)         0         \n",
            "                                                                 \n",
            " global_average_pooling2d_1   (None, 512)              0         \n",
            " (GlobalAveragePooling2D)                                        \n",
            "                                                                 \n",
            " dense_4 (Dense)             (None, 1024)              525312    \n",
            "                                                                 \n",
            " dense_5 (Dense)             (None, 1024)              1049600   \n",
            "                                                                 \n",
            " dense_6 (Dense)             (None, 512)               524800    \n",
            "                                                                 \n",
            " dense_7 (Dense)             (None, 1)                 513       \n",
            "                                                                 \n",
            "=================================================================\n",
            "Total params: 16,814,913\n",
            "Trainable params: 2,100,225\n",
            "Non-trainable params: 14,714,688\n",
            "_________________________________________________________________\n",
            "None\n"
          ]
        }
      ]
    },
    {
      "cell_type": "code",
      "source": [
        "import tensorflow\n",
        "from tensorflow.keras.layers import InputLayer, GRU, BatchNormalization, Conv1D, MaxPooling1D, Bidirectional, Dense, Flatten, PReLU, LSTM, ReLU, LeakyReLU\n",
        "from tensorflow.keras.models import Sequential\n",
        "from tensorflow.keras.optimizers import Adam\n",
        "import keras "
      ],
      "metadata": {
        "id": "yG2Z4qGIf0ti"
      },
      "execution_count": null,
      "outputs": []
    },
    {
      "cell_type": "code",
      "source": [
        "from sklearn import metrics\n",
        "import tensorflow as tf\n",
        "from keras import backend as K\n",
        "\n",
        "def auc(y_true, y_pred):\n",
        "    auc = tf.metrics.auc(y_true, y_pred)[1]\n",
        "    K.get_session().run(tf.local_variables_initializer())\n",
        "    return auc"
      ],
      "metadata": {
        "id": "iD3_2glkBVHB"
      },
      "execution_count": null,
      "outputs": []
    },
    {
      "cell_type": "code",
      "source": [
        "from tensorflow.keras.metrics import AUC\n"
      ],
      "metadata": {
        "id": "j9myMf35FOe1"
      },
      "execution_count": null,
      "outputs": []
    },
    {
      "cell_type": "code",
      "source": [
        "from tensorflow.keras.models import Model\n",
        "model.compile(optimizer='adam', loss = 'categorical_crossentropy',metrics = ['accuracy',AUC()])\n",
        "#model.compile(optimizer='nadam', loss='categorical_crossentropy', metrics=tensorflow.keras.metrics.RootMeanSquaredError())\n",
        "history = model.fit(X_train,y_train,\n",
        "                    epochs=200, \n",
        "                    validation_data=(X_test,y_test),\n",
        "                    verbose = 1,\n",
        "                    initial_epoch=0)"
      ],
      "metadata": {
        "colab": {
          "base_uri": "https://localhost:8080/"
        },
        "id": "NMkSWkJx-k8p",
        "outputId": "6abf9f7a-050d-45de-8fa6-681ac98b1974"
      },
      "execution_count": null,
      "outputs": [
        {
          "output_type": "stream",
          "name": "stdout",
          "text": [
            "Epoch 1/200\n",
            "3/3 [==============================] - 18s 2s/step - loss: 8.4125 - accuracy: 0.0227 - auc: 0.4732 - val_loss: 8.1906 - val_accuracy: 0.0682 - val_auc: 0.5477\n",
            "Epoch 2/200\n",
            "3/3 [==============================] - 1s 234ms/step - loss: 8.9498 - accuracy: 0.0909 - auc: 0.5037 - val_loss: 6.2777 - val_accuracy: 0.1591 - val_auc: 0.5787\n",
            "Epoch 3/200\n",
            "3/3 [==============================] - 1s 235ms/step - loss: 6.2295 - accuracy: 0.1136 - auc: 0.5112 - val_loss: 3.2086 - val_accuracy: 0.0909 - val_auc: 0.6351\n",
            "Epoch 4/200\n",
            "3/3 [==============================] - 1s 234ms/step - loss: 3.3684 - accuracy: 0.0795 - auc: 0.5352 - val_loss: 2.5645 - val_accuracy: 0.0455 - val_auc: 0.6108\n",
            "Epoch 5/200\n",
            "3/3 [==============================] - 1s 235ms/step - loss: 2.4785 - accuracy: 0.1364 - auc: 0.6620 - val_loss: 2.5389 - val_accuracy: 0.0455 - val_auc: 0.6346\n",
            "Epoch 6/200\n",
            "3/3 [==============================] - 1s 234ms/step - loss: 2.3329 - accuracy: 0.1250 - auc: 0.6858 - val_loss: 2.0568 - val_accuracy: 0.4091 - val_auc: 0.7530\n",
            "Epoch 7/200\n",
            "3/3 [==============================] - 1s 234ms/step - loss: 2.0943 - accuracy: 0.2841 - auc: 0.7437 - val_loss: 1.8889 - val_accuracy: 0.4545 - val_auc: 0.8160\n",
            "Epoch 8/200\n",
            "3/3 [==============================] - 1s 234ms/step - loss: 1.9810 - accuracy: 0.4091 - auc: 0.7882 - val_loss: 1.7864 - val_accuracy: 0.5000 - val_auc: 0.8552\n",
            "Epoch 9/200\n",
            "3/3 [==============================] - 1s 234ms/step - loss: 1.8282 - accuracy: 0.4318 - auc: 0.8508 - val_loss: 1.7262 - val_accuracy: 0.4318 - val_auc: 0.8582\n",
            "Epoch 10/200\n",
            "3/3 [==============================] - 1s 234ms/step - loss: 1.7544 - accuracy: 0.4545 - auc: 0.8472 - val_loss: 1.6093 - val_accuracy: 0.5682 - val_auc: 0.8818\n",
            "Epoch 11/200\n",
            "3/3 [==============================] - 1s 234ms/step - loss: 1.6076 - accuracy: 0.5227 - auc: 0.8980 - val_loss: 1.4558 - val_accuracy: 0.6591 - val_auc: 0.9313\n",
            "Epoch 12/200\n",
            "3/3 [==============================] - 1s 234ms/step - loss: 1.5038 - accuracy: 0.5227 - auc: 0.9183 - val_loss: 1.4599 - val_accuracy: 0.7273 - val_auc: 0.9276\n",
            "Epoch 13/200\n",
            "3/3 [==============================] - 1s 235ms/step - loss: 1.4539 - accuracy: 0.5568 - auc: 0.9120 - val_loss: 1.4099 - val_accuracy: 0.5000 - val_auc: 0.9375\n",
            "Epoch 14/200\n",
            "3/3 [==============================] - 1s 235ms/step - loss: 1.3186 - accuracy: 0.5909 - auc: 0.9467 - val_loss: 1.3198 - val_accuracy: 0.6364 - val_auc: 0.9442\n",
            "Epoch 15/200\n",
            "3/3 [==============================] - 1s 236ms/step - loss: 1.2427 - accuracy: 0.6250 - auc: 0.9508 - val_loss: 1.2682 - val_accuracy: 0.6591 - val_auc: 0.9608\n",
            "Epoch 16/200\n",
            "3/3 [==============================] - 1s 236ms/step - loss: 1.1754 - accuracy: 0.6591 - auc: 0.9537 - val_loss: 1.2410 - val_accuracy: 0.6591 - val_auc: 0.9555\n",
            "Epoch 17/200\n",
            "3/3 [==============================] - 1s 234ms/step - loss: 1.0926 - accuracy: 0.6250 - auc: 0.9634 - val_loss: 1.2279 - val_accuracy: 0.6364 - val_auc: 0.9557\n",
            "Epoch 18/200\n",
            "3/3 [==============================] - 1s 234ms/step - loss: 1.0456 - accuracy: 0.6250 - auc: 0.9660 - val_loss: 1.1452 - val_accuracy: 0.7955 - val_auc: 0.9697\n",
            "Epoch 19/200\n",
            "3/3 [==============================] - 1s 235ms/step - loss: 0.9459 - accuracy: 0.7273 - auc: 0.9761 - val_loss: 1.1296 - val_accuracy: 0.7955 - val_auc: 0.9714\n",
            "Epoch 20/200\n",
            "3/3 [==============================] - 1s 234ms/step - loss: 0.9340 - accuracy: 0.7045 - auc: 0.9696 - val_loss: 1.1196 - val_accuracy: 0.7955 - val_auc: 0.9724\n",
            "Epoch 21/200\n",
            "3/3 [==============================] - 1s 235ms/step - loss: 0.8592 - accuracy: 0.7614 - auc: 0.9783 - val_loss: 1.1872 - val_accuracy: 0.7045 - val_auc: 0.9643\n",
            "Epoch 22/200\n",
            "3/3 [==============================] - 1s 238ms/step - loss: 0.9144 - accuracy: 0.7273 - auc: 0.9649 - val_loss: 1.0986 - val_accuracy: 0.8636 - val_auc: 0.9732\n",
            "Epoch 23/200\n",
            "3/3 [==============================] - 1s 237ms/step - loss: 0.8294 - accuracy: 0.7386 - auc: 0.9737 - val_loss: 1.0923 - val_accuracy: 0.8864 - val_auc: 0.9767\n",
            "Epoch 24/200\n",
            "3/3 [==============================] - 1s 242ms/step - loss: 0.7676 - accuracy: 0.7727 - auc: 0.9768 - val_loss: 1.1203 - val_accuracy: 0.7045 - val_auc: 0.9694\n",
            "Epoch 25/200\n",
            "3/3 [==============================] - 1s 238ms/step - loss: 0.6781 - accuracy: 0.7955 - auc: 0.9864 - val_loss: 1.0679 - val_accuracy: 0.8409 - val_auc: 0.9772\n",
            "Epoch 26/200\n",
            "3/3 [==============================] - 1s 275ms/step - loss: 0.6442 - accuracy: 0.8295 - auc: 0.9888 - val_loss: 1.0977 - val_accuracy: 0.7273 - val_auc: 0.9704\n",
            "Epoch 27/200\n",
            "3/3 [==============================] - 1s 238ms/step - loss: 0.6331 - accuracy: 0.7386 - auc: 0.9855 - val_loss: 1.0222 - val_accuracy: 0.8636 - val_auc: 0.9779\n",
            "Epoch 28/200\n",
            "3/3 [==============================] - 1s 236ms/step - loss: 0.5538 - accuracy: 0.9205 - auc: 0.9922 - val_loss: 1.0356 - val_accuracy: 0.8864 - val_auc: 0.9806\n",
            "Epoch 29/200\n",
            "3/3 [==============================] - 1s 234ms/step - loss: 0.5595 - accuracy: 0.7614 - auc: 0.9900 - val_loss: 0.9955 - val_accuracy: 0.8864 - val_auc: 0.9802\n",
            "Epoch 30/200\n",
            "3/3 [==============================] - 1s 237ms/step - loss: 0.5544 - accuracy: 0.7614 - auc: 0.9890 - val_loss: 1.0338 - val_accuracy: 0.8636 - val_auc: 0.9782\n",
            "Epoch 31/200\n",
            "3/3 [==============================] - 1s 235ms/step - loss: 0.4592 - accuracy: 0.8295 - auc: 0.9927 - val_loss: 1.0597 - val_accuracy: 0.8636 - val_auc: 0.9770\n",
            "Epoch 32/200\n",
            "3/3 [==============================] - 1s 237ms/step - loss: 0.4624 - accuracy: 0.8182 - auc: 0.9917 - val_loss: 0.9852 - val_accuracy: 0.8636 - val_auc: 0.9807\n",
            "Epoch 33/200\n",
            "3/3 [==============================] - 1s 239ms/step - loss: 0.4557 - accuracy: 0.7955 - auc: 0.9915 - val_loss: 1.0042 - val_accuracy: 0.8182 - val_auc: 0.9798\n",
            "Epoch 34/200\n",
            "3/3 [==============================] - 1s 236ms/step - loss: 0.4016 - accuracy: 0.8409 - auc: 0.9943 - val_loss: 0.9995 - val_accuracy: 0.8182 - val_auc: 0.9801\n",
            "Epoch 35/200\n",
            "3/3 [==============================] - 1s 238ms/step - loss: 0.3611 - accuracy: 0.8750 - auc: 0.9947 - val_loss: 1.0713 - val_accuracy: 0.7955 - val_auc: 0.9787\n",
            "Epoch 36/200\n",
            "3/3 [==============================] - 1s 238ms/step - loss: 0.4026 - accuracy: 0.8068 - auc: 0.9922 - val_loss: 0.9914 - val_accuracy: 0.8409 - val_auc: 0.9812\n",
            "Epoch 37/200\n",
            "3/3 [==============================] - 1s 239ms/step - loss: 0.3106 - accuracy: 0.8864 - auc: 0.9969 - val_loss: 1.0574 - val_accuracy: 0.8636 - val_auc: 0.9803\n",
            "Epoch 38/200\n",
            "3/3 [==============================] - 1s 235ms/step - loss: 0.3057 - accuracy: 0.9091 - auc: 0.9961 - val_loss: 1.0192 - val_accuracy: 0.8636 - val_auc: 0.9822\n",
            "Epoch 39/200\n",
            "3/3 [==============================] - 1s 239ms/step - loss: 0.2848 - accuracy: 0.9205 - auc: 0.9977 - val_loss: 1.0216 - val_accuracy: 0.8864 - val_auc: 0.9823\n",
            "Epoch 40/200\n",
            "3/3 [==============================] - 1s 239ms/step - loss: 0.3173 - accuracy: 0.8864 - auc: 0.9957 - val_loss: 1.0211 - val_accuracy: 0.8864 - val_auc: 0.9822\n",
            "Epoch 41/200\n",
            "3/3 [==============================] - 1s 241ms/step - loss: 0.3064 - accuracy: 0.8750 - auc: 0.9960 - val_loss: 1.0380 - val_accuracy: 0.8636 - val_auc: 0.9824\n",
            "Epoch 42/200\n",
            "3/3 [==============================] - 1s 237ms/step - loss: 0.2788 - accuracy: 0.8977 - auc: 0.9970 - val_loss: 1.0512 - val_accuracy: 0.8636 - val_auc: 0.9826\n",
            "Epoch 43/200\n",
            "3/3 [==============================] - 1s 238ms/step - loss: 0.3012 - accuracy: 0.8636 - auc: 0.9956 - val_loss: 1.0427 - val_accuracy: 0.8864 - val_auc: 0.9829\n",
            "Epoch 44/200\n",
            "3/3 [==============================] - 1s 238ms/step - loss: 0.2729 - accuracy: 0.9205 - auc: 0.9963 - val_loss: 1.0946 - val_accuracy: 0.8636 - val_auc: 0.9819\n",
            "Epoch 45/200\n",
            "3/3 [==============================] - 1s 238ms/step - loss: 0.2628 - accuracy: 0.8864 - auc: 0.9978 - val_loss: 1.0414 - val_accuracy: 0.8864 - val_auc: 0.9830\n",
            "Epoch 46/200\n",
            "3/3 [==============================] - 1s 239ms/step - loss: 0.2628 - accuracy: 0.8750 - auc: 0.9972 - val_loss: 1.0890 - val_accuracy: 0.8636 - val_auc: 0.9830\n",
            "Epoch 47/200\n",
            "3/3 [==============================] - 1s 238ms/step - loss: 0.2354 - accuracy: 0.9205 - auc: 0.9978 - val_loss: 1.0369 - val_accuracy: 0.8864 - val_auc: 0.9836\n",
            "Epoch 48/200\n",
            "3/3 [==============================] - 1s 248ms/step - loss: 0.2754 - accuracy: 0.8864 - auc: 0.9957 - val_loss: 1.0586 - val_accuracy: 0.8864 - val_auc: 0.9835\n",
            "Epoch 49/200\n",
            "3/3 [==============================] - 1s 249ms/step - loss: 0.2568 - accuracy: 0.9205 - auc: 0.9967 - val_loss: 1.1028 - val_accuracy: 0.8636 - val_auc: 0.9828\n",
            "Epoch 50/200\n",
            "3/3 [==============================] - 1s 247ms/step - loss: 0.2475 - accuracy: 0.9205 - auc: 0.9967 - val_loss: 1.0616 - val_accuracy: 0.8636 - val_auc: 0.9829\n",
            "Epoch 51/200\n",
            "3/3 [==============================] - 1s 247ms/step - loss: 0.2126 - accuracy: 0.9091 - auc: 0.9977 - val_loss: 1.0930 - val_accuracy: 0.9091 - val_auc: 0.9827\n",
            "Epoch 52/200\n",
            "3/3 [==============================] - 1s 249ms/step - loss: 0.2300 - accuracy: 0.8977 - auc: 0.9974 - val_loss: 1.0772 - val_accuracy: 0.8864 - val_auc: 0.9835\n",
            "Epoch 53/200\n",
            "3/3 [==============================] - 1s 240ms/step - loss: 0.2186 - accuracy: 0.9205 - auc: 0.9980 - val_loss: 1.1057 - val_accuracy: 0.8864 - val_auc: 0.9836\n",
            "Epoch 54/200\n",
            "3/3 [==============================] - 1s 244ms/step - loss: 0.2022 - accuracy: 0.9205 - auc: 0.9981 - val_loss: 1.0605 - val_accuracy: 0.9091 - val_auc: 0.9837\n",
            "Epoch 55/200\n",
            "3/3 [==============================] - 1s 238ms/step - loss: 0.1953 - accuracy: 0.8977 - auc: 0.9981 - val_loss: 1.0649 - val_accuracy: 0.9091 - val_auc: 0.9840\n",
            "Epoch 56/200\n",
            "3/3 [==============================] - 1s 242ms/step - loss: 0.1972 - accuracy: 0.8750 - auc: 0.9978 - val_loss: 1.1004 - val_accuracy: 0.8864 - val_auc: 0.9837\n",
            "Epoch 57/200\n",
            "3/3 [==============================] - 1s 239ms/step - loss: 0.1902 - accuracy: 0.9205 - auc: 0.9985 - val_loss: 1.0906 - val_accuracy: 0.8636 - val_auc: 0.9838\n",
            "Epoch 58/200\n",
            "3/3 [==============================] - 1s 239ms/step - loss: 0.2065 - accuracy: 0.8636 - auc: 0.9975 - val_loss: 1.0717 - val_accuracy: 0.9091 - val_auc: 0.9846\n",
            "Epoch 59/200\n",
            "3/3 [==============================] - 1s 241ms/step - loss: 0.1927 - accuracy: 0.8750 - auc: 0.9979 - val_loss: 1.1210 - val_accuracy: 0.8864 - val_auc: 0.9843\n",
            "Epoch 60/200\n",
            "3/3 [==============================] - 1s 239ms/step - loss: 0.1788 - accuracy: 0.9205 - auc: 0.9982 - val_loss: 1.0768 - val_accuracy: 0.8636 - val_auc: 0.9842\n",
            "Epoch 61/200\n",
            "3/3 [==============================] - 1s 239ms/step - loss: 0.1710 - accuracy: 0.8977 - auc: 0.9981 - val_loss: 1.0705 - val_accuracy: 0.8864 - val_auc: 0.9846\n",
            "Epoch 62/200\n",
            "3/3 [==============================] - 1s 238ms/step - loss: 0.1749 - accuracy: 0.8864 - auc: 0.9977 - val_loss: 1.0879 - val_accuracy: 0.8864 - val_auc: 0.9847\n",
            "Epoch 63/200\n",
            "3/3 [==============================] - 1s 241ms/step - loss: 0.1653 - accuracy: 0.9205 - auc: 0.9985 - val_loss: 1.1160 - val_accuracy: 0.8864 - val_auc: 0.9848\n",
            "Epoch 64/200\n",
            "3/3 [==============================] - 1s 240ms/step - loss: 0.1709 - accuracy: 0.9205 - auc: 0.9985 - val_loss: 1.0982 - val_accuracy: 0.8636 - val_auc: 0.9844\n",
            "Epoch 65/200\n",
            "3/3 [==============================] - 1s 240ms/step - loss: 0.1645 - accuracy: 0.8977 - auc: 0.9984 - val_loss: 1.0827 - val_accuracy: 0.8864 - val_auc: 0.9848\n",
            "Epoch 66/200\n",
            "3/3 [==============================] - 1s 239ms/step - loss: 0.1795 - accuracy: 0.8750 - auc: 0.9978 - val_loss: 1.0989 - val_accuracy: 0.8636 - val_auc: 0.9845\n",
            "Epoch 67/200\n",
            "3/3 [==============================] - 1s 245ms/step - loss: 0.1750 - accuracy: 0.9205 - auc: 0.9983 - val_loss: 1.1037 - val_accuracy: 0.8864 - val_auc: 0.9850\n",
            "Epoch 68/200\n",
            "3/3 [==============================] - 1s 238ms/step - loss: 0.1522 - accuracy: 0.9205 - auc: 0.9990 - val_loss: 1.0865 - val_accuracy: 0.9091 - val_auc: 0.9850\n",
            "Epoch 69/200\n",
            "3/3 [==============================] - 1s 240ms/step - loss: 0.1786 - accuracy: 0.8977 - auc: 0.9983 - val_loss: 1.0921 - val_accuracy: 0.9091 - val_auc: 0.9853\n",
            "Epoch 70/200\n",
            "3/3 [==============================] - 1s 243ms/step - loss: 0.1499 - accuracy: 0.9432 - auc: 0.9988 - val_loss: 1.1314 - val_accuracy: 0.8864 - val_auc: 0.9846\n",
            "Epoch 71/200\n",
            "3/3 [==============================] - 1s 240ms/step - loss: 0.1651 - accuracy: 0.9205 - auc: 0.9986 - val_loss: 1.1207 - val_accuracy: 0.8864 - val_auc: 0.9848\n",
            "Epoch 72/200\n",
            "3/3 [==============================] - 1s 241ms/step - loss: 0.1632 - accuracy: 0.9205 - auc: 0.9983 - val_loss: 1.0962 - val_accuracy: 0.9091 - val_auc: 0.9853\n",
            "Epoch 73/200\n",
            "3/3 [==============================] - 1s 238ms/step - loss: 0.1749 - accuracy: 0.8977 - auc: 0.9981 - val_loss: 1.0937 - val_accuracy: 0.9091 - val_auc: 0.9852\n",
            "Epoch 74/200\n",
            "3/3 [==============================] - 1s 239ms/step - loss: 0.1478 - accuracy: 0.9432 - auc: 0.9988 - val_loss: 1.1421 - val_accuracy: 0.8864 - val_auc: 0.9846\n",
            "Epoch 75/200\n",
            "3/3 [==============================] - 1s 238ms/step - loss: 0.2743 - accuracy: 0.9205 - auc: 0.9973 - val_loss: 1.2183 - val_accuracy: 0.8864 - val_auc: 0.9826\n",
            "Epoch 76/200\n",
            "3/3 [==============================] - 1s 239ms/step - loss: 0.1841 - accuracy: 0.9091 - auc: 0.9983 - val_loss: 1.1151 - val_accuracy: 0.9091 - val_auc: 0.9851\n",
            "Epoch 77/200\n",
            "3/3 [==============================] - 1s 241ms/step - loss: 0.2014 - accuracy: 0.8977 - auc: 0.9981 - val_loss: 1.1105 - val_accuracy: 0.9091 - val_auc: 0.9851\n",
            "Epoch 78/200\n",
            "3/3 [==============================] - 1s 240ms/step - loss: 0.1732 - accuracy: 0.9091 - auc: 0.9981 - val_loss: 1.1460 - val_accuracy: 0.8636 - val_auc: 0.9845\n",
            "Epoch 79/200\n",
            "3/3 [==============================] - 1s 239ms/step - loss: 0.1737 - accuracy: 0.9205 - auc: 0.9986 - val_loss: 1.0820 - val_accuracy: 0.8864 - val_auc: 0.9851\n",
            "Epoch 80/200\n",
            "3/3 [==============================] - 1s 242ms/step - loss: 0.1643 - accuracy: 0.8977 - auc: 0.9979 - val_loss: 1.0821 - val_accuracy: 0.9318 - val_auc: 0.9857\n",
            "Epoch 81/200\n",
            "3/3 [==============================] - 1s 239ms/step - loss: 0.1593 - accuracy: 0.8977 - auc: 0.9983 - val_loss: 1.1014 - val_accuracy: 0.8864 - val_auc: 0.9851\n",
            "Epoch 82/200\n",
            "3/3 [==============================] - 1s 239ms/step - loss: 0.1576 - accuracy: 0.9205 - auc: 0.9984 - val_loss: 1.1108 - val_accuracy: 0.8864 - val_auc: 0.9850\n",
            "Epoch 83/200\n",
            "3/3 [==============================] - 1s 241ms/step - loss: 0.1563 - accuracy: 0.9205 - auc: 0.9985 - val_loss: 1.1025 - val_accuracy: 0.8864 - val_auc: 0.9853\n",
            "Epoch 84/200\n",
            "3/3 [==============================] - 1s 243ms/step - loss: 0.1571 - accuracy: 0.9205 - auc: 0.9985 - val_loss: 1.1036 - val_accuracy: 0.8636 - val_auc: 0.9846\n",
            "Epoch 85/200\n",
            "3/3 [==============================] - 1s 240ms/step - loss: 0.1608 - accuracy: 0.9091 - auc: 0.9982 - val_loss: 1.0923 - val_accuracy: 0.8864 - val_auc: 0.9852\n",
            "Epoch 86/200\n",
            "3/3 [==============================] - 1s 241ms/step - loss: 0.1533 - accuracy: 0.9205 - auc: 0.9986 - val_loss: 1.1192 - val_accuracy: 0.8864 - val_auc: 0.9852\n",
            "Epoch 87/200\n",
            "3/3 [==============================] - 1s 241ms/step - loss: 0.1547 - accuracy: 0.9205 - auc: 0.9984 - val_loss: 1.1189 - val_accuracy: 0.8864 - val_auc: 0.9853\n",
            "Epoch 88/200\n",
            "3/3 [==============================] - 1s 243ms/step - loss: 0.1512 - accuracy: 0.9205 - auc: 0.9984 - val_loss: 1.1341 - val_accuracy: 0.8864 - val_auc: 0.9854\n",
            "Epoch 89/200\n",
            "3/3 [==============================] - 1s 241ms/step - loss: 0.1622 - accuracy: 0.9205 - auc: 0.9982 - val_loss: 1.1224 - val_accuracy: 0.8864 - val_auc: 0.9853\n",
            "Epoch 90/200\n",
            "3/3 [==============================] - 1s 243ms/step - loss: 0.1611 - accuracy: 0.9205 - auc: 0.9985 - val_loss: 1.1061 - val_accuracy: 0.9091 - val_auc: 0.9854\n",
            "Epoch 91/200\n",
            "3/3 [==============================] - 1s 242ms/step - loss: 0.1546 - accuracy: 0.9091 - auc: 0.9985 - val_loss: 1.1328 - val_accuracy: 0.8864 - val_auc: 0.9852\n",
            "Epoch 92/200\n",
            "3/3 [==============================] - 1s 241ms/step - loss: 0.1743 - accuracy: 0.9205 - auc: 0.9981 - val_loss: 1.1601 - val_accuracy: 0.8864 - val_auc: 0.9852\n",
            "Epoch 93/200\n",
            "3/3 [==============================] - 1s 241ms/step - loss: 0.1533 - accuracy: 0.9318 - auc: 0.9986 - val_loss: 1.1171 - val_accuracy: 0.9091 - val_auc: 0.9858\n",
            "Epoch 94/200\n",
            "3/3 [==============================] - 1s 242ms/step - loss: 0.1703 - accuracy: 0.8977 - auc: 0.9983 - val_loss: 1.1119 - val_accuracy: 0.9091 - val_auc: 0.9859\n",
            "Epoch 95/200\n",
            "3/3 [==============================] - 1s 241ms/step - loss: 0.1667 - accuracy: 0.8977 - auc: 0.9983 - val_loss: 1.1630 - val_accuracy: 0.8864 - val_auc: 0.9850\n",
            "Epoch 96/200\n",
            "3/3 [==============================] - 1s 241ms/step - loss: 0.1781 - accuracy: 0.9205 - auc: 0.9983 - val_loss: 1.1243 - val_accuracy: 0.8864 - val_auc: 0.9856\n",
            "Epoch 97/200\n",
            "3/3 [==============================] - 1s 243ms/step - loss: 0.1487 - accuracy: 0.9091 - auc: 0.9984 - val_loss: 1.1119 - val_accuracy: 0.9091 - val_auc: 0.9858\n",
            "Epoch 98/200\n",
            "3/3 [==============================] - 1s 244ms/step - loss: 0.1577 - accuracy: 0.8977 - auc: 0.9983 - val_loss: 1.1099 - val_accuracy: 0.9091 - val_auc: 0.9858\n",
            "Epoch 99/200\n",
            "3/3 [==============================] - 1s 241ms/step - loss: 0.1569 - accuracy: 0.8977 - auc: 0.9984 - val_loss: 1.1536 - val_accuracy: 0.8864 - val_auc: 0.9851\n",
            "Epoch 100/200\n",
            "3/3 [==============================] - 1s 241ms/step - loss: 0.1603 - accuracy: 0.9205 - auc: 0.9985 - val_loss: 1.1171 - val_accuracy: 0.8864 - val_auc: 0.9856\n",
            "Epoch 101/200\n",
            "3/3 [==============================] - 1s 244ms/step - loss: 0.1471 - accuracy: 0.9205 - auc: 0.9988 - val_loss: 1.1179 - val_accuracy: 0.8864 - val_auc: 0.9855\n",
            "Epoch 102/200\n",
            "3/3 [==============================] - 1s 240ms/step - loss: 0.1551 - accuracy: 0.9091 - auc: 0.9982 - val_loss: 1.1209 - val_accuracy: 0.8864 - val_auc: 0.9858\n",
            "Epoch 103/200\n",
            "3/3 [==============================] - 1s 241ms/step - loss: 0.1572 - accuracy: 0.9205 - auc: 0.9983 - val_loss: 1.1442 - val_accuracy: 0.8864 - val_auc: 0.9852\n",
            "Epoch 104/200\n",
            "3/3 [==============================] - 1s 241ms/step - loss: 0.1498 - accuracy: 0.9205 - auc: 0.9986 - val_loss: 1.1192 - val_accuracy: 0.8864 - val_auc: 0.9855\n",
            "Epoch 105/200\n",
            "3/3 [==============================] - 1s 240ms/step - loss: 0.1598 - accuracy: 0.8977 - auc: 0.9980 - val_loss: 1.1147 - val_accuracy: 0.9091 - val_auc: 0.9860\n",
            "Epoch 106/200\n",
            "3/3 [==============================] - 1s 244ms/step - loss: 0.1441 - accuracy: 0.9205 - auc: 0.9988 - val_loss: 1.1597 - val_accuracy: 0.8864 - val_auc: 0.9854\n",
            "Epoch 107/200\n",
            "3/3 [==============================] - 1s 242ms/step - loss: 0.1606 - accuracy: 0.9205 - auc: 0.9983 - val_loss: 1.1646 - val_accuracy: 0.8864 - val_auc: 0.9854\n",
            "Epoch 108/200\n",
            "3/3 [==============================] - 1s 242ms/step - loss: 0.1583 - accuracy: 0.9205 - auc: 0.9985 - val_loss: 1.1484 - val_accuracy: 0.8864 - val_auc: 0.9855\n",
            "Epoch 109/200\n",
            "3/3 [==============================] - 1s 246ms/step - loss: 0.1434 - accuracy: 0.9205 - auc: 0.9988 - val_loss: 1.1245 - val_accuracy: 0.9091 - val_auc: 0.9858\n",
            "Epoch 110/200\n",
            "3/3 [==============================] - 1s 242ms/step - loss: 0.1704 - accuracy: 0.8977 - auc: 0.9981 - val_loss: 1.1265 - val_accuracy: 0.9091 - val_auc: 0.9859\n",
            "Epoch 111/200\n",
            "3/3 [==============================] - 1s 241ms/step - loss: 0.1834 - accuracy: 0.8864 - auc: 0.9981 - val_loss: 1.1960 - val_accuracy: 0.8864 - val_auc: 0.9852\n",
            "Epoch 112/200\n",
            "3/3 [==============================] - 1s 243ms/step - loss: 0.1581 - accuracy: 0.9205 - auc: 0.9984 - val_loss: 1.1475 - val_accuracy: 0.8864 - val_auc: 0.9853\n",
            "Epoch 113/200\n",
            "3/3 [==============================] - 1s 243ms/step - loss: 0.1455 - accuracy: 0.9432 - auc: 0.9991 - val_loss: 1.1249 - val_accuracy: 0.9091 - val_auc: 0.9857\n",
            "Epoch 114/200\n",
            "3/3 [==============================] - 1s 241ms/step - loss: 0.1599 - accuracy: 0.8977 - auc: 0.9979 - val_loss: 1.1154 - val_accuracy: 0.9091 - val_auc: 0.9857\n",
            "Epoch 115/200\n",
            "3/3 [==============================] - 1s 240ms/step - loss: 0.1520 - accuracy: 0.8977 - auc: 0.9982 - val_loss: 1.1366 - val_accuracy: 0.8864 - val_auc: 0.9854\n",
            "Epoch 116/200\n",
            "3/3 [==============================] - 1s 242ms/step - loss: 0.1495 - accuracy: 0.9205 - auc: 0.9984 - val_loss: 1.1343 - val_accuracy: 0.8864 - val_auc: 0.9854\n",
            "Epoch 117/200\n",
            "3/3 [==============================] - 1s 244ms/step - loss: 0.1488 - accuracy: 0.9205 - auc: 0.9985 - val_loss: 1.1459 - val_accuracy: 0.8864 - val_auc: 0.9854\n",
            "Epoch 118/200\n",
            "3/3 [==============================] - 1s 242ms/step - loss: 0.1558 - accuracy: 0.8977 - auc: 0.9982 - val_loss: 1.1290 - val_accuracy: 0.9091 - val_auc: 0.9858\n",
            "Epoch 119/200\n",
            "3/3 [==============================] - 1s 242ms/step - loss: 0.1481 - accuracy: 0.9091 - auc: 0.9984 - val_loss: 1.1433 - val_accuracy: 0.8864 - val_auc: 0.9855\n",
            "Epoch 120/200\n",
            "3/3 [==============================] - 1s 241ms/step - loss: 0.1442 - accuracy: 0.9205 - auc: 0.9986 - val_loss: 1.1402 - val_accuracy: 0.8864 - val_auc: 0.9856\n",
            "Epoch 121/200\n",
            "3/3 [==============================] - 1s 241ms/step - loss: 0.1604 - accuracy: 0.9205 - auc: 0.9982 - val_loss: 1.1505 - val_accuracy: 0.8864 - val_auc: 0.9855\n",
            "Epoch 122/200\n",
            "3/3 [==============================] - 1s 242ms/step - loss: 0.1490 - accuracy: 0.9091 - auc: 0.9985 - val_loss: 1.1321 - val_accuracy: 0.9091 - val_auc: 0.9860\n",
            "Epoch 123/200\n",
            "3/3 [==============================] - 1s 241ms/step - loss: 0.1634 - accuracy: 0.8977 - auc: 0.9979 - val_loss: 1.1284 - val_accuracy: 0.9318 - val_auc: 0.9857\n",
            "Epoch 124/200\n",
            "3/3 [==============================] - 1s 244ms/step - loss: 0.1580 - accuracy: 0.8864 - auc: 0.9985 - val_loss: 1.1652 - val_accuracy: 0.8864 - val_auc: 0.9851\n",
            "Epoch 125/200\n",
            "3/3 [==============================] - 1s 248ms/step - loss: 0.1602 - accuracy: 0.9205 - auc: 0.9984 - val_loss: 1.1514 - val_accuracy: 0.8864 - val_auc: 0.9856\n",
            "Epoch 126/200\n",
            "3/3 [==============================] - 1s 242ms/step - loss: 0.1655 - accuracy: 0.8750 - auc: 0.9980 - val_loss: 1.1376 - val_accuracy: 0.9091 - val_auc: 0.9860\n",
            "Epoch 127/200\n",
            "3/3 [==============================] - 1s 242ms/step - loss: 0.1580 - accuracy: 0.8977 - auc: 0.9983 - val_loss: 1.1562 - val_accuracy: 0.8864 - val_auc: 0.9856\n",
            "Epoch 128/200\n",
            "3/3 [==============================] - 1s 244ms/step - loss: 0.1789 - accuracy: 0.9205 - auc: 0.9975 - val_loss: 1.1800 - val_accuracy: 0.8864 - val_auc: 0.9854\n",
            "Epoch 129/200\n",
            "3/3 [==============================] - 1s 243ms/step - loss: 0.1514 - accuracy: 0.9205 - auc: 0.9986 - val_loss: 1.1267 - val_accuracy: 0.9091 - val_auc: 0.9857\n",
            "Epoch 130/200\n",
            "3/3 [==============================] - 1s 243ms/step - loss: 0.1643 - accuracy: 0.8977 - auc: 0.9981 - val_loss: 1.1256 - val_accuracy: 0.9091 - val_auc: 0.9860\n",
            "Epoch 131/200\n",
            "3/3 [==============================] - 1s 245ms/step - loss: 0.1545 - accuracy: 0.8977 - auc: 0.9984 - val_loss: 1.1452 - val_accuracy: 0.8864 - val_auc: 0.9857\n",
            "Epoch 132/200\n",
            "3/3 [==============================] - 1s 242ms/step - loss: 0.1478 - accuracy: 0.9205 - auc: 0.9985 - val_loss: 1.1556 - val_accuracy: 0.8864 - val_auc: 0.9856\n",
            "Epoch 133/200\n",
            "3/3 [==============================] - 1s 242ms/step - loss: 0.1580 - accuracy: 0.9205 - auc: 0.9983 - val_loss: 1.1399 - val_accuracy: 0.8864 - val_auc: 0.9857\n",
            "Epoch 134/200\n",
            "3/3 [==============================] - 1s 243ms/step - loss: 0.1445 - accuracy: 0.9205 - auc: 0.9986 - val_loss: 1.1297 - val_accuracy: 0.8864 - val_auc: 0.9853\n",
            "Epoch 135/200\n",
            "3/3 [==============================] - 1s 244ms/step - loss: 0.1570 - accuracy: 0.9205 - auc: 0.9985 - val_loss: 1.1179 - val_accuracy: 0.8864 - val_auc: 0.9857\n",
            "Epoch 136/200\n",
            "3/3 [==============================] - 1s 247ms/step - loss: 0.1520 - accuracy: 0.9205 - auc: 0.9986 - val_loss: 1.1445 - val_accuracy: 0.8864 - val_auc: 0.9856\n",
            "Epoch 137/200\n",
            "3/3 [==============================] - 1s 245ms/step - loss: 0.1588 - accuracy: 0.9205 - auc: 0.9982 - val_loss: 1.1773 - val_accuracy: 0.8864 - val_auc: 0.9856\n",
            "Epoch 138/200\n",
            "3/3 [==============================] - 1s 245ms/step - loss: 0.1643 - accuracy: 0.9205 - auc: 0.9979 - val_loss: 1.1549 - val_accuracy: 0.8864 - val_auc: 0.9857\n",
            "Epoch 139/200\n",
            "3/3 [==============================] - 1s 243ms/step - loss: 0.1465 - accuracy: 0.9205 - auc: 0.9985 - val_loss: 1.1451 - val_accuracy: 0.8864 - val_auc: 0.9851\n",
            "Epoch 140/200\n",
            "3/3 [==============================] - 1s 244ms/step - loss: 0.1557 - accuracy: 0.9205 - auc: 0.9983 - val_loss: 1.1484 - val_accuracy: 0.8864 - val_auc: 0.9854\n",
            "Epoch 141/200\n",
            "3/3 [==============================] - 1s 248ms/step - loss: 0.1543 - accuracy: 0.9205 - auc: 0.9984 - val_loss: 1.1527 - val_accuracy: 0.8864 - val_auc: 0.9856\n",
            "Epoch 142/200\n",
            "3/3 [==============================] - 1s 244ms/step - loss: 0.1529 - accuracy: 0.8864 - auc: 0.9980 - val_loss: 1.1606 - val_accuracy: 0.8864 - val_auc: 0.9856\n",
            "Epoch 143/200\n",
            "3/3 [==============================] - 1s 247ms/step - loss: 0.1571 - accuracy: 0.9205 - auc: 0.9985 - val_loss: 1.2023 - val_accuracy: 0.8864 - val_auc: 0.9857\n",
            "Epoch 144/200\n",
            "3/3 [==============================] - 1s 244ms/step - loss: 0.1594 - accuracy: 0.9205 - auc: 0.9985 - val_loss: 1.1558 - val_accuracy: 0.8864 - val_auc: 0.9856\n",
            "Epoch 145/200\n",
            "3/3 [==============================] - 1s 247ms/step - loss: 0.1431 - accuracy: 0.9205 - auc: 0.9988 - val_loss: 1.1481 - val_accuracy: 0.9091 - val_auc: 0.9861\n",
            "Epoch 146/200\n",
            "3/3 [==============================] - 1s 246ms/step - loss: 0.1470 - accuracy: 0.8977 - auc: 0.9984 - val_loss: 1.1443 - val_accuracy: 0.9091 - val_auc: 0.9860\n",
            "Epoch 147/200\n",
            "3/3 [==============================] - 1s 247ms/step - loss: 0.1507 - accuracy: 0.9091 - auc: 0.9983 - val_loss: 1.1509 - val_accuracy: 0.8864 - val_auc: 0.9856\n",
            "Epoch 148/200\n",
            "3/3 [==============================] - 1s 244ms/step - loss: 0.1435 - accuracy: 0.9205 - auc: 0.9986 - val_loss: 1.1711 - val_accuracy: 0.8864 - val_auc: 0.9856\n",
            "Epoch 149/200\n",
            "3/3 [==============================] - 1s 248ms/step - loss: 0.1487 - accuracy: 0.9205 - auc: 0.9986 - val_loss: 1.1916 - val_accuracy: 0.8864 - val_auc: 0.9856\n",
            "Epoch 150/200\n",
            "3/3 [==============================] - 1s 245ms/step - loss: 0.1486 - accuracy: 0.9205 - auc: 0.9987 - val_loss: 1.1696 - val_accuracy: 0.8864 - val_auc: 0.9856\n",
            "Epoch 151/200\n",
            "3/3 [==============================] - 1s 246ms/step - loss: 0.1664 - accuracy: 0.8864 - auc: 0.9980 - val_loss: 1.1546 - val_accuracy: 0.9091 - val_auc: 0.9861\n",
            "Epoch 152/200\n",
            "3/3 [==============================] - 1s 244ms/step - loss: 0.1491 - accuracy: 0.9205 - auc: 0.9985 - val_loss: 1.1715 - val_accuracy: 0.8864 - val_auc: 0.9856\n",
            "Epoch 153/200\n",
            "3/3 [==============================] - 1s 246ms/step - loss: 0.1461 - accuracy: 0.9205 - auc: 0.9988 - val_loss: 1.2005 - val_accuracy: 0.8864 - val_auc: 0.9856\n",
            "Epoch 154/200\n",
            "3/3 [==============================] - 1s 245ms/step - loss: 0.1584 - accuracy: 0.9205 - auc: 0.9983 - val_loss: 1.1801 - val_accuracy: 0.8864 - val_auc: 0.9856\n",
            "Epoch 155/200\n",
            "3/3 [==============================] - 1s 244ms/step - loss: 0.1485 - accuracy: 0.8977 - auc: 0.9984 - val_loss: 1.1568 - val_accuracy: 0.9091 - val_auc: 0.9859\n",
            "Epoch 156/200\n",
            "3/3 [==============================] - 1s 245ms/step - loss: 0.1573 - accuracy: 0.8977 - auc: 0.9978 - val_loss: 1.1509 - val_accuracy: 0.8864 - val_auc: 0.9856\n",
            "Epoch 157/200\n",
            "3/3 [==============================] - 1s 249ms/step - loss: 0.1472 - accuracy: 0.9205 - auc: 0.9986 - val_loss: 1.1536 - val_accuracy: 0.8864 - val_auc: 0.9856\n",
            "Epoch 158/200\n",
            "3/3 [==============================] - 1s 246ms/step - loss: 0.1572 - accuracy: 0.9205 - auc: 0.9983 - val_loss: 1.1499 - val_accuracy: 0.8864 - val_auc: 0.9856\n",
            "Epoch 159/200\n",
            "3/3 [==============================] - 1s 245ms/step - loss: 0.1652 - accuracy: 0.8977 - auc: 0.9981 - val_loss: 1.1254 - val_accuracy: 0.9091 - val_auc: 0.9860\n",
            "Epoch 160/200\n",
            "3/3 [==============================] - 1s 247ms/step - loss: 0.1623 - accuracy: 0.8864 - auc: 0.9978 - val_loss: 1.1447 - val_accuracy: 0.8864 - val_auc: 0.9856\n",
            "Epoch 161/200\n",
            "3/3 [==============================] - 1s 246ms/step - loss: 0.1467 - accuracy: 0.9205 - auc: 0.9985 - val_loss: 1.1545 - val_accuracy: 0.8864 - val_auc: 0.9856\n",
            "Epoch 162/200\n",
            "3/3 [==============================] - 1s 244ms/step - loss: 0.1478 - accuracy: 0.9205 - auc: 0.9984 - val_loss: 1.1470 - val_accuracy: 0.8864 - val_auc: 0.9856\n",
            "Epoch 163/200\n",
            "3/3 [==============================] - 1s 246ms/step - loss: 0.1470 - accuracy: 0.9205 - auc: 0.9984 - val_loss: 1.1323 - val_accuracy: 0.8864 - val_auc: 0.9857\n",
            "Epoch 164/200\n",
            "3/3 [==============================] - 1s 248ms/step - loss: 0.1439 - accuracy: 0.9205 - auc: 0.9985 - val_loss: 1.1323 - val_accuracy: 0.8864 - val_auc: 0.9857\n",
            "Epoch 165/200\n",
            "3/3 [==============================] - 1s 299ms/step - loss: 0.1468 - accuracy: 0.9205 - auc: 0.9984 - val_loss: 1.1310 - val_accuracy: 0.8864 - val_auc: 0.9857\n",
            "Epoch 166/200\n",
            "3/3 [==============================] - 1s 245ms/step - loss: 0.1528 - accuracy: 0.9091 - auc: 0.9982 - val_loss: 1.1133 - val_accuracy: 0.9091 - val_auc: 0.9861\n",
            "Epoch 167/200\n",
            "3/3 [==============================] - 1s 247ms/step - loss: 0.1625 - accuracy: 0.8977 - auc: 0.9978 - val_loss: 1.1299 - val_accuracy: 0.8864 - val_auc: 0.9857\n",
            "Epoch 168/200\n",
            "3/3 [==============================] - 1s 246ms/step - loss: 0.1406 - accuracy: 0.9205 - auc: 0.9988 - val_loss: 1.1298 - val_accuracy: 0.8864 - val_auc: 0.9857\n",
            "Epoch 169/200\n",
            "3/3 [==============================] - 1s 247ms/step - loss: 0.1539 - accuracy: 0.9205 - auc: 0.9986 - val_loss: 1.1335 - val_accuracy: 0.8864 - val_auc: 0.9856\n",
            "Epoch 170/200\n",
            "3/3 [==============================] - 1s 245ms/step - loss: 0.1540 - accuracy: 0.9205 - auc: 0.9986 - val_loss: 1.1235 - val_accuracy: 0.8864 - val_auc: 0.9857\n",
            "Epoch 171/200\n",
            "3/3 [==============================] - 1s 247ms/step - loss: 0.1584 - accuracy: 0.8750 - auc: 0.9982 - val_loss: 1.1175 - val_accuracy: 0.9091 - val_auc: 0.9860\n",
            "Epoch 172/200\n",
            "3/3 [==============================] - 1s 245ms/step - loss: 0.1499 - accuracy: 0.9091 - auc: 0.9984 - val_loss: 1.1449 - val_accuracy: 0.8864 - val_auc: 0.9856\n",
            "Epoch 173/200\n",
            "3/3 [==============================] - 1s 246ms/step - loss: 0.1435 - accuracy: 0.9205 - auc: 0.9985 - val_loss: 1.1482 - val_accuracy: 0.8864 - val_auc: 0.9855\n",
            "Epoch 174/200\n",
            "3/3 [==============================] - 1s 245ms/step - loss: 0.1643 - accuracy: 0.9205 - auc: 0.9982 - val_loss: 1.1511 - val_accuracy: 0.8864 - val_auc: 0.9856\n",
            "Epoch 175/200\n",
            "3/3 [==============================] - 1s 247ms/step - loss: 0.1615 - accuracy: 0.8977 - auc: 0.9984 - val_loss: 1.1124 - val_accuracy: 0.9091 - val_auc: 0.9860\n",
            "Epoch 176/200\n",
            "3/3 [==============================] - 1s 245ms/step - loss: 0.1549 - accuracy: 0.8977 - auc: 0.9982 - val_loss: 1.1144 - val_accuracy: 0.9091 - val_auc: 0.9860\n",
            "Epoch 177/200\n",
            "3/3 [==============================] - 1s 248ms/step - loss: 0.1454 - accuracy: 0.9091 - auc: 0.9984 - val_loss: 1.1352 - val_accuracy: 0.8864 - val_auc: 0.9856\n",
            "Epoch 178/200\n",
            "3/3 [==============================] - 1s 245ms/step - loss: 0.1501 - accuracy: 0.9205 - auc: 0.9985 - val_loss: 1.1589 - val_accuracy: 0.8864 - val_auc: 0.9854\n",
            "Epoch 179/200\n",
            "3/3 [==============================] - 1s 246ms/step - loss: 0.1521 - accuracy: 0.9205 - auc: 0.9984 - val_loss: 1.1238 - val_accuracy: 0.8864 - val_auc: 0.9856\n",
            "Epoch 180/200\n",
            "3/3 [==============================] - 1s 245ms/step - loss: 0.1435 - accuracy: 0.9205 - auc: 0.9986 - val_loss: 1.1127 - val_accuracy: 0.8864 - val_auc: 0.9856\n",
            "Epoch 181/200\n",
            "3/3 [==============================] - 1s 249ms/step - loss: 0.1448 - accuracy: 0.9205 - auc: 0.9985 - val_loss: 1.1056 - val_accuracy: 0.8864 - val_auc: 0.9855\n",
            "Epoch 182/200\n",
            "3/3 [==============================] - 1s 246ms/step - loss: 0.1419 - accuracy: 0.9205 - auc: 0.9987 - val_loss: 1.0971 - val_accuracy: 0.8864 - val_auc: 0.9856\n",
            "Epoch 183/200\n",
            "3/3 [==============================] - 1s 249ms/step - loss: 0.1510 - accuracy: 0.9205 - auc: 0.9983 - val_loss: 1.0887 - val_accuracy: 0.8864 - val_auc: 0.9856\n",
            "Epoch 184/200\n",
            "3/3 [==============================] - 1s 246ms/step - loss: 0.1478 - accuracy: 0.9205 - auc: 0.9982 - val_loss: 1.1011 - val_accuracy: 0.8864 - val_auc: 0.9856\n",
            "Epoch 185/200\n",
            "3/3 [==============================] - 1s 248ms/step - loss: 0.1444 - accuracy: 0.9205 - auc: 0.9987 - val_loss: 1.1315 - val_accuracy: 0.8864 - val_auc: 0.9856\n",
            "Epoch 186/200\n",
            "3/3 [==============================] - 1s 246ms/step - loss: 0.1487 - accuracy: 0.9205 - auc: 0.9986 - val_loss: 1.1235 - val_accuracy: 0.8864 - val_auc: 0.9856\n",
            "Epoch 187/200\n",
            "3/3 [==============================] - 1s 248ms/step - loss: 0.1438 - accuracy: 0.9205 - auc: 0.9986 - val_loss: 1.1051 - val_accuracy: 0.8864 - val_auc: 0.9856\n",
            "Epoch 188/200\n",
            "3/3 [==============================] - 1s 248ms/step - loss: 0.1452 - accuracy: 0.9205 - auc: 0.9984 - val_loss: 1.1015 - val_accuracy: 0.8864 - val_auc: 0.9856\n",
            "Epoch 189/200\n",
            "3/3 [==============================] - 1s 244ms/step - loss: 0.1488 - accuracy: 0.9205 - auc: 0.9984 - val_loss: 1.1129 - val_accuracy: 0.8864 - val_auc: 0.9856\n",
            "Epoch 190/200\n",
            "3/3 [==============================] - 1s 245ms/step - loss: 0.1428 - accuracy: 0.9205 - auc: 0.9986 - val_loss: 1.1232 - val_accuracy: 0.8864 - val_auc: 0.9856\n",
            "Epoch 191/200\n",
            "3/3 [==============================] - 1s 249ms/step - loss: 0.1417 - accuracy: 0.9205 - auc: 0.9987 - val_loss: 1.1310 - val_accuracy: 0.8864 - val_auc: 0.9856\n",
            "Epoch 192/200\n",
            "3/3 [==============================] - 1s 246ms/step - loss: 0.1432 - accuracy: 0.9205 - auc: 0.9985 - val_loss: 1.1341 - val_accuracy: 0.8864 - val_auc: 0.9857\n",
            "Epoch 193/200\n",
            "3/3 [==============================] - 1s 246ms/step - loss: 0.1520 - accuracy: 0.9205 - auc: 0.9984 - val_loss: 1.1303 - val_accuracy: 0.8864 - val_auc: 0.9856\n",
            "Epoch 194/200\n",
            "3/3 [==============================] - 1s 285ms/step - loss: 0.1463 - accuracy: 0.9205 - auc: 0.9985 - val_loss: 1.1185 - val_accuracy: 0.8864 - val_auc: 0.9856\n",
            "Epoch 195/200\n",
            "3/3 [==============================] - 1s 246ms/step - loss: 0.1413 - accuracy: 0.9205 - auc: 0.9985 - val_loss: 1.1310 - val_accuracy: 0.8864 - val_auc: 0.9856\n",
            "Epoch 196/200\n",
            "3/3 [==============================] - 1s 264ms/step - loss: 0.1468 - accuracy: 0.9205 - auc: 0.9985 - val_loss: 1.1487 - val_accuracy: 0.8864 - val_auc: 0.9857\n",
            "Epoch 197/200\n",
            "3/3 [==============================] - 1s 244ms/step - loss: 0.1481 - accuracy: 0.9205 - auc: 0.9985 - val_loss: 1.1353 - val_accuracy: 0.8864 - val_auc: 0.9856\n",
            "Epoch 198/200\n",
            "3/3 [==============================] - 1s 246ms/step - loss: 0.1401 - accuracy: 0.9205 - auc: 0.9986 - val_loss: 1.1207 - val_accuracy: 0.8864 - val_auc: 0.9856\n",
            "Epoch 199/200\n",
            "3/3 [==============================] - 1s 251ms/step - loss: 0.1557 - accuracy: 0.9205 - auc: 0.9984 - val_loss: 1.1267 - val_accuracy: 0.8864 - val_auc: 0.9857\n",
            "Epoch 200/200\n",
            "3/3 [==============================] - 1s 245ms/step - loss: 0.1506 - accuracy: 0.9205 - auc: 0.9985 - val_loss: 1.1311 - val_accuracy: 0.8864 - val_auc: 0.9856\n"
          ]
        }
      ]
    },
    {
      "cell_type": "code",
      "source": [
        "acc = history.history['accuracy']\n",
        "val_acc = history.history['val_accuracy']\n",
        "loss = history.history['loss']\n",
        "val_loss = history.history['val_loss']\n",
        "AUC = history.history['auc']\n",
        "val_AUC = history.history['val_auc']"
      ],
      "metadata": {
        "id": "nQ5CTE43DWOp"
      },
      "execution_count": null,
      "outputs": []
    },
    {
      "cell_type": "code",
      "source": [
        ""
      ],
      "metadata": {
        "colab": {
          "base_uri": "https://localhost:8080/",
          "height": 727
        },
        "id": "jHq6GnqoAl4V",
        "outputId": "208e630a-0a8c-41f6-e115-3410bc089973"
      },
      "execution_count": null,
      "outputs": [
        {
          "output_type": "stream",
          "name": "stdout",
          "text": [
            "Epoch 1/200\n",
            "1/1 [==============================] - 1s 1s/step - loss: 0.0000e+00 - accuracy: 1.0000 - auc_7: 0.0000e+00 - val_loss: 0.0000e+00 - val_accuracy: 1.0000 - val_auc_7: 0.0000e+00\n",
            "Epoch 2/200\n",
            "1/1 [==============================] - 0s 177ms/step - loss: 0.0000e+00 - accuracy: 1.0000 - auc_7: 0.0000e+00 - val_loss: 0.0000e+00 - val_accuracy: 1.0000 - val_auc_7: 0.0000e+00\n",
            "Epoch 3/200\n",
            "1/1 [==============================] - 0s 144ms/step - loss: 0.0000e+00 - accuracy: 1.0000 - auc_7: 0.0000e+00 - val_loss: 0.0000e+00 - val_accuracy: 1.0000 - val_auc_7: 0.0000e+00\n",
            "Epoch 4/200\n",
            "1/1 [==============================] - 0s 131ms/step - loss: 0.0000e+00 - accuracy: 1.0000 - auc_7: 0.0000e+00 - val_loss: 0.0000e+00 - val_accuracy: 1.0000 - val_auc_7: 0.0000e+00\n",
            "Epoch 5/200\n",
            "1/1 [==============================] - 0s 131ms/step - loss: 0.0000e+00 - accuracy: 1.0000 - auc_7: 0.0000e+00 - val_loss: 0.0000e+00 - val_accuracy: 1.0000 - val_auc_7: 0.0000e+00\n",
            "Epoch 6/200\n",
            "1/1 [==============================] - 0s 131ms/step - loss: 0.0000e+00 - accuracy: 1.0000 - auc_7: 0.0000e+00 - val_loss: 0.0000e+00 - val_accuracy: 1.0000 - val_auc_7: 0.0000e+00\n",
            "Epoch 7/200\n",
            "1/1 [==============================] - 0s 135ms/step - loss: 0.0000e+00 - accuracy: 1.0000 - auc_7: 0.0000e+00 - val_loss: 0.0000e+00 - val_accuracy: 1.0000 - val_auc_7: 0.0000e+00\n",
            "Epoch 8/200\n",
            "1/1 [==============================] - 0s 134ms/step - loss: 0.0000e+00 - accuracy: 1.0000 - auc_7: 0.0000e+00 - val_loss: 0.0000e+00 - val_accuracy: 1.0000 - val_auc_7: 0.0000e+00\n",
            "Epoch 9/200\n",
            "1/1 [==============================] - 0s 134ms/step - loss: 0.0000e+00 - accuracy: 1.0000 - auc_7: 0.0000e+00 - val_loss: 0.0000e+00 - val_accuracy: 1.0000 - val_auc_7: 0.0000e+00\n",
            "Epoch 10/200\n",
            "1/1 [==============================] - 0s 133ms/step - loss: 0.0000e+00 - accuracy: 1.0000 - auc_7: 0.0000e+00 - val_loss: 0.0000e+00 - val_accuracy: 1.0000 - val_auc_7: 0.0000e+00\n",
            "Epoch 11/200\n",
            "1/1 [==============================] - ETA: 0s - loss: 0.0000e+00 - accuracy: 1.0000 - auc_7: 0.0000e+00"
          ]
        },
        {
          "output_type": "error",
          "ename": "KeyboardInterrupt",
          "evalue": "ignored",
          "traceback": [
            "\u001b[0;31m---------------------------------------------------------------------------\u001b[0m",
            "\u001b[0;31mKeyboardInterrupt\u001b[0m                         Traceback (most recent call last)",
            "\u001b[0;32m<ipython-input-48-8f670e5b74c3>\u001b[0m in \u001b[0;36m<module>\u001b[0;34m()\u001b[0m\n\u001b[1;32m      6\u001b[0m                     \u001b[0mvalidation_data\u001b[0m\u001b[0;34m=\u001b[0m\u001b[0;34m(\u001b[0m\u001b[0mX_test1\u001b[0m\u001b[0;34m,\u001b[0m\u001b[0my_test1\u001b[0m\u001b[0;34m)\u001b[0m\u001b[0;34m,\u001b[0m\u001b[0;34m\u001b[0m\u001b[0;34m\u001b[0m\u001b[0m\n\u001b[1;32m      7\u001b[0m                     \u001b[0mverbose\u001b[0m \u001b[0;34m=\u001b[0m \u001b[0;36m1\u001b[0m\u001b[0;34m,\u001b[0m\u001b[0;34m\u001b[0m\u001b[0;34m\u001b[0m\u001b[0m\n\u001b[0;32m----> 8\u001b[0;31m                     initial_epoch=0)\n\u001b[0m",
            "\u001b[0;32m/usr/local/lib/python3.7/dist-packages/keras/utils/traceback_utils.py\u001b[0m in \u001b[0;36merror_handler\u001b[0;34m(*args, **kwargs)\u001b[0m\n\u001b[1;32m     62\u001b[0m     \u001b[0mfiltered_tb\u001b[0m \u001b[0;34m=\u001b[0m \u001b[0;32mNone\u001b[0m\u001b[0;34m\u001b[0m\u001b[0;34m\u001b[0m\u001b[0m\n\u001b[1;32m     63\u001b[0m     \u001b[0;32mtry\u001b[0m\u001b[0;34m:\u001b[0m\u001b[0;34m\u001b[0m\u001b[0;34m\u001b[0m\u001b[0m\n\u001b[0;32m---> 64\u001b[0;31m       \u001b[0;32mreturn\u001b[0m \u001b[0mfn\u001b[0m\u001b[0;34m(\u001b[0m\u001b[0;34m*\u001b[0m\u001b[0margs\u001b[0m\u001b[0;34m,\u001b[0m \u001b[0;34m**\u001b[0m\u001b[0mkwargs\u001b[0m\u001b[0;34m)\u001b[0m\u001b[0;34m\u001b[0m\u001b[0;34m\u001b[0m\u001b[0m\n\u001b[0m\u001b[1;32m     65\u001b[0m     \u001b[0;32mexcept\u001b[0m \u001b[0mException\u001b[0m \u001b[0;32mas\u001b[0m \u001b[0me\u001b[0m\u001b[0;34m:\u001b[0m  \u001b[0;31m# pylint: disable=broad-except\u001b[0m\u001b[0;34m\u001b[0m\u001b[0;34m\u001b[0m\u001b[0m\n\u001b[1;32m     66\u001b[0m       \u001b[0mfiltered_tb\u001b[0m \u001b[0;34m=\u001b[0m \u001b[0m_process_traceback_frames\u001b[0m\u001b[0;34m(\u001b[0m\u001b[0me\u001b[0m\u001b[0;34m.\u001b[0m\u001b[0m__traceback__\u001b[0m\u001b[0;34m)\u001b[0m\u001b[0;34m\u001b[0m\u001b[0;34m\u001b[0m\u001b[0m\n",
            "\u001b[0;32m/usr/local/lib/python3.7/dist-packages/keras/engine/training.py\u001b[0m in \u001b[0;36mfit\u001b[0;34m(self, x, y, batch_size, epochs, verbose, callbacks, validation_split, validation_data, shuffle, class_weight, sample_weight, initial_epoch, steps_per_epoch, validation_steps, validation_batch_size, validation_freq, max_queue_size, workers, use_multiprocessing)\u001b[0m\n\u001b[1;32m   1429\u001b[0m               \u001b[0muse_multiprocessing\u001b[0m\u001b[0;34m=\u001b[0m\u001b[0muse_multiprocessing\u001b[0m\u001b[0;34m,\u001b[0m\u001b[0;34m\u001b[0m\u001b[0;34m\u001b[0m\u001b[0m\n\u001b[1;32m   1430\u001b[0m               \u001b[0mreturn_dict\u001b[0m\u001b[0;34m=\u001b[0m\u001b[0;32mTrue\u001b[0m\u001b[0;34m,\u001b[0m\u001b[0;34m\u001b[0m\u001b[0;34m\u001b[0m\u001b[0m\n\u001b[0;32m-> 1431\u001b[0;31m               _use_cached_eval_dataset=True)\n\u001b[0m\u001b[1;32m   1432\u001b[0m           \u001b[0mval_logs\u001b[0m \u001b[0;34m=\u001b[0m \u001b[0;34m{\u001b[0m\u001b[0;34m'val_'\u001b[0m \u001b[0;34m+\u001b[0m \u001b[0mname\u001b[0m\u001b[0;34m:\u001b[0m \u001b[0mval\u001b[0m \u001b[0;32mfor\u001b[0m \u001b[0mname\u001b[0m\u001b[0;34m,\u001b[0m \u001b[0mval\u001b[0m \u001b[0;32min\u001b[0m \u001b[0mval_logs\u001b[0m\u001b[0;34m.\u001b[0m\u001b[0mitems\u001b[0m\u001b[0;34m(\u001b[0m\u001b[0;34m)\u001b[0m\u001b[0;34m}\u001b[0m\u001b[0;34m\u001b[0m\u001b[0;34m\u001b[0m\u001b[0m\n\u001b[1;32m   1433\u001b[0m           \u001b[0mepoch_logs\u001b[0m\u001b[0;34m.\u001b[0m\u001b[0mupdate\u001b[0m\u001b[0;34m(\u001b[0m\u001b[0mval_logs\u001b[0m\u001b[0;34m)\u001b[0m\u001b[0;34m\u001b[0m\u001b[0;34m\u001b[0m\u001b[0m\n",
            "\u001b[0;32m/usr/local/lib/python3.7/dist-packages/keras/utils/traceback_utils.py\u001b[0m in \u001b[0;36merror_handler\u001b[0;34m(*args, **kwargs)\u001b[0m\n\u001b[1;32m     62\u001b[0m     \u001b[0mfiltered_tb\u001b[0m \u001b[0;34m=\u001b[0m \u001b[0;32mNone\u001b[0m\u001b[0;34m\u001b[0m\u001b[0;34m\u001b[0m\u001b[0m\n\u001b[1;32m     63\u001b[0m     \u001b[0;32mtry\u001b[0m\u001b[0;34m:\u001b[0m\u001b[0;34m\u001b[0m\u001b[0;34m\u001b[0m\u001b[0m\n\u001b[0;32m---> 64\u001b[0;31m       \u001b[0;32mreturn\u001b[0m \u001b[0mfn\u001b[0m\u001b[0;34m(\u001b[0m\u001b[0;34m*\u001b[0m\u001b[0margs\u001b[0m\u001b[0;34m,\u001b[0m \u001b[0;34m**\u001b[0m\u001b[0mkwargs\u001b[0m\u001b[0;34m)\u001b[0m\u001b[0;34m\u001b[0m\u001b[0;34m\u001b[0m\u001b[0m\n\u001b[0m\u001b[1;32m     65\u001b[0m     \u001b[0;32mexcept\u001b[0m \u001b[0mException\u001b[0m \u001b[0;32mas\u001b[0m \u001b[0me\u001b[0m\u001b[0;34m:\u001b[0m  \u001b[0;31m# pylint: disable=broad-except\u001b[0m\u001b[0;34m\u001b[0m\u001b[0;34m\u001b[0m\u001b[0m\n\u001b[1;32m     66\u001b[0m       \u001b[0mfiltered_tb\u001b[0m \u001b[0;34m=\u001b[0m \u001b[0m_process_traceback_frames\u001b[0m\u001b[0;34m(\u001b[0m\u001b[0me\u001b[0m\u001b[0;34m.\u001b[0m\u001b[0m__traceback__\u001b[0m\u001b[0;34m)\u001b[0m\u001b[0;34m\u001b[0m\u001b[0;34m\u001b[0m\u001b[0m\n",
            "\u001b[0;32m/usr/local/lib/python3.7/dist-packages/keras/engine/training.py\u001b[0m in \u001b[0;36mevaluate\u001b[0;34m(self, x, y, batch_size, verbose, sample_weight, steps, callbacks, max_queue_size, workers, use_multiprocessing, return_dict, **kwargs)\u001b[0m\n\u001b[1;32m   1714\u001b[0m             \u001b[0;32mwith\u001b[0m \u001b[0mtf\u001b[0m\u001b[0;34m.\u001b[0m\u001b[0mprofiler\u001b[0m\u001b[0;34m.\u001b[0m\u001b[0mexperimental\u001b[0m\u001b[0;34m.\u001b[0m\u001b[0mTrace\u001b[0m\u001b[0;34m(\u001b[0m\u001b[0;34m'test'\u001b[0m\u001b[0;34m,\u001b[0m \u001b[0mstep_num\u001b[0m\u001b[0;34m=\u001b[0m\u001b[0mstep\u001b[0m\u001b[0;34m,\u001b[0m \u001b[0m_r\u001b[0m\u001b[0;34m=\u001b[0m\u001b[0;36m1\u001b[0m\u001b[0;34m)\u001b[0m\u001b[0;34m:\u001b[0m\u001b[0;34m\u001b[0m\u001b[0;34m\u001b[0m\u001b[0m\n\u001b[1;32m   1715\u001b[0m               \u001b[0mcallbacks\u001b[0m\u001b[0;34m.\u001b[0m\u001b[0mon_test_batch_begin\u001b[0m\u001b[0;34m(\u001b[0m\u001b[0mstep\u001b[0m\u001b[0;34m)\u001b[0m\u001b[0;34m\u001b[0m\u001b[0;34m\u001b[0m\u001b[0m\n\u001b[0;32m-> 1716\u001b[0;31m               \u001b[0mtmp_logs\u001b[0m \u001b[0;34m=\u001b[0m \u001b[0mself\u001b[0m\u001b[0;34m.\u001b[0m\u001b[0mtest_function\u001b[0m\u001b[0;34m(\u001b[0m\u001b[0miterator\u001b[0m\u001b[0;34m)\u001b[0m\u001b[0;34m\u001b[0m\u001b[0;34m\u001b[0m\u001b[0m\n\u001b[0m\u001b[1;32m   1717\u001b[0m               \u001b[0;32mif\u001b[0m \u001b[0mdata_handler\u001b[0m\u001b[0;34m.\u001b[0m\u001b[0mshould_sync\u001b[0m\u001b[0;34m:\u001b[0m\u001b[0;34m\u001b[0m\u001b[0;34m\u001b[0m\u001b[0m\n\u001b[1;32m   1718\u001b[0m                 \u001b[0mcontext\u001b[0m\u001b[0;34m.\u001b[0m\u001b[0masync_wait\u001b[0m\u001b[0;34m(\u001b[0m\u001b[0;34m)\u001b[0m\u001b[0;34m\u001b[0m\u001b[0;34m\u001b[0m\u001b[0m\n",
            "\u001b[0;32m/usr/local/lib/python3.7/dist-packages/tensorflow/python/util/traceback_utils.py\u001b[0m in \u001b[0;36merror_handler\u001b[0;34m(*args, **kwargs)\u001b[0m\n\u001b[1;32m    148\u001b[0m     \u001b[0mfiltered_tb\u001b[0m \u001b[0;34m=\u001b[0m \u001b[0;32mNone\u001b[0m\u001b[0;34m\u001b[0m\u001b[0;34m\u001b[0m\u001b[0m\n\u001b[1;32m    149\u001b[0m     \u001b[0;32mtry\u001b[0m\u001b[0;34m:\u001b[0m\u001b[0;34m\u001b[0m\u001b[0;34m\u001b[0m\u001b[0m\n\u001b[0;32m--> 150\u001b[0;31m       \u001b[0;32mreturn\u001b[0m \u001b[0mfn\u001b[0m\u001b[0;34m(\u001b[0m\u001b[0;34m*\u001b[0m\u001b[0margs\u001b[0m\u001b[0;34m,\u001b[0m \u001b[0;34m**\u001b[0m\u001b[0mkwargs\u001b[0m\u001b[0;34m)\u001b[0m\u001b[0;34m\u001b[0m\u001b[0;34m\u001b[0m\u001b[0m\n\u001b[0m\u001b[1;32m    151\u001b[0m     \u001b[0;32mexcept\u001b[0m \u001b[0mException\u001b[0m \u001b[0;32mas\u001b[0m \u001b[0me\u001b[0m\u001b[0;34m:\u001b[0m\u001b[0;34m\u001b[0m\u001b[0;34m\u001b[0m\u001b[0m\n\u001b[1;32m    152\u001b[0m       \u001b[0mfiltered_tb\u001b[0m \u001b[0;34m=\u001b[0m \u001b[0m_process_traceback_frames\u001b[0m\u001b[0;34m(\u001b[0m\u001b[0me\u001b[0m\u001b[0;34m.\u001b[0m\u001b[0m__traceback__\u001b[0m\u001b[0;34m)\u001b[0m\u001b[0;34m\u001b[0m\u001b[0;34m\u001b[0m\u001b[0m\n",
            "\u001b[0;32m/usr/local/lib/python3.7/dist-packages/tensorflow/python/eager/def_function.py\u001b[0m in \u001b[0;36m__call__\u001b[0;34m(self, *args, **kwds)\u001b[0m\n\u001b[1;32m    913\u001b[0m \u001b[0;34m\u001b[0m\u001b[0m\n\u001b[1;32m    914\u001b[0m       \u001b[0;32mwith\u001b[0m \u001b[0mOptionalXlaContext\u001b[0m\u001b[0;34m(\u001b[0m\u001b[0mself\u001b[0m\u001b[0;34m.\u001b[0m\u001b[0m_jit_compile\u001b[0m\u001b[0;34m)\u001b[0m\u001b[0;34m:\u001b[0m\u001b[0;34m\u001b[0m\u001b[0;34m\u001b[0m\u001b[0m\n\u001b[0;32m--> 915\u001b[0;31m         \u001b[0mresult\u001b[0m \u001b[0;34m=\u001b[0m \u001b[0mself\u001b[0m\u001b[0;34m.\u001b[0m\u001b[0m_call\u001b[0m\u001b[0;34m(\u001b[0m\u001b[0;34m*\u001b[0m\u001b[0margs\u001b[0m\u001b[0;34m,\u001b[0m \u001b[0;34m**\u001b[0m\u001b[0mkwds\u001b[0m\u001b[0;34m)\u001b[0m\u001b[0;34m\u001b[0m\u001b[0;34m\u001b[0m\u001b[0m\n\u001b[0m\u001b[1;32m    916\u001b[0m \u001b[0;34m\u001b[0m\u001b[0m\n\u001b[1;32m    917\u001b[0m       \u001b[0mnew_tracing_count\u001b[0m \u001b[0;34m=\u001b[0m \u001b[0mself\u001b[0m\u001b[0;34m.\u001b[0m\u001b[0mexperimental_get_tracing_count\u001b[0m\u001b[0;34m(\u001b[0m\u001b[0;34m)\u001b[0m\u001b[0;34m\u001b[0m\u001b[0;34m\u001b[0m\u001b[0m\n",
            "\u001b[0;32m/usr/local/lib/python3.7/dist-packages/tensorflow/python/eager/def_function.py\u001b[0m in \u001b[0;36m_call\u001b[0;34m(self, *args, **kwds)\u001b[0m\n\u001b[1;32m    952\u001b[0m       \u001b[0;31m# In this case we have not created variables on the first call. So we can\u001b[0m\u001b[0;34m\u001b[0m\u001b[0;34m\u001b[0m\u001b[0;34m\u001b[0m\u001b[0m\n\u001b[1;32m    953\u001b[0m       \u001b[0;31m# run the first trace but we should fail if variables are created.\u001b[0m\u001b[0;34m\u001b[0m\u001b[0;34m\u001b[0m\u001b[0;34m\u001b[0m\u001b[0m\n\u001b[0;32m--> 954\u001b[0;31m       \u001b[0mresults\u001b[0m \u001b[0;34m=\u001b[0m \u001b[0mself\u001b[0m\u001b[0;34m.\u001b[0m\u001b[0m_stateful_fn\u001b[0m\u001b[0;34m(\u001b[0m\u001b[0;34m*\u001b[0m\u001b[0margs\u001b[0m\u001b[0;34m,\u001b[0m \u001b[0;34m**\u001b[0m\u001b[0mkwds\u001b[0m\u001b[0;34m)\u001b[0m\u001b[0;34m\u001b[0m\u001b[0;34m\u001b[0m\u001b[0m\n\u001b[0m\u001b[1;32m    955\u001b[0m       \u001b[0;32mif\u001b[0m \u001b[0mself\u001b[0m\u001b[0;34m.\u001b[0m\u001b[0m_created_variables\u001b[0m \u001b[0;32mand\u001b[0m \u001b[0;32mnot\u001b[0m \u001b[0mALLOW_DYNAMIC_VARIABLE_CREATION\u001b[0m\u001b[0;34m:\u001b[0m\u001b[0;34m\u001b[0m\u001b[0;34m\u001b[0m\u001b[0m\n\u001b[1;32m    956\u001b[0m         raise ValueError(\"Creating variables on a non-first call to a function\"\n",
            "\u001b[0;32m/usr/local/lib/python3.7/dist-packages/tensorflow/python/eager/function.py\u001b[0m in \u001b[0;36m__call__\u001b[0;34m(self, *args, **kwargs)\u001b[0m\n\u001b[1;32m   2955\u001b[0m        filtered_flat_args) = self._maybe_define_function(args, kwargs)\n\u001b[1;32m   2956\u001b[0m     return graph_function._call_flat(\n\u001b[0;32m-> 2957\u001b[0;31m         filtered_flat_args, captured_inputs=graph_function.captured_inputs)  # pylint: disable=protected-access\n\u001b[0m\u001b[1;32m   2958\u001b[0m \u001b[0;34m\u001b[0m\u001b[0m\n\u001b[1;32m   2959\u001b[0m   \u001b[0;34m@\u001b[0m\u001b[0mproperty\u001b[0m\u001b[0;34m\u001b[0m\u001b[0;34m\u001b[0m\u001b[0m\n",
            "\u001b[0;32m/usr/local/lib/python3.7/dist-packages/tensorflow/python/eager/function.py\u001b[0m in \u001b[0;36m_call_flat\u001b[0;34m(self, args, captured_inputs, cancellation_manager)\u001b[0m\n\u001b[1;32m   1852\u001b[0m       \u001b[0;31m# No tape is watching; skip to running the function.\u001b[0m\u001b[0;34m\u001b[0m\u001b[0;34m\u001b[0m\u001b[0;34m\u001b[0m\u001b[0m\n\u001b[1;32m   1853\u001b[0m       return self._build_call_outputs(self._inference_function.call(\n\u001b[0;32m-> 1854\u001b[0;31m           ctx, args, cancellation_manager=cancellation_manager))\n\u001b[0m\u001b[1;32m   1855\u001b[0m     forward_backward = self._select_forward_and_backward_functions(\n\u001b[1;32m   1856\u001b[0m         \u001b[0margs\u001b[0m\u001b[0;34m,\u001b[0m\u001b[0;34m\u001b[0m\u001b[0;34m\u001b[0m\u001b[0m\n",
            "\u001b[0;32m/usr/local/lib/python3.7/dist-packages/tensorflow/python/eager/function.py\u001b[0m in \u001b[0;36mcall\u001b[0;34m(self, ctx, args, cancellation_manager)\u001b[0m\n\u001b[1;32m    502\u001b[0m               \u001b[0minputs\u001b[0m\u001b[0;34m=\u001b[0m\u001b[0margs\u001b[0m\u001b[0;34m,\u001b[0m\u001b[0;34m\u001b[0m\u001b[0;34m\u001b[0m\u001b[0m\n\u001b[1;32m    503\u001b[0m               \u001b[0mattrs\u001b[0m\u001b[0;34m=\u001b[0m\u001b[0mattrs\u001b[0m\u001b[0;34m,\u001b[0m\u001b[0;34m\u001b[0m\u001b[0;34m\u001b[0m\u001b[0m\n\u001b[0;32m--> 504\u001b[0;31m               ctx=ctx)\n\u001b[0m\u001b[1;32m    505\u001b[0m         \u001b[0;32melse\u001b[0m\u001b[0;34m:\u001b[0m\u001b[0;34m\u001b[0m\u001b[0;34m\u001b[0m\u001b[0m\n\u001b[1;32m    506\u001b[0m           outputs = execute.execute_with_cancellation(\n",
            "\u001b[0;32m/usr/local/lib/python3.7/dist-packages/tensorflow/python/eager/execute.py\u001b[0m in \u001b[0;36mquick_execute\u001b[0;34m(op_name, num_outputs, inputs, attrs, ctx, name)\u001b[0m\n\u001b[1;32m     53\u001b[0m     \u001b[0mctx\u001b[0m\u001b[0;34m.\u001b[0m\u001b[0mensure_initialized\u001b[0m\u001b[0;34m(\u001b[0m\u001b[0;34m)\u001b[0m\u001b[0;34m\u001b[0m\u001b[0;34m\u001b[0m\u001b[0m\n\u001b[1;32m     54\u001b[0m     tensors = pywrap_tfe.TFE_Py_Execute(ctx._handle, device_name, op_name,\n\u001b[0;32m---> 55\u001b[0;31m                                         inputs, attrs, num_outputs)\n\u001b[0m\u001b[1;32m     56\u001b[0m   \u001b[0;32mexcept\u001b[0m \u001b[0mcore\u001b[0m\u001b[0;34m.\u001b[0m\u001b[0m_NotOkStatusException\u001b[0m \u001b[0;32mas\u001b[0m \u001b[0me\u001b[0m\u001b[0;34m:\u001b[0m\u001b[0;34m\u001b[0m\u001b[0;34m\u001b[0m\u001b[0m\n\u001b[1;32m     57\u001b[0m     \u001b[0;32mif\u001b[0m \u001b[0mname\u001b[0m \u001b[0;32mis\u001b[0m \u001b[0;32mnot\u001b[0m \u001b[0;32mNone\u001b[0m\u001b[0;34m:\u001b[0m\u001b[0;34m\u001b[0m\u001b[0;34m\u001b[0m\u001b[0m\n",
            "\u001b[0;31mKeyboardInterrupt\u001b[0m: "
          ]
        }
      ]
    },
    {
      "cell_type": "code",
      "source": [
        "acc1 = history.history['accuracy']\n",
        "AUC1 = history.history['auc']\n",
        "val_AUC1 = history.history['val_auc']"
      ],
      "metadata": {
        "id": "wKM7VsXMGUjA"
      },
      "execution_count": null,
      "outputs": []
    },
    {
      "cell_type": "code",
      "source": [
        "from tensorflow.keras.models import Model\n",
        "model.compile(optimizer='adam', loss = 'categorical_crossentropy',metrics = ['accuracy',AUC()])\n",
        "#model.compile(optimizer='nadam', loss='categorical_crossentropy', metrics=tensorflow.keras.metrics.RootMeanSquaredError())\n",
        "history = model.fit(X_train,y_train,\n",
        "                    epochs=200, \n",
        "                    validation_data=(X_test2,y_test2),\n",
        "                    verbose = 1,\n",
        "                    initial_epoch=0)"
      ],
      "metadata": {
        "id": "uSsykJuyE_3S"
      },
      "execution_count": null,
      "outputs": []
    },
    {
      "cell_type": "code",
      "source": [
        "from tensorflow.keras.models import Model\n",
        "model.compile(optimizer='adam', loss = 'categorical_crossentropy',metrics = ['accuracy',AUC()])\n",
        "#model.compile(optimizer='nadam', loss='categorical_crossentropy', metrics=tensorflow.keras.metrics.RootMeanSquaredError())\n",
        "history = model.fit(X_train,y_train,\n",
        "                    epochs=200, \n",
        "                    validation_data=(X_test3,y_test3),\n",
        "                    verbose = 1,\n",
        "                    initial_epoch=0)"
      ],
      "metadata": {
        "id": "tRkO6UDsFCmP"
      },
      "execution_count": null,
      "outputs": []
    },
    {
      "cell_type": "code",
      "source": [
        "from tensorflow.keras.models import Model\n",
        "model.compile(optimizer='adam', loss = 'categorical_crossentropy',metrics = ['accuracy',AUC()])\n",
        "#model.compile(optimizer='nadam', loss='categorical_crossentropy', metrics=tensorflow.keras.metrics.RootMeanSquaredError())\n",
        "history = model.fit(X_train,y_train,\n",
        "                    epochs=200, \n",
        "                    validation_data=(X_test4,y_test4),\n",
        "                    verbose = 1,\n",
        "                    initial_epoch=0)"
      ],
      "metadata": {
        "id": "8bJJAKAWFEx9"
      },
      "execution_count": null,
      "outputs": []
    },
    {
      "cell_type": "code",
      "source": [
        "from tensorflow.keras.models import Model\n",
        "model.compile(optimizer='adam', loss = 'categorical_crossentropy',metrics = ['accuracy',AUC()])\n",
        "#model.compile(optimizer='nadam', loss='categorical_crossentropy', metrics=tensorflow.keras.metrics.RootMeanSquaredError())\n",
        "history = model.fit(X_train,y_train,\n",
        "                    epochs=200, \n",
        "                    validation_data=(X_test5,y_test5),\n",
        "                    verbose = 1,\n",
        "                    initial_epoch=0)"
      ],
      "metadata": {
        "id": "Y4a-N2x9FG3f"
      },
      "execution_count": null,
      "outputs": []
    },
    {
      "cell_type": "code",
      "source": [
        "from tensorflow.keras.models import Model\n",
        "model.compile(optimizer='adam', loss = 'categorical_crossentropy',metrics = ['accuracy',AUC()])\n",
        "#model.compile(optimizer='nadam', loss='categorical_crossentropy', metrics=tensorflow.keras.metrics.RootMeanSquaredError())\n",
        "history = model.fit(X_train,y_train,\n",
        "                    epochs=200, \n",
        "                    validation_data=(X_test6,y_test6),\n",
        "                    verbose = 1,\n",
        "                    initial_epoch=0)"
      ],
      "metadata": {
        "id": "RAbYQPVbFIfl"
      },
      "execution_count": null,
      "outputs": []
    },
    {
      "cell_type": "code",
      "source": [
        "from tensorflow.keras.models import Model\n",
        "model.compile(optimizer='adam', loss = 'categorical_crossentropy',metrics = ['accuracy',AUC()])\n",
        "#model.compile(optimizer='nadam', loss='categorical_crossentropy', metrics=tensorflow.keras.metrics.RootMeanSquaredError())\n",
        "history = model.fit(X_train,y_train,\n",
        "                    epochs=200, \n",
        "                    validation_data=(X_test7,y_test7),\n",
        "                    verbose = 1,\n",
        "                    initial_epoch=0)"
      ],
      "metadata": {
        "id": "4aIjqsANFK0E"
      },
      "execution_count": null,
      "outputs": []
    },
    {
      "cell_type": "code",
      "source": [
        "from tensorflow.keras.models import Model\n",
        "model.compile(optimizer='adam', loss = 'categorical_crossentropy',metrics = ['accuracy',AUC()])\n",
        "#model.compile(optimizer='nadam', loss='categorical_crossentropy', metrics=tensorflow.keras.metrics.RootMeanSquaredError())\n",
        "history = model.fit(X_train,y_train,\n",
        "                    epochs=200, \n",
        "                    validation_data=(X_test8,y_test8),\n",
        "                    verbose = 1,\n",
        "                    initial_epoch=0)"
      ],
      "metadata": {
        "id": "g3eUwXt4FNEz"
      },
      "execution_count": null,
      "outputs": []
    },
    {
      "cell_type": "code",
      "source": [
        "from tensorflow.keras.models import Model\n",
        "model.compile(optimizer='adam', loss = 'categorical_crossentropy',metrics = ['accuracy',AUC()])\n",
        "#model.compile(optimizer='nadam', loss='categorical_crossentropy', metrics=tensorflow.keras.metrics.RootMeanSquaredError())\n",
        "history = model.fit(X_train,y_train,\n",
        "                    epochs=200, \n",
        "                    validation_data=(X_test9,y_test9),\n",
        "                    verbose = 1,\n",
        "                    initial_epoch=0)"
      ],
      "metadata": {
        "id": "3SxookilFPOo"
      },
      "execution_count": null,
      "outputs": []
    },
    {
      "cell_type": "code",
      "source": [
        "from tensorflow.keras.models import Model\n",
        "model.compile(optimizer='adam', loss = 'categorical_crossentropy',metrics = ['accuracy',AUC()])\n",
        "#model.compile(optimizer='nadam', loss='categorical_crossentropy', metrics=tensorflow.keras.metrics.RootMeanSquaredError())\n",
        "history = model.fit(X_train,y_train,\n",
        "                    epochs=200, \n",
        "                    validation_data=(X_test10,y_test10),\n",
        "                    verbose = 1,\n",
        "                    initial_epoch=0)"
      ],
      "metadata": {
        "id": "4ks7_GCLFQ2A"
      },
      "execution_count": null,
      "outputs": []
    },
    {
      "cell_type": "code",
      "source": [
        "from tensorflow.keras.models import Model\n",
        "model.compile(optimizer='adam', loss = 'categorical_crossentropy',metrics = ['accuracy',AUC()])\n",
        "#model.compile(optimizer='nadam', loss='categorical_crossentropy', metrics=tensorflow.keras.metrics.RootMeanSquaredError())\n",
        "history = model.fit(X_train,y_train,\n",
        "                    epochs=200, \n",
        "                    validation_data=(X_test11,y_test11),\n",
        "                    verbose = 1,\n",
        "                    initial_epoch=0)"
      ],
      "metadata": {
        "id": "TKsHSNhSFSwx"
      },
      "execution_count": null,
      "outputs": []
    },
    {
      "cell_type": "code",
      "source": [
        "from tensorflow.keras.models import Model\n",
        "model.compile(optimizer='adam', loss = 'categorical_crossentropy',metrics = ['accuracy',AUC()])\n",
        "#model.compile(optimizer='nadam', loss='categorical_crossentropy', metrics=tensorflow.keras.metrics.RootMeanSquaredError())\n",
        "history = model.fit(X_train,y_train,\n",
        "                    epochs=200, \n",
        "                    validation_data=(X_test12,y_test12),\n",
        "                    verbose = 1,\n",
        "                    initial_epoch=0)"
      ],
      "metadata": {
        "id": "FoSximbjFVAY"
      },
      "execution_count": null,
      "outputs": []
    },
    {
      "cell_type": "code",
      "source": [
        "epochs = range(1, len(acc) + 1)\n",
        "\n",
        "plt.plot(epochs, acc, 'g', label='Training acc')\n",
        "plt.plot(epochs, val_acc, 'b', label='Validation acc')\n",
        "plt.title('Training and validation accuracy')\n",
        "plt.legend()\n",
        "plt.figure()\n",
        "\n",
        "plt.plot(epochs, loss, 'g', label='Training loss')\n",
        "plt.plot(epochs, val_loss, 'b', label='Validation loss')\n",
        "plt.title('Training and validation loss')\n",
        "plt.legend()\n",
        "plt.show()\n",
        "\n",
        "plt.plot(epochs, AUC, 'g', label='AUC')\n",
        "plt.plot(epochs, val_AUC, 'b', label='Val_AUC')\n",
        "plt.xlabel('No.of epochs')\n",
        "plt.ylabel('AUC')\n",
        "plt.title('Training and validation AUC')\n",
        "plt.legend()\n",
        "plt.figure()"
      ],
      "metadata": {
        "colab": {
          "base_uri": "https://localhost:8080/",
          "height": 858
        },
        "id": "nxERkwNHGC4p",
        "outputId": "e7213bc9-bec5-4900-9a1d-0bb6fd894bec"
      },
      "execution_count": null,
      "outputs": [
        {
          "output_type": "display_data",
          "data": {
            "text/plain": [
              "<Figure size 432x288 with 1 Axes>"
            ],
            "image/png": "[encoded data removed]"
          },
          "metadata": {
            "needs_background": "light"
          }
        },
        {
          "output_type": "display_data",
          "data": {
            "text/plain": [
              "<Figure size 432x288 with 1 Axes>"
            ],
            "image/png": "[encoded data removed]"
          },
          "metadata": {
            "needs_background": "light"
          }
        },
        {
          "output_type": "execute_result",
          "data": {
            "text/plain": [
              "<Figure size 432x288 with 0 Axes>"
            ]
          },
          "metadata": {},
          "execution_count": 37
        },
        {
          "output_type": "display_data",
          "data": {
            "text/plain": [
              "<Figure size 432x288 with 1 Axes>"
            ],
            "image/png": "[encoded data removed]"
          },
          "metadata": {
            "needs_background": "light"
          }
        },
        {
          "output_type": "display_data",
          "data": {
            "text/plain": [
              "<Figure size 432x288 with 0 Axes>"
            ]
          },
          "metadata": {}
        }
      ]
    },
    {
      "cell_type": "code",
      "source": [
        "print(epochs)"
      ],
      "metadata": {
        "colab": {
          "base_uri": "https://localhost:8080/"
        },
        "id": "UTBlnVR4zOdJ",
        "outputId": "3bddeb25-2e38-422e-b92a-35029655332e"
      },
      "execution_count": null,
      "outputs": [
        {
          "output_type": "stream",
          "name": "stdout",
          "text": [
            "range(1, 201)\n"
          ]
        }
      ]
    },
    {
      "cell_type": "code",
      "source": [
        "print(acc)"
      ],
      "metadata": {
        "colab": {
          "base_uri": "https://localhost:8080/"
        },
        "id": "iyf9X-hXzSo3",
        "outputId": "aa21c233-a4f7-4bf0-e431-e9aff0229c85"
      },
      "execution_count": null,
      "outputs": [
        {
          "output_type": "stream",
          "name": "stdout",
          "text": [
            "[0.11363636702299118, 0.10227272659540176, 0.11363636702299118, 0.20454545319080353, 0.17045454680919647, 0.15909090638160706, 0.22727273404598236, 0.3068181872367859, 0.35227271914482117, 0.4545454680919647, 0.6022727489471436, 0.5681818127632141, 0.5, 0.6477272510528564, 0.6590909361839294, 0.7613636255264282, 0.6931818127632141, 0.7727272510528564, 0.6818181872367859, 0.7272727489471436, 0.5795454382896423, 0.7159090638160706, 0.8068181872367859, 0.7386363744735718, 0.8636363744735718, 0.8522727489471436, 0.8409090638160706, 0.8863636255264282, 0.8863636255264282, 0.9090909361839294, 0.8977272510528564, 0.8522727489471436, 0.8409090638160706, 0.8977272510528564, 0.9204545617103577, 0.8977272510528564, 0.8636363744735718, 0.8409090638160706, 0.9204545617103577, 0.9204545617103577, 0.8977272510528564, 0.8863636255264282, 0.9090909361839294, 0.9204545617103577, 0.8977272510528564, 0.9090909361839294, 0.8977272510528564, 0.8977272510528564, 0.9090909361839294, 0.8863636255264282, 0.9090909361839294, 0.9204545617103577, 0.8863636255264282, 0.8977272510528564, 0.9204545617103577, 0.9204545617103577, 0.8409090638160706, 0.8295454382896423, 0.8636363744735718, 0.8409090638160706, 0.8522727489471436, 0.9090909361839294, 0.9204545617103577, 0.9204545617103577, 0.9204545617103577, 0.8863636255264282, 0.8977272510528564, 0.9204545617103577, 0.9204545617103577, 0.9090909361839294, 0.8977272510528564, 0.9204545617103577, 0.9204545617103577, 0.9204545617103577, 0.8977272510528564, 0.8977272510528564, 0.9204545617103577, 0.9204545617103577, 0.9318181872367859, 0.8977272510528564, 0.9204545617103577, 0.9204545617103577, 0.9204545617103577, 0.8863636255264282, 0.9204545617103577, 0.9204545617103577, 0.9204545617103577, 0.9204545617103577, 0.8863636255264282, 0.9204545617103577, 0.9204545617103577, 0.8977272510528564, 0.8977272510528564, 0.9204545617103577, 0.9204545617103577, 0.8977272510528564, 0.8977272510528564, 0.9204545617103577, 0.9204545617103577, 0.9204545617103577, 0.8977272510528564, 0.9090909361839294, 0.9204545617103577, 0.9204545617103577, 0.875, 0.8977272510528564, 0.9204545617103577, 0.8977272510528564, 0.8977272510528564, 0.8977272510528564, 0.9204545617103577, 0.9204545617103577, 0.9204545617103577, 0.9204545617103577, 0.9204545617103577, 0.8863636255264282, 0.8977272510528564, 0.9204545617103577, 0.9204545617103577, 0.9204545617103577, 0.8977272510528564, 0.8977272510528564, 0.9204545617103577, 0.9204545617103577, 0.8863636255264282, 0.8977272510528564, 0.9204545617103577, 0.9204545617103577, 0.9204545617103577, 0.9204545617103577, 0.9204545617103577, 0.8636363744735718, 0.9204545617103577, 0.9204545617103577, 0.9204545617103577, 0.9090909361839294, 0.8977272510528564, 0.9431818127632141, 0.9204545617103577, 0.9204545617103577, 0.9204545617103577, 0.8977272510528564, 0.875, 0.9204545617103577, 0.9204545617103577, 0.9204545617103577, 0.875, 0.9204545617103577, 0.9204545617103577, 0.9204545617103577, 0.9204545617103577, 0.9204545617103577, 0.9204545617103577, 0.9204545617103577, 0.8977272510528564, 0.9204545617103577, 0.9204545617103577, 0.9204545617103577, 0.9204545617103577, 0.8863636255264282, 0.9204545617103577, 0.9204545617103577, 0.9204545617103577, 0.9204545617103577, 0.9204545617103577, 0.9204545617103577, 0.9204545617103577, 0.9204545617103577, 0.9204545617103577, 0.9204545617103577, 0.9204545617103577, 0.9204545617103577, 0.9204545617103577, 0.9204545617103577, 0.9204545617103577, 0.9204545617103577, 0.8636363744735718, 0.9204545617103577, 0.9204545617103577, 0.9204545617103577, 0.9204545617103577, 0.8977272510528564, 0.9204545617103577, 0.9204545617103577, 0.9204545617103577, 0.9204545617103577, 0.9204545617103577, 0.9204545617103577, 0.9204545617103577, 0.9204545617103577, 0.9204545617103577, 0.9204545617103577, 0.9204545617103577, 0.9204545617103577, 0.9204545617103577, 0.9204545617103577, 0.9204545617103577, 0.9204545617103577, 0.9204545617103577, 0.9204545617103577]\n"
          ]
        }
      ]
    },
    {
      "cell_type": "code",
      "source": [
        "type(acc)"
      ],
      "metadata": {
        "colab": {
          "base_uri": "https://localhost:8080/"
        },
        "id": "Fh1xtpAw3-dc",
        "outputId": "700f1e5d-d2d2-47c4-b419-4498a4627f70"
      },
      "execution_count": null,
      "outputs": [
        {
          "output_type": "execute_result",
          "data": {
            "text/plain": [
              "list"
            ]
          },
          "metadata": {},
          "execution_count": 45
        }
      ]
    },
    {
      "cell_type": "code",
      "source": [
        "import pandas as pd"
      ],
      "metadata": {
        "id": "oxeM9UFr4spb"
      },
      "execution_count": null,
      "outputs": []
    },
    {
      "cell_type": "code",
      "source": [
        "datastr = {\"Training accuracy\":acc}\n",
        "df = pd.DataFrame(datastr)\n",
        "datasva = {\"Validation accuracy\":val_acc}\n",
        "df2 = pd.DataFrame(datasva)\n",
        "datatrloss = {\"Training loss\":loss}\n",
        "dfl1 = pd.DataFrame(datatrloss)\n",
        "datavaloss = {\"Validation loss\":val_loss}\n",
        "dfl2 = pd.DataFrame(datavaloss)"
      ],
      "metadata": {
        "id": "O3ETx2Ny4E0G"
      },
      "execution_count": null,
      "outputs": []
    },
    {
      "cell_type": "code",
      "source": [
        "df.to_csv(r'/content/gdrive/MyDrive/indian pines/Training accuracy.csv')\n",
        "df2.to_csv(r'/content/gdrive/MyDrive/indian pines/Validation accuracy.csv')\n",
        "dfl1.to_csv(r'/content/gdrive/MyDrive/indian pines/Training loss.csv')\n",
        "dfl2.to_csv(r'/content/gdrive/MyDrive/indian pines/Validation loss.csv')"
      ],
      "metadata": {
        "id": "55BwWW8M5CVx"
      },
      "execution_count": null,
      "outputs": []
    },
    {
      "cell_type": "code",
      "source": [
        "np.savetxt('accuracy values sgd.csv', acc, delimiter=\",\")"
      ],
      "metadata": {
        "colab": {
          "base_uri": "https://localhost:8080/",
          "height": 321
        },
        "id": "3t81RtPh0s1n",
        "outputId": "4f5a9469-e4f0-41ba-f9c7-054da0a9a267"
      },
      "execution_count": null,
      "outputs": [
        {
          "output_type": "error",
          "ename": "OSError",
          "evalue": "ignored",
          "traceback": [
            "\u001b[0;31m---------------------------------------------------------------------------\u001b[0m",
            "\u001b[0;31mOSError\u001b[0m                                   Traceback (most recent call last)",
            "\u001b[0;32m<ipython-input-44-861d60ca9694>\u001b[0m in \u001b[0;36m<module>\u001b[0;34m()\u001b[0m\n\u001b[0;32m----> 1\u001b[0;31m \u001b[0mnp\u001b[0m\u001b[0;34m.\u001b[0m\u001b[0msavetxt\u001b[0m\u001b[0;34m(\u001b[0m\u001b[0;34m'accuracy values sgd.csv'\u001b[0m\u001b[0;34m,\u001b[0m \u001b[0macc\u001b[0m\u001b[0;34m,\u001b[0m \u001b[0mdelimiter\u001b[0m\u001b[0;34m=\u001b[0m\u001b[0;34m\",\"\u001b[0m\u001b[0;34m)\u001b[0m\u001b[0;34m\u001b[0m\u001b[0;34m\u001b[0m\u001b[0m\n\u001b[0m",
            "\u001b[0;32m<__array_function__ internals>\u001b[0m in \u001b[0;36msavetxt\u001b[0;34m(*args, **kwargs)\u001b[0m\n",
            "\u001b[0;32m/usr/local/lib/python3.7/dist-packages/numpy/lib/npyio.py\u001b[0m in \u001b[0;36msavetxt\u001b[0;34m(fname, X, fmt, delimiter, newline, header, footer, comments, encoding)\u001b[0m\n\u001b[1;32m   1366\u001b[0m     \u001b[0;32mif\u001b[0m \u001b[0m_is_string_like\u001b[0m\u001b[0;34m(\u001b[0m\u001b[0mfname\u001b[0m\u001b[0;34m)\u001b[0m\u001b[0;34m:\u001b[0m\u001b[0;34m\u001b[0m\u001b[0;34m\u001b[0m\u001b[0m\n\u001b[1;32m   1367\u001b[0m         \u001b[0;31m# datasource doesn't support creating a new file ...\u001b[0m\u001b[0;34m\u001b[0m\u001b[0;34m\u001b[0m\u001b[0;34m\u001b[0m\u001b[0m\n\u001b[0;32m-> 1368\u001b[0;31m         \u001b[0mopen\u001b[0m\u001b[0;34m(\u001b[0m\u001b[0mfname\u001b[0m\u001b[0;34m,\u001b[0m \u001b[0;34m'wt'\u001b[0m\u001b[0;34m)\u001b[0m\u001b[0;34m.\u001b[0m\u001b[0mclose\u001b[0m\u001b[0;34m(\u001b[0m\u001b[0;34m)\u001b[0m\u001b[0;34m\u001b[0m\u001b[0;34m\u001b[0m\u001b[0m\n\u001b[0m\u001b[1;32m   1369\u001b[0m         \u001b[0mfh\u001b[0m \u001b[0;34m=\u001b[0m \u001b[0mnp\u001b[0m\u001b[0;34m.\u001b[0m\u001b[0mlib\u001b[0m\u001b[0;34m.\u001b[0m\u001b[0m_datasource\u001b[0m\u001b[0;34m.\u001b[0m\u001b[0mopen\u001b[0m\u001b[0;34m(\u001b[0m\u001b[0mfname\u001b[0m\u001b[0;34m,\u001b[0m \u001b[0;34m'wt'\u001b[0m\u001b[0;34m,\u001b[0m \u001b[0mencoding\u001b[0m\u001b[0;34m=\u001b[0m\u001b[0mencoding\u001b[0m\u001b[0;34m)\u001b[0m\u001b[0;34m\u001b[0m\u001b[0;34m\u001b[0m\u001b[0m\n\u001b[1;32m   1370\u001b[0m         \u001b[0mown_fh\u001b[0m \u001b[0;34m=\u001b[0m \u001b[0;32mTrue\u001b[0m\u001b[0;34m\u001b[0m\u001b[0;34m\u001b[0m\u001b[0m\n",
            "\u001b[0;31mOSError\u001b[0m: [Errno 30] Read-only file system: 'accuracy values sgd.csv'"
          ]
        }
      ]
    },
    {
      "cell_type": "code",
      "source": [
        "# acc = history.history['accuracy']\n",
        "# val_acc = history.history['val_accuracy']\n",
        "# loss = history.history['loss']\n",
        "# val_loss = history.history['val_loss']\n",
        "\n",
        "# epochs = range(len(acc))\n",
        "\n",
        "# plt.plot(epochs, acc, 'r', label='Training accuracy')\n",
        "# plt.plot(epochs, val_acc, 'b', label='Validation accuracy')\n",
        "# plt.title('Training and validation accuracy')\n",
        "# plt.legend(loc=0)\n",
        "# plt.figure()\n",
        "\n",
        "# plt.show()"
      ],
      "metadata": {
        "id": "Z56FJQfPEISK"
      },
      "execution_count": null,
      "outputs": []
    },
    {
      "cell_type": "code",
      "source": [
        "from sklearn.metrics import classification_report, confusion_matrix"
      ],
      "metadata": {
        "id": "kkwz7YCrKvPu"
      },
      "execution_count": null,
      "outputs": []
    },
    {
      "cell_type": "code",
      "source": [
        "y_pred = model.predict(X_test)"
      ],
      "metadata": {
        "id": "jfXX45hTKzyX"
      },
      "execution_count": null,
      "outputs": []
    },
    {
      "cell_type": "code",
      "source": [
        "y_pred=model.predict(X_test) \n",
        "y_pred=np.argmax(y_pred, axis=1)\n",
        "y_test=np.argmax(y_test, axis=1)\n",
        "cm = confusion_matrix(y_test, y_pred)\n",
        "print(cm)"
      ],
      "metadata": {
        "colab": {
          "base_uri": "https://localhost:8080/"
        },
        "id": "sFCFE9McK4Qx",
        "outputId": "71bab315-845d-47fe-fe6e-021f6e958fa0"
      },
      "execution_count": null,
      "outputs": [
        {
          "output_type": "stream",
          "name": "stdout",
          "text": [
            "[[3 0 0 0 0 0 0 0 0 0 0 0]\n",
            " [4 0 0 0 0 0 1 0 0 0 0 0]\n",
            " [0 0 5 0 0 0 0 0 0 0 0 0]\n",
            " [0 0 0 3 0 0 0 0 0 0 0 0]\n",
            " [0 0 0 0 4 0 0 0 0 0 0 0]\n",
            " [0 0 0 0 0 5 0 0 0 0 0 0]\n",
            " [0 0 0 0 0 0 4 0 0 0 0 0]\n",
            " [0 0 0 0 0 0 0 4 0 0 0 0]\n",
            " [0 0 0 0 0 0 0 0 4 0 0 0]\n",
            " [0 0 0 0 0 0 0 0 0 2 0 0]\n",
            " [0 0 0 0 0 0 0 0 0 0 2 0]\n",
            " [0 0 0 0 0 0 0 0 0 0 0 3]]\n"
          ]
        }
      ]
    },
    {
      "cell_type": "code",
      "source": [
        "print(classification_report(y_test, y_pred))"
      ],
      "metadata": {
        "colab": {
          "base_uri": "https://localhost:8080/"
        },
        "id": "raOxdigxL1hv",
        "outputId": "0aa7c548-4445-432d-8f38-4757cf0542cb"
      },
      "execution_count": null,
      "outputs": [
        {
          "output_type": "stream",
          "name": "stdout",
          "text": [
            "              precision    recall  f1-score   support\n",
            "\n",
            "           0       0.43      1.00      0.60         3\n",
            "           1       0.00      0.00      0.00         5\n",
            "           2       1.00      1.00      1.00         5\n",
            "           3       1.00      1.00      1.00         3\n",
            "           4       1.00      1.00      1.00         4\n",
            "           5       1.00      1.00      1.00         5\n",
            "           6       0.80      1.00      0.89         4\n",
            "           7       1.00      1.00      1.00         4\n",
            "           8       1.00      1.00      1.00         4\n",
            "           9       1.00      1.00      1.00         2\n",
            "          10       1.00      1.00      1.00         2\n",
            "          11       1.00      1.00      1.00         3\n",
            "\n",
            "    accuracy                           0.89        44\n",
            "   macro avg       0.85      0.92      0.87        44\n",
            "weighted avg       0.83      0.89      0.85        44\n",
            "\n"
          ]
        },
        {
          "output_type": "stream",
          "name": "stderr",
          "text": [
            "/usr/local/lib/python3.7/dist-packages/sklearn/metrics/_classification.py:1318: UndefinedMetricWarning: Precision and F-score are ill-defined and being set to 0.0 in labels with no predicted samples. Use `zero_division` parameter to control this behavior.\n",
            "  _warn_prf(average, modifier, msg_start, len(result))\n",
            "/usr/local/lib/python3.7/dist-packages/sklearn/metrics/_classification.py:1318: UndefinedMetricWarning: Precision and F-score are ill-defined and being set to 0.0 in labels with no predicted samples. Use `zero_division` parameter to control this behavior.\n",
            "  _warn_prf(average, modifier, msg_start, len(result))\n",
            "/usr/local/lib/python3.7/dist-packages/sklearn/metrics/_classification.py:1318: UndefinedMetricWarning: Precision and F-score are ill-defined and being set to 0.0 in labels with no predicted samples. Use `zero_division` parameter to control this behavior.\n",
            "  _warn_prf(average, modifier, msg_start, len(result))\n"
          ]
        }
      ]
    },
    {
      "cell_type": "code",
      "source": [
        "from sklearn.multiclass import OneVsRestClassifier\n",
        "from sklearn.linear_model import LogisticRegression\n",
        "from sklearn.model_selection import train_test_split\n",
        "from sklearn.metrics import roc_curve\n",
        "from sklearn.metrics import roc_auc_score"
      ],
      "metadata": {
        "id": "FUO7nGVbPR3X"
      },
      "execution_count": null,
      "outputs": []
    },
    {
      "cell_type": "code",
      "source": [
        "from sklearn.datasets import make_classification"
      ],
      "metadata": {
        "id": "wZRBzanVMELN"
      },
      "execution_count": null,
      "outputs": []
    },
    {
      "cell_type": "code",
      "source": [
        "import numpy as np\n",
        "from scipy import interp\n",
        "import matplotlib.pyplot as plt\n",
        "from itertools import cycle\n",
        "from sklearn.metrics import roc_curve, auc\n",
        "\n",
        "# Plot linewidth.\n",
        "lw = 2"
      ],
      "metadata": {
        "id": "koSLbsnjQaqh"
      },
      "execution_count": null,
      "outputs": []
    },
    {
      "cell_type": "code",
      "source": [
        " n_classes = len(np.unique(y_test))"
      ],
      "metadata": {
        "id": "iVkVuj_iSolF"
      },
      "execution_count": null,
      "outputs": []
    },
    {
      "cell_type": "code",
      "source": [
        "from sklearn.preprocessing import label_binarize"
      ],
      "metadata": {
        "id": "UG8uH1MRTrnB"
      },
      "execution_count": null,
      "outputs": []
    },
    {
      "cell_type": "code",
      "source": [
        "  y_test1 = label_binarize(y_test, classes=np.arange(n_classes))\n",
        "  y_pred1 = label_binarize(y_pred, classes=np.arange(n_classes))"
      ],
      "metadata": {
        "id": "v-x4o9Z7Te1o"
      },
      "execution_count": null,
      "outputs": []
    },
    {
      "cell_type": "code",
      "source": [
        "  fpr = dict()\n",
        "  tpr = dict()\n",
        "  roc_auc = dict()\n",
        "  for i in range(n_classes):\n",
        "    fpr[i], tpr[i], _ = roc_curve(y_test[:,i], y_pred[:,i])\n",
        "    roc_auc[i] = auc(fpr[i], tpr[i])\n",
        "  \n",
        "  # Compute micro-average ROC curve and ROC area\n",
        "  fpr[\"micro\"], tpr[\"micro\"], _ = roc_curve(y_test.ravel(), y_pred.ravel())\n",
        "  roc_auc[\"micro\"] = auc(fpr[\"micro\"], tpr[\"micro\"])\n",
        "\n",
        "  # First aggregate all false positive rates\n",
        "  all_fpr = np.unique(np.concatenate([fpr[i] for i in range(n_classes)]))\n",
        "\n",
        "  # Then interpolate all ROC curves at this points\n",
        "  mean_tpr = np.zeros_like(all_fpr)\n",
        "  for i in range(n_classes):\n",
        "    mean_tpr += np.interp(all_fpr, fpr[i], tpr[i])\n",
        "\n",
        "  # Finally average it and compute AUC\n",
        "  mean_tpr /= n_classes\n",
        "\n",
        "  fpr[\"macro\"] = all_fpr\n",
        "  tpr[\"macro\"] = mean_tpr\n",
        "  roc_auc[\"macro\"] = auc(fpr[\"macro\"], tpr[\"macro\"])\n",
        "\n",
        "  # Plot all ROC curves\n",
        "  #plt.figure(figsize=(10,5))\n",
        "  plt.figure(dpi=600)\n",
        "  lw = 2\n",
        "  plt.plot(fpr[\"micro\"], tpr[\"micro\"],\n",
        "    label=\"micro-average ROC curve (area = {0:0.2f})\".format(roc_auc[\"micro\"]),\n",
        "    color=\"deeppink\", linestyle=\":\", linewidth=4,)\n",
        "\n",
        "  plt.plot(fpr[\"macro\"], tpr[\"macro\"],\n",
        "    label=\"macro-average ROC curve (area = {0:0.2f})\".format(roc_auc[\"macro\"]),\n",
        "    color=\"navy\", linestyle=\":\", linewidth=4,)\n",
        "\n",
        "  colors = cycle([\"aqua\", \"darkorange\", \"darkgreen\", \"yellow\", \"blue\"])\n",
        "  for i, color in zip(range(n_classes), colors):\n",
        "    plt.plot(fpr[i], tpr[i], color=color, lw=lw,\n",
        "        label=\"ROC curve of class {0} (area = {1:0.2f})\".format(i, roc_auc[i]),)\n",
        "\n",
        "  plt.plot([0, 1], [0, 1], \"k--\", lw=lw)\n",
        "  plt.xlim([0.0, 1.0])\n",
        "  plt.ylim([0.0, 1.05])\n",
        "  plt.xlabel(\"False Positive Rate\")\n",
        "  plt.ylabel(\"True Positive Rate\")\n",
        "  plt.title(\"Receiver Operating Characteristic (ROC) curve\")\n",
        "  plt.legend()"
      ],
      "metadata": {
        "colab": {
          "base_uri": "https://localhost:8080/",
          "height": 234
        },
        "id": "8qQC3LexS_b4",
        "outputId": "3daeb91e-1c02-4aa9-c733-3be109faae64"
      },
      "execution_count": null,
      "outputs": [
        {
          "output_type": "error",
          "ename": "IndexError",
          "evalue": "ignored",
          "traceback": [
            "\u001b[0;31m---------------------------------------------------------------------------\u001b[0m",
            "\u001b[0;31mIndexError\u001b[0m                                Traceback (most recent call last)",
            "\u001b[0;32m<ipython-input-58-3b679c6a2361>\u001b[0m in \u001b[0;36m<module>\u001b[0;34m()\u001b[0m\n\u001b[1;32m      3\u001b[0m \u001b[0mroc_auc\u001b[0m \u001b[0;34m=\u001b[0m \u001b[0mdict\u001b[0m\u001b[0;34m(\u001b[0m\u001b[0;34m)\u001b[0m\u001b[0;34m\u001b[0m\u001b[0;34m\u001b[0m\u001b[0m\n\u001b[1;32m      4\u001b[0m \u001b[0;32mfor\u001b[0m \u001b[0mi\u001b[0m \u001b[0;32min\u001b[0m \u001b[0mrange\u001b[0m\u001b[0;34m(\u001b[0m\u001b[0mn_classes\u001b[0m\u001b[0;34m)\u001b[0m\u001b[0;34m:\u001b[0m\u001b[0;34m\u001b[0m\u001b[0;34m\u001b[0m\u001b[0m\n\u001b[0;32m----> 5\u001b[0;31m   \u001b[0mfpr\u001b[0m\u001b[0;34m[\u001b[0m\u001b[0mi\u001b[0m\u001b[0;34m]\u001b[0m\u001b[0;34m,\u001b[0m \u001b[0mtpr\u001b[0m\u001b[0;34m[\u001b[0m\u001b[0mi\u001b[0m\u001b[0;34m]\u001b[0m\u001b[0;34m,\u001b[0m \u001b[0m_\u001b[0m \u001b[0;34m=\u001b[0m \u001b[0mroc_curve\u001b[0m\u001b[0;34m(\u001b[0m\u001b[0my_test\u001b[0m\u001b[0;34m[\u001b[0m\u001b[0;34m:\u001b[0m\u001b[0;34m,\u001b[0m\u001b[0mi\u001b[0m\u001b[0;34m]\u001b[0m\u001b[0;34m,\u001b[0m \u001b[0my_pred\u001b[0m\u001b[0;34m[\u001b[0m\u001b[0;34m:\u001b[0m\u001b[0;34m,\u001b[0m\u001b[0mi\u001b[0m\u001b[0;34m]\u001b[0m\u001b[0;34m)\u001b[0m\u001b[0;34m\u001b[0m\u001b[0;34m\u001b[0m\u001b[0m\n\u001b[0m\u001b[1;32m      6\u001b[0m   \u001b[0mroc_auc\u001b[0m\u001b[0;34m[\u001b[0m\u001b[0mi\u001b[0m\u001b[0;34m]\u001b[0m \u001b[0;34m=\u001b[0m \u001b[0mauc\u001b[0m\u001b[0;34m(\u001b[0m\u001b[0mfpr\u001b[0m\u001b[0;34m[\u001b[0m\u001b[0mi\u001b[0m\u001b[0;34m]\u001b[0m\u001b[0;34m,\u001b[0m \u001b[0mtpr\u001b[0m\u001b[0;34m[\u001b[0m\u001b[0mi\u001b[0m\u001b[0;34m]\u001b[0m\u001b[0;34m)\u001b[0m\u001b[0;34m\u001b[0m\u001b[0;34m\u001b[0m\u001b[0m\n\u001b[1;32m      7\u001b[0m \u001b[0;34m\u001b[0m\u001b[0m\n",
            "\u001b[0;31mIndexError\u001b[0m: too many indices for array: array is 1-dimensional, but 2 were indexed"
          ]
        }
      ]
    },
    {
      "cell_type": "code",
      "source": [
        "fpr = dict()\n",
        "tpr = dict()\n",
        "roc_auc = dict()\n",
        "for i in range(12):\n",
        "    fpr[i], tpr[i], _ = roc_curve(y_test[i], y_score[i])\n",
        "    roc_auc[i] = auc(fpr[i], tpr[i])"
      ],
      "metadata": {
        "colab": {
          "base_uri": "https://localhost:8080/",
          "height": 217
        },
        "id": "WhGXAMT_QvPY",
        "outputId": "3f36eff1-caca-4bfa-9996-17e4615b51a4"
      },
      "execution_count": null,
      "outputs": [
        {
          "output_type": "error",
          "ename": "NameError",
          "evalue": "ignored",
          "traceback": [
            "\u001b[0;31m---------------------------------------------------------------------------\u001b[0m",
            "\u001b[0;31mNameError\u001b[0m                                 Traceback (most recent call last)",
            "\u001b[0;32m<ipython-input-51-151b26ecf43e>\u001b[0m in \u001b[0;36m<module>\u001b[0;34m()\u001b[0m\n\u001b[1;32m      3\u001b[0m \u001b[0mroc_auc\u001b[0m \u001b[0;34m=\u001b[0m \u001b[0mdict\u001b[0m\u001b[0;34m(\u001b[0m\u001b[0;34m)\u001b[0m\u001b[0;34m\u001b[0m\u001b[0;34m\u001b[0m\u001b[0m\n\u001b[1;32m      4\u001b[0m \u001b[0;32mfor\u001b[0m \u001b[0mi\u001b[0m \u001b[0;32min\u001b[0m \u001b[0mrange\u001b[0m\u001b[0;34m(\u001b[0m\u001b[0;36m12\u001b[0m\u001b[0;34m)\u001b[0m\u001b[0;34m:\u001b[0m\u001b[0;34m\u001b[0m\u001b[0;34m\u001b[0m\u001b[0m\n\u001b[0;32m----> 5\u001b[0;31m     \u001b[0mfpr\u001b[0m\u001b[0;34m[\u001b[0m\u001b[0mi\u001b[0m\u001b[0;34m]\u001b[0m\u001b[0;34m,\u001b[0m \u001b[0mtpr\u001b[0m\u001b[0;34m[\u001b[0m\u001b[0mi\u001b[0m\u001b[0;34m]\u001b[0m\u001b[0;34m,\u001b[0m \u001b[0m_\u001b[0m \u001b[0;34m=\u001b[0m \u001b[0mroc_curve\u001b[0m\u001b[0;34m(\u001b[0m\u001b[0my_test\u001b[0m\u001b[0;34m[\u001b[0m\u001b[0mi\u001b[0m\u001b[0;34m]\u001b[0m\u001b[0;34m,\u001b[0m \u001b[0my_score\u001b[0m\u001b[0;34m[\u001b[0m\u001b[0mi\u001b[0m\u001b[0;34m]\u001b[0m\u001b[0;34m)\u001b[0m\u001b[0;34m\u001b[0m\u001b[0;34m\u001b[0m\u001b[0m\n\u001b[0m\u001b[1;32m      6\u001b[0m     \u001b[0mroc_auc\u001b[0m\u001b[0;34m[\u001b[0m\u001b[0mi\u001b[0m\u001b[0;34m]\u001b[0m \u001b[0;34m=\u001b[0m \u001b[0mauc\u001b[0m\u001b[0;34m(\u001b[0m\u001b[0mfpr\u001b[0m\u001b[0;34m[\u001b[0m\u001b[0mi\u001b[0m\u001b[0;34m]\u001b[0m\u001b[0;34m,\u001b[0m \u001b[0mtpr\u001b[0m\u001b[0;34m[\u001b[0m\u001b[0mi\u001b[0m\u001b[0;34m]\u001b[0m\u001b[0;34m)\u001b[0m\u001b[0;34m\u001b[0m\u001b[0;34m\u001b[0m\u001b[0m\n",
            "\u001b[0;31mNameError\u001b[0m: name 'y_score' is not defined"
          ]
        }
      ]
    },
    {
      "cell_type": "code",
      "source": [
        "pred_prob = model.predict_proba(X_test)"
      ],
      "metadata": {
        "id": "Pi2jlbXe_wHZ"
      },
      "execution_count": null,
      "outputs": []
    }
  ]
}